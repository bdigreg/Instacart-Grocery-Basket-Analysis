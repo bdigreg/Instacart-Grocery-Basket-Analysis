{
 "cells": [
  {
   "cell_type": "markdown",
   "id": "f199a74f",
   "metadata": {},
   "source": [
    "# 4.10 TASK Part 1B"
   ]
  },
  {
   "cell_type": "markdown",
   "id": "640ceda8",
   "metadata": {},
   "source": [
    "# Contents\n",
    "\n",
    "    \n",
    "    01. Importing Libraries\n",
    "    02. Importing Data\n",
    "    03. Customer Profiling\n",
    "          Age\n",
    "          Income\n",
    "          Dependents\n",
    "          Departments\n",
    "    04. Exporting Data"
   ]
  },
  {
   "cell_type": "markdown",
   "id": "8f514a51",
   "metadata": {},
   "source": [
    "# 01. Importing Libraries"
   ]
  },
  {
   "cell_type": "code",
   "execution_count": 2,
   "id": "121aa807",
   "metadata": {},
   "outputs": [],
   "source": [
    "# Import libraries\n",
    "\n",
    "import pandas as pd\n",
    "import numpy as np\n",
    "import os\n",
    "import matplotlib.pyplot as plt\n",
    "import seaborn as sns\n",
    "import scipy"
   ]
  },
  {
   "cell_type": "markdown",
   "id": "0acc5637",
   "metadata": {},
   "source": [
    "# 02. Importing data"
   ]
  },
  {
   "cell_type": "code",
   "execution_count": 3,
   "id": "74f53f95",
   "metadata": {},
   "outputs": [],
   "source": [
    "# creating path for import\n",
    "\n",
    "path = r'/Users/bdigregorio/Desktop/CareerFoundry/' \\\n",
    "r'Data Immersion/Data Immersion 4/DI 4.2/Instacart Basket Analysis'"
   ]
  },
  {
   "cell_type": "code",
   "execution_count": 4,
   "id": "740e3e81",
   "metadata": {},
   "outputs": [
    {
     "data": {
      "text/plain": [
       "'/Users/bdigregorio/Desktop/CareerFoundry/Data Immersion/Data Immersion 4/DI 4.2/Instacart Basket Analysis'"
      ]
     },
     "execution_count": 4,
     "metadata": {},
     "output_type": "execute_result"
    }
   ],
   "source": [
    "#check path\n",
    "path"
   ]
  },
  {
   "cell_type": "code",
   "execution_count": 5,
   "id": "43caa970",
   "metadata": {},
   "outputs": [],
   "source": [
    "# importing a new Orders_products_all.pkl to be based on high activity customers\n",
    "\n",
    "Orders_products_all_3 = pd.read_pickle(os.path.join(path, '02 Data', 'Prepared Data', 'high_active_customer.pkl'))\n"
   ]
  },
  {
   "cell_type": "code",
   "execution_count": 27,
   "id": "1f194c27",
   "metadata": {
    "scrolled": true
   },
   "outputs": [
    {
     "data": {
      "text/html": [
       "<div>\n",
       "<style scoped>\n",
       "    .dataframe tbody tr th:only-of-type {\n",
       "        vertical-align: middle;\n",
       "    }\n",
       "\n",
       "    .dataframe tbody tr th {\n",
       "        vertical-align: top;\n",
       "    }\n",
       "\n",
       "    .dataframe thead th {\n",
       "        text-align: right;\n",
       "    }\n",
       "</style>\n",
       "<table border=\"1\" class=\"dataframe\">\n",
       "  <thead>\n",
       "    <tr style=\"text-align: right;\">\n",
       "      <th></th>\n",
       "      <th>user_id</th>\n",
       "      <th>first_name</th>\n",
       "      <th>last_name</th>\n",
       "      <th>gender</th>\n",
       "      <th>state</th>\n",
       "      <th>age</th>\n",
       "      <th>date_joined</th>\n",
       "      <th>number_of_dependents</th>\n",
       "      <th>family_status</th>\n",
       "      <th>income</th>\n",
       "      <th>...</th>\n",
       "      <th>busiest_days</th>\n",
       "      <th>Most orders</th>\n",
       "      <th>max_order</th>\n",
       "      <th>loyalty_flag</th>\n",
       "      <th>avg_spent</th>\n",
       "      <th>spender_type</th>\n",
       "      <th>median_order_days</th>\n",
       "      <th>customer_type</th>\n",
       "      <th>Region</th>\n",
       "      <th>customer_activity</th>\n",
       "    </tr>\n",
       "  </thead>\n",
       "  <tbody>\n",
       "    <tr>\n",
       "      <th>0</th>\n",
       "      <td>26711</td>\n",
       "      <td>Deborah</td>\n",
       "      <td>Esquivel</td>\n",
       "      <td>Female</td>\n",
       "      <td>Missouri</td>\n",
       "      <td>48</td>\n",
       "      <td>1/1/2017</td>\n",
       "      <td>3</td>\n",
       "      <td>married</td>\n",
       "      <td>165665</td>\n",
       "      <td>...</td>\n",
       "      <td>Regularly busy</td>\n",
       "      <td>Fewest orders</td>\n",
       "      <td>9.0</td>\n",
       "      <td>New customer</td>\n",
       "      <td>7.988889</td>\n",
       "      <td>Low spender</td>\n",
       "      <td>20.0</td>\n",
       "      <td>Regular customer</td>\n",
       "      <td>Midwest</td>\n",
       "      <td>High_activity</td>\n",
       "    </tr>\n",
       "    <tr>\n",
       "      <th>1</th>\n",
       "      <td>26711</td>\n",
       "      <td>Deborah</td>\n",
       "      <td>Esquivel</td>\n",
       "      <td>Female</td>\n",
       "      <td>Missouri</td>\n",
       "      <td>48</td>\n",
       "      <td>1/1/2017</td>\n",
       "      <td>3</td>\n",
       "      <td>married</td>\n",
       "      <td>165665</td>\n",
       "      <td>...</td>\n",
       "      <td>Regularly busy</td>\n",
       "      <td>Most orders</td>\n",
       "      <td>9.0</td>\n",
       "      <td>New customer</td>\n",
       "      <td>7.988889</td>\n",
       "      <td>Low spender</td>\n",
       "      <td>20.0</td>\n",
       "      <td>Regular customer</td>\n",
       "      <td>Midwest</td>\n",
       "      <td>High_activity</td>\n",
       "    </tr>\n",
       "    <tr>\n",
       "      <th>2</th>\n",
       "      <td>26711</td>\n",
       "      <td>Deborah</td>\n",
       "      <td>Esquivel</td>\n",
       "      <td>Female</td>\n",
       "      <td>Missouri</td>\n",
       "      <td>48</td>\n",
       "      <td>1/1/2017</td>\n",
       "      <td>3</td>\n",
       "      <td>married</td>\n",
       "      <td>165665</td>\n",
       "      <td>...</td>\n",
       "      <td>Regularly busy</td>\n",
       "      <td>Most orders</td>\n",
       "      <td>9.0</td>\n",
       "      <td>New customer</td>\n",
       "      <td>7.988889</td>\n",
       "      <td>Low spender</td>\n",
       "      <td>20.0</td>\n",
       "      <td>Regular customer</td>\n",
       "      <td>Midwest</td>\n",
       "      <td>High_activity</td>\n",
       "    </tr>\n",
       "    <tr>\n",
       "      <th>3</th>\n",
       "      <td>26711</td>\n",
       "      <td>Deborah</td>\n",
       "      <td>Esquivel</td>\n",
       "      <td>Female</td>\n",
       "      <td>Missouri</td>\n",
       "      <td>48</td>\n",
       "      <td>1/1/2017</td>\n",
       "      <td>3</td>\n",
       "      <td>married</td>\n",
       "      <td>165665</td>\n",
       "      <td>...</td>\n",
       "      <td>Regularly busy</td>\n",
       "      <td>Fewest orders</td>\n",
       "      <td>9.0</td>\n",
       "      <td>New customer</td>\n",
       "      <td>7.988889</td>\n",
       "      <td>High spender</td>\n",
       "      <td>20.0</td>\n",
       "      <td>Regular customer</td>\n",
       "      <td>Midwest</td>\n",
       "      <td>High_activity</td>\n",
       "    </tr>\n",
       "    <tr>\n",
       "      <th>4</th>\n",
       "      <td>26711</td>\n",
       "      <td>Deborah</td>\n",
       "      <td>Esquivel</td>\n",
       "      <td>Female</td>\n",
       "      <td>Missouri</td>\n",
       "      <td>48</td>\n",
       "      <td>1/1/2017</td>\n",
       "      <td>3</td>\n",
       "      <td>married</td>\n",
       "      <td>165665</td>\n",
       "      <td>...</td>\n",
       "      <td>Regularly busy</td>\n",
       "      <td>Most orders</td>\n",
       "      <td>9.0</td>\n",
       "      <td>New customer</td>\n",
       "      <td>7.988889</td>\n",
       "      <td>High spender</td>\n",
       "      <td>20.0</td>\n",
       "      <td>Regular customer</td>\n",
       "      <td>Midwest</td>\n",
       "      <td>High_activity</td>\n",
       "    </tr>\n",
       "  </tbody>\n",
       "</table>\n",
       "<p>5 rows × 34 columns</p>\n",
       "</div>"
      ],
      "text/plain": [
       "   user_id first_name last_name  gender     state  age date_joined  \\\n",
       "0    26711    Deborah  Esquivel  Female  Missouri   48    1/1/2017   \n",
       "1    26711    Deborah  Esquivel  Female  Missouri   48    1/1/2017   \n",
       "2    26711    Deborah  Esquivel  Female  Missouri   48    1/1/2017   \n",
       "3    26711    Deborah  Esquivel  Female  Missouri   48    1/1/2017   \n",
       "4    26711    Deborah  Esquivel  Female  Missouri   48    1/1/2017   \n",
       "\n",
       "   number_of_dependents family_status  income  ...    busiest_days  \\\n",
       "0                     3       married  165665  ...  Regularly busy   \n",
       "1                     3       married  165665  ...  Regularly busy   \n",
       "2                     3       married  165665  ...  Regularly busy   \n",
       "3                     3       married  165665  ...  Regularly busy   \n",
       "4                     3       married  165665  ...  Regularly busy   \n",
       "\n",
       "     Most orders  max_order  loyalty_flag  avg_spent  spender_type  \\\n",
       "0  Fewest orders        9.0  New customer   7.988889   Low spender   \n",
       "1    Most orders        9.0  New customer   7.988889   Low spender   \n",
       "2    Most orders        9.0  New customer   7.988889   Low spender   \n",
       "3  Fewest orders        9.0  New customer   7.988889  High spender   \n",
       "4    Most orders        9.0  New customer   7.988889  High spender   \n",
       "\n",
       "   median_order_days     customer_type   Region  customer_activity  \n",
       "0               20.0  Regular customer  Midwest      High_activity  \n",
       "1               20.0  Regular customer  Midwest      High_activity  \n",
       "2               20.0  Regular customer  Midwest      High_activity  \n",
       "3               20.0  Regular customer  Midwest      High_activity  \n",
       "4               20.0  Regular customer  Midwest      High_activity  \n",
       "\n",
       "[5 rows x 34 columns]"
      ]
     },
     "execution_count": 27,
     "metadata": {},
     "output_type": "execute_result"
    }
   ],
   "source": [
    "# checking import\n",
    "Orders_products_all_3.head()"
   ]
  },
  {
   "cell_type": "code",
   "execution_count": 6,
   "id": "121e1680",
   "metadata": {},
   "outputs": [],
   "source": [
    "# importing 'department' data for profiling\n",
    "departments_wrangled = pd.read_csv(os.path.join(path, '02 Data', 'Prepared Data', 'departments_wrangled.csv'), index_col = False)\n"
   ]
  },
  {
   "cell_type": "markdown",
   "id": "d0daf0a0",
   "metadata": {},
   "source": [
    "# TASK CONT'D "
   ]
  },
  {
   "cell_type": "markdown",
   "id": "581d510c",
   "metadata": {},
   "source": [
    "# 03.  Customer Profiling\n",
    "Task part 1 steps 5 and 6"
   ]
  },
  {
   "cell_type": "code",
   "execution_count": 29,
   "id": "118c373f",
   "metadata": {},
   "outputs": [],
   "source": [
    "# Task step 5: Create a profiling variable based on age, income, certain goods in the “department_id” column, and number of dependents.\n",
    "# Task step 6: Create appropriate visuals to show distribution of profiles\n"
   ]
  },
  {
   "cell_type": "code",
   "execution_count": 30,
   "id": "c4621767",
   "metadata": {},
   "outputs": [],
   "source": [
    "# preparing Orders_products_all_3 and departments_wrangled merge"
   ]
  },
  {
   "cell_type": "code",
   "execution_count": 31,
   "id": "9a6c79aa",
   "metadata": {},
   "outputs": [
    {
     "data": {
      "text/html": [
       "<div>\n",
       "<style scoped>\n",
       "    .dataframe tbody tr th:only-of-type {\n",
       "        vertical-align: middle;\n",
       "    }\n",
       "\n",
       "    .dataframe tbody tr th {\n",
       "        vertical-align: top;\n",
       "    }\n",
       "\n",
       "    .dataframe thead th {\n",
       "        text-align: right;\n",
       "    }\n",
       "</style>\n",
       "<table border=\"1\" class=\"dataframe\">\n",
       "  <thead>\n",
       "    <tr style=\"text-align: right;\">\n",
       "      <th></th>\n",
       "      <th>Unnamed: 0</th>\n",
       "      <th>department</th>\n",
       "    </tr>\n",
       "  </thead>\n",
       "  <tbody>\n",
       "    <tr>\n",
       "      <th>0</th>\n",
       "      <td>1</td>\n",
       "      <td>frozen</td>\n",
       "    </tr>\n",
       "    <tr>\n",
       "      <th>1</th>\n",
       "      <td>2</td>\n",
       "      <td>other</td>\n",
       "    </tr>\n",
       "    <tr>\n",
       "      <th>2</th>\n",
       "      <td>3</td>\n",
       "      <td>bakery</td>\n",
       "    </tr>\n",
       "    <tr>\n",
       "      <th>3</th>\n",
       "      <td>4</td>\n",
       "      <td>produce</td>\n",
       "    </tr>\n",
       "    <tr>\n",
       "      <th>4</th>\n",
       "      <td>5</td>\n",
       "      <td>alcohol</td>\n",
       "    </tr>\n",
       "    <tr>\n",
       "      <th>5</th>\n",
       "      <td>6</td>\n",
       "      <td>international</td>\n",
       "    </tr>\n",
       "    <tr>\n",
       "      <th>6</th>\n",
       "      <td>7</td>\n",
       "      <td>beverages</td>\n",
       "    </tr>\n",
       "    <tr>\n",
       "      <th>7</th>\n",
       "      <td>8</td>\n",
       "      <td>pets</td>\n",
       "    </tr>\n",
       "    <tr>\n",
       "      <th>8</th>\n",
       "      <td>9</td>\n",
       "      <td>dry goods pasta</td>\n",
       "    </tr>\n",
       "    <tr>\n",
       "      <th>9</th>\n",
       "      <td>10</td>\n",
       "      <td>bulk</td>\n",
       "    </tr>\n",
       "    <tr>\n",
       "      <th>10</th>\n",
       "      <td>11</td>\n",
       "      <td>personal care</td>\n",
       "    </tr>\n",
       "    <tr>\n",
       "      <th>11</th>\n",
       "      <td>12</td>\n",
       "      <td>meat seafood</td>\n",
       "    </tr>\n",
       "    <tr>\n",
       "      <th>12</th>\n",
       "      <td>13</td>\n",
       "      <td>pantry</td>\n",
       "    </tr>\n",
       "    <tr>\n",
       "      <th>13</th>\n",
       "      <td>14</td>\n",
       "      <td>breakfast</td>\n",
       "    </tr>\n",
       "    <tr>\n",
       "      <th>14</th>\n",
       "      <td>15</td>\n",
       "      <td>canned goods</td>\n",
       "    </tr>\n",
       "    <tr>\n",
       "      <th>15</th>\n",
       "      <td>16</td>\n",
       "      <td>dairy eggs</td>\n",
       "    </tr>\n",
       "    <tr>\n",
       "      <th>16</th>\n",
       "      <td>17</td>\n",
       "      <td>household</td>\n",
       "    </tr>\n",
       "    <tr>\n",
       "      <th>17</th>\n",
       "      <td>18</td>\n",
       "      <td>babies</td>\n",
       "    </tr>\n",
       "    <tr>\n",
       "      <th>18</th>\n",
       "      <td>19</td>\n",
       "      <td>snacks</td>\n",
       "    </tr>\n",
       "    <tr>\n",
       "      <th>19</th>\n",
       "      <td>20</td>\n",
       "      <td>deli</td>\n",
       "    </tr>\n",
       "    <tr>\n",
       "      <th>20</th>\n",
       "      <td>21</td>\n",
       "      <td>missing</td>\n",
       "    </tr>\n",
       "  </tbody>\n",
       "</table>\n",
       "</div>"
      ],
      "text/plain": [
       "    Unnamed: 0       department\n",
       "0            1           frozen\n",
       "1            2            other\n",
       "2            3           bakery\n",
       "3            4          produce\n",
       "4            5          alcohol\n",
       "5            6    international\n",
       "6            7        beverages\n",
       "7            8             pets\n",
       "8            9  dry goods pasta\n",
       "9           10             bulk\n",
       "10          11    personal care\n",
       "11          12     meat seafood\n",
       "12          13           pantry\n",
       "13          14        breakfast\n",
       "14          15     canned goods\n",
       "15          16       dairy eggs\n",
       "16          17        household\n",
       "17          18           babies\n",
       "18          19           snacks\n",
       "19          20             deli\n",
       "20          21          missing"
      ]
     },
     "execution_count": 31,
     "metadata": {},
     "output_type": "execute_result"
    }
   ],
   "source": [
    "departments_wrangled"
   ]
  },
  {
   "cell_type": "code",
   "execution_count": 7,
   "id": "6ccac99b",
   "metadata": {},
   "outputs": [],
   "source": [
    "# renamimng column 'Unnamed: 0' to 'department_id'\n",
    "departments_wrangled.rename(columns = {'Unnamed: 0':'department_id'},inplace = True)"
   ]
  },
  {
   "cell_type": "code",
   "execution_count": 33,
   "id": "280192ce",
   "metadata": {},
   "outputs": [
    {
     "data": {
      "text/html": [
       "<div>\n",
       "<style scoped>\n",
       "    .dataframe tbody tr th:only-of-type {\n",
       "        vertical-align: middle;\n",
       "    }\n",
       "\n",
       "    .dataframe tbody tr th {\n",
       "        vertical-align: top;\n",
       "    }\n",
       "\n",
       "    .dataframe thead th {\n",
       "        text-align: right;\n",
       "    }\n",
       "</style>\n",
       "<table border=\"1\" class=\"dataframe\">\n",
       "  <thead>\n",
       "    <tr style=\"text-align: right;\">\n",
       "      <th></th>\n",
       "      <th>department_id</th>\n",
       "      <th>department</th>\n",
       "    </tr>\n",
       "  </thead>\n",
       "  <tbody>\n",
       "    <tr>\n",
       "      <th>0</th>\n",
       "      <td>1</td>\n",
       "      <td>frozen</td>\n",
       "    </tr>\n",
       "    <tr>\n",
       "      <th>1</th>\n",
       "      <td>2</td>\n",
       "      <td>other</td>\n",
       "    </tr>\n",
       "    <tr>\n",
       "      <th>2</th>\n",
       "      <td>3</td>\n",
       "      <td>bakery</td>\n",
       "    </tr>\n",
       "    <tr>\n",
       "      <th>3</th>\n",
       "      <td>4</td>\n",
       "      <td>produce</td>\n",
       "    </tr>\n",
       "    <tr>\n",
       "      <th>4</th>\n",
       "      <td>5</td>\n",
       "      <td>alcohol</td>\n",
       "    </tr>\n",
       "    <tr>\n",
       "      <th>5</th>\n",
       "      <td>6</td>\n",
       "      <td>international</td>\n",
       "    </tr>\n",
       "    <tr>\n",
       "      <th>6</th>\n",
       "      <td>7</td>\n",
       "      <td>beverages</td>\n",
       "    </tr>\n",
       "    <tr>\n",
       "      <th>7</th>\n",
       "      <td>8</td>\n",
       "      <td>pets</td>\n",
       "    </tr>\n",
       "    <tr>\n",
       "      <th>8</th>\n",
       "      <td>9</td>\n",
       "      <td>dry goods pasta</td>\n",
       "    </tr>\n",
       "    <tr>\n",
       "      <th>9</th>\n",
       "      <td>10</td>\n",
       "      <td>bulk</td>\n",
       "    </tr>\n",
       "    <tr>\n",
       "      <th>10</th>\n",
       "      <td>11</td>\n",
       "      <td>personal care</td>\n",
       "    </tr>\n",
       "    <tr>\n",
       "      <th>11</th>\n",
       "      <td>12</td>\n",
       "      <td>meat seafood</td>\n",
       "    </tr>\n",
       "    <tr>\n",
       "      <th>12</th>\n",
       "      <td>13</td>\n",
       "      <td>pantry</td>\n",
       "    </tr>\n",
       "    <tr>\n",
       "      <th>13</th>\n",
       "      <td>14</td>\n",
       "      <td>breakfast</td>\n",
       "    </tr>\n",
       "    <tr>\n",
       "      <th>14</th>\n",
       "      <td>15</td>\n",
       "      <td>canned goods</td>\n",
       "    </tr>\n",
       "    <tr>\n",
       "      <th>15</th>\n",
       "      <td>16</td>\n",
       "      <td>dairy eggs</td>\n",
       "    </tr>\n",
       "    <tr>\n",
       "      <th>16</th>\n",
       "      <td>17</td>\n",
       "      <td>household</td>\n",
       "    </tr>\n",
       "    <tr>\n",
       "      <th>17</th>\n",
       "      <td>18</td>\n",
       "      <td>babies</td>\n",
       "    </tr>\n",
       "    <tr>\n",
       "      <th>18</th>\n",
       "      <td>19</td>\n",
       "      <td>snacks</td>\n",
       "    </tr>\n",
       "    <tr>\n",
       "      <th>19</th>\n",
       "      <td>20</td>\n",
       "      <td>deli</td>\n",
       "    </tr>\n",
       "    <tr>\n",
       "      <th>20</th>\n",
       "      <td>21</td>\n",
       "      <td>missing</td>\n",
       "    </tr>\n",
       "  </tbody>\n",
       "</table>\n",
       "</div>"
      ],
      "text/plain": [
       "    department_id       department\n",
       "0               1           frozen\n",
       "1               2            other\n",
       "2               3           bakery\n",
       "3               4          produce\n",
       "4               5          alcohol\n",
       "5               6    international\n",
       "6               7        beverages\n",
       "7               8             pets\n",
       "8               9  dry goods pasta\n",
       "9              10             bulk\n",
       "10             11    personal care\n",
       "11             12     meat seafood\n",
       "12             13           pantry\n",
       "13             14        breakfast\n",
       "14             15     canned goods\n",
       "15             16       dairy eggs\n",
       "16             17        household\n",
       "17             18           babies\n",
       "18             19           snacks\n",
       "19             20             deli\n",
       "20             21          missing"
      ]
     },
     "execution_count": 33,
     "metadata": {},
     "output_type": "execute_result"
    }
   ],
   "source": [
    "departments_wrangled"
   ]
  },
  {
   "cell_type": "code",
   "execution_count": 8,
   "id": "66d586eb",
   "metadata": {},
   "outputs": [],
   "source": [
    "# merge Orders_products_all_3 with deprtments_wrangled\n",
    "Opa = Orders_products_all_3.merge(departments_wrangled, on = ['department_id'], indicator = True)\n"
   ]
  },
  {
   "cell_type": "code",
   "execution_count": null,
   "id": "35b5ab97",
   "metadata": {
    "scrolled": false
   },
   "outputs": [],
   "source": [
    "Opa.info()"
   ]
  },
  {
   "cell_type": "markdown",
   "id": "eb31ca62",
   "metadata": {},
   "source": [
    "# Age"
   ]
  },
  {
   "cell_type": "code",
   "execution_count": null,
   "id": "b8e759e2",
   "metadata": {},
   "outputs": [],
   "source": [
    "Opa['age'].value_counts()"
   ]
  },
  {
   "cell_type": "code",
   "execution_count": null,
   "id": "c8e5e21a",
   "metadata": {},
   "outputs": [],
   "source": [
    "Opa['age'].describe()"
   ]
  },
  {
   "cell_type": "code",
   "execution_count": null,
   "id": "f1251bf8",
   "metadata": {},
   "outputs": [],
   "source": [
    "Opa['age'].max()"
   ]
  },
  {
   "cell_type": "markdown",
   "id": "2f418943",
   "metadata": {},
   "source": [
    "The average age is 50,\n",
    "The minimun age is 18,\n",
    "The max age is 80\n",
    "\n",
    "1st quartile is age 18 to 33,\n",
    "2nd quartile is age 33 to 65,\n",
    "3rd quartile is age 65 to 85"
   ]
  },
  {
   "cell_type": "code",
   "execution_count": 9,
   "id": "ea11ac8f",
   "metadata": {},
   "outputs": [],
   "source": [
    "# creating age group flags\n",
    "Opa.loc[Opa['age'] >= 65, 'age_group'] = 'Older customer'"
   ]
  },
  {
   "cell_type": "code",
   "execution_count": 10,
   "id": "e0afcd0c",
   "metadata": {},
   "outputs": [],
   "source": [
    "Opa.loc[(Opa['age'] >= 34) &  (Opa['age'] <= 64), 'age_group'] = 'Middle age'"
   ]
  },
  {
   "cell_type": "code",
   "execution_count": 11,
   "id": "c70ea198",
   "metadata": {},
   "outputs": [],
   "source": [
    "Opa.loc[(Opa['age'] >= 18) &  (Opa['age'] <= 34), 'age_group'] = 'Young adult'"
   ]
  },
  {
   "cell_type": "code",
   "execution_count": 12,
   "id": "e72f4a28",
   "metadata": {},
   "outputs": [
    {
     "data": {
      "text/plain": [
       "Middle age        14892924\n",
       "Young adult        8451744\n",
       "Older customer     8402256\n",
       "Name: age_group, dtype: int64"
      ]
     },
     "execution_count": 12,
     "metadata": {},
     "output_type": "execute_result"
    }
   ],
   "source": [
    "Opa['age_group'].value_counts(dropna = False)"
   ]
  },
  {
   "cell_type": "code",
   "execution_count": 13,
   "id": "65755e28",
   "metadata": {},
   "outputs": [
    {
     "data": {
      "image/png": "[encoded data removed]",
      "text/plain": [
       "<Figure size 600x400 with 1 Axes>"
      ]
     },
     "metadata": {},
     "output_type": "display_data"
    }
   ],
   "source": [
    "plt.figure(figsize=(6, 4))\n",
    "pie_age_groups = Opa['age_group'].value_counts().plot.pie(autopct='%1.0f%%', startangle=200,)\n",
    "plt.axis('equal')\n",
    "plt.title('Orders by Age Group')\n",
    "\n",
    "plt.show()"
   ]
  },
  {
   "cell_type": "code",
   "execution_count": 14,
   "id": "bb824b38",
   "metadata": {},
   "outputs": [],
   "source": [
    "# exporting pie_age_groups\n",
    "pie_age_groups.figure.savefig(os.path.join(path, '04 Analysis', 'Visualizations', 'pie_age_group.png'))\n"
   ]
  },
  {
   "cell_type": "code",
   "execution_count": null,
   "id": "4313f7a2",
   "metadata": {},
   "outputs": [],
   "source": []
  },
  {
   "cell_type": "markdown",
   "id": "ad7e5297",
   "metadata": {},
   "source": [
    "# Income\n"
   ]
  },
  {
   "cell_type": "code",
   "execution_count": null,
   "id": "2b2eb476",
   "metadata": {},
   "outputs": [],
   "source": [
    "Opa['income'].describe()"
   ]
  },
  {
   "cell_type": "markdown",
   "id": "24de491a",
   "metadata": {},
   "source": [
    "This gives us quartiles on income. \n",
    "\n",
    "I will make 4 levels of based on these amounts\n",
    "1st: income is 25,903 to 67,156. 2nd: 67,156 to 96,696. 3rd: 96,696 to 127,988 4th: >127,988"
   ]
  },
  {
   "cell_type": "code",
   "execution_count": 20,
   "id": "4832ac99",
   "metadata": {},
   "outputs": [],
   "source": [
    "# creating income amount flags\n",
    "\n",
    "Opa.loc[Opa['income'] >= 125000, 'income_level'] = 'High income'\n",
    "Opa.loc[(Opa['income'] >= 96500) &  (Opa['income'] <= 124999), 'income_level'] = 'Upper-middle'\n",
    "Opa.loc[(Opa['income'] >= 67000) &  (Opa['income'] <= 96499), 'income_level'] = 'Lower-middle'\n",
    "Opa.loc[(Opa['income'] >= 25000) &  (Opa['income'] <= 66999), 'income_level'] = 'Lower'\n"
   ]
  },
  {
   "cell_type": "code",
   "execution_count": null,
   "id": "c8858cdd",
   "metadata": {},
   "outputs": [],
   "source": [
    "# check new column\n",
    "Opa['income_level'].value_counts(dropna = False)"
   ]
  },
  {
   "cell_type": "code",
   "execution_count": 27,
   "id": "02bc9d47",
   "metadata": {},
   "outputs": [
    {
     "data": {
      "text/plain": [
       "(array([0, 1, 2, 3]),\n",
       " [Text(0, 0, 'High income'),\n",
       "  Text(1, 0, 'Lower'),\n",
       "  Text(2, 0, 'Lower-middle'),\n",
       "  Text(3, 0, 'Upper-middle')])"
      ]
     },
     "execution_count": 27,
     "metadata": {},
     "output_type": "execute_result"
    },
    {
     "data": {
      "image/png": "[encoded data removed]",
      "text/plain": [
       "<Figure size 640x480 with 1 Axes>"
      ]
     },
     "metadata": {},
     "output_type": "display_data"
    }
   ],
   "source": [
    "bar_income_level = Opa['income_level'].value_counts().sort_index().plot.bar(color = ['green', 'red', 'purple', 'orange'])\n",
    "plt.title('Income Levels Distribution')\n",
    "plt.xticks(rotation=0)"
   ]
  },
  {
   "cell_type": "code",
   "execution_count": 28,
   "id": "1981a689",
   "metadata": {},
   "outputs": [],
   "source": [
    "# exporting bar_income_level\n",
    "bar_income_level.figure.savefig(os.path.join(path, '04 Analysis', 'Visualizations', 'bar_income_level.png'))"
   ]
  },
  {
   "cell_type": "markdown",
   "id": "566374d4",
   "metadata": {},
   "source": [
    "# Dependents"
   ]
  },
  {
   "cell_type": "code",
   "execution_count": null,
   "id": "6d32df61",
   "metadata": {},
   "outputs": [],
   "source": [
    "Opa['family_status'].value_counts()"
   ]
  },
  {
   "cell_type": "code",
   "execution_count": null,
   "id": "5b253387",
   "metadata": {},
   "outputs": [],
   "source": [
    "Opa['number_of_dependents'].value_counts()"
   ]
  },
  {
   "cell_type": "code",
   "execution_count": null,
   "id": "755003b4",
   "metadata": {},
   "outputs": [],
   "source": [
    "# creating \"dependents\" column\n",
    "Opa.loc[Opa['number_of_dependents']==0, 'dependents'] = 'NO dependents' "
   ]
  },
  {
   "cell_type": "code",
   "execution_count": null,
   "id": "8507b34a",
   "metadata": {},
   "outputs": [],
   "source": [
    "Opa.loc[Opa['number_of_dependents']!=0, 'dependents'] = 'HAS dependents' "
   ]
  },
  {
   "cell_type": "code",
   "execution_count": null,
   "id": "0ad31e9f",
   "metadata": {},
   "outputs": [],
   "source": [
    "Opa['dependents'].value_counts()"
   ]
  },
  {
   "cell_type": "code",
   "execution_count": null,
   "id": "9723a4f7",
   "metadata": {},
   "outputs": [],
   "source": [
    "plt.figure(figsize=(7, 4))\n",
    "pie_Customers_with_dependents = Opa['dependents'].value_counts().plot.pie(autopct='%1.0f%%', startangle=200,\n",
    " colors= ['green', 'orange'])\n",
    "plt.axis('equal')\n",
    "plt.title('Customers with dependents')\n",
    "plt.show()"
   ]
  },
  {
   "cell_type": "code",
   "execution_count": null,
   "id": "69cd74b7",
   "metadata": {},
   "outputs": [],
   "source": [
    "# export pie_'Customer with dependents'\n",
    "\n",
    "pie_Customers_with_dependents.figure.savefig(os.path.join(path, '04 Analysis', 'Visualizations', 'pie_Customers_with_dependents.png'))\n"
   ]
  },
  {
   "cell_type": "markdown",
   "id": "9b73a5b3",
   "metadata": {},
   "source": [
    "# Department"
   ]
  },
  {
   "cell_type": "code",
   "execution_count": null,
   "id": "f48aaad0",
   "metadata": {},
   "outputs": [],
   "source": [
    "Opa['department'].value_counts()"
   ]
  },
  {
   "cell_type": "code",
   "execution_count": null,
   "id": "9b7b0345",
   "metadata": {},
   "outputs": [],
   "source": [
    "Opa.head()"
   ]
  },
  {
   "cell_type": "code",
   "execution_count": null,
   "id": "a0e9d97a",
   "metadata": {},
   "outputs": [],
   "source": [
    "# Create a bar chart\n",
    "\n",
    "bar_department_chart = Opa['department'].value_counts().plot.barh(color ='orange')\n",
    "plt.title('Popularity of Department Orders')"
   ]
  },
  {
   "cell_type": "code",
   "execution_count": null,
   "id": "95ee530e",
   "metadata": {},
   "outputs": [],
   "source": [
    "Opa['department'].value_counts(dropna = False)"
   ]
  },
  {
   "cell_type": "code",
   "execution_count": null,
   "id": "863d73e7",
   "metadata": {},
   "outputs": [],
   "source": [
    "# exporting bar_Pop_of_dept\n",
    "bar_department_chart.figure.savefig(os.path.join(path, '04 Analysis', 'Visualizations', 'bar_Pop_of_dept.png'))"
   ]
  },
  {
   "cell_type": "markdown",
   "id": "989769f0",
   "metadata": {},
   "source": [
    "# baby-product buyers"
   ]
  },
  {
   "cell_type": "code",
   "execution_count": null,
   "id": "9f4bf18a",
   "metadata": {},
   "outputs": [],
   "source": [
    "Opa.loc[Opa['department_id']==18, 'baby_product_buyer'] = 'baby product buyer'\n",
    "Opa.loc[Opa['department_id']!=18, 'baby_product_buyer'] = 'NOT a baby product buyer'"
   ]
  },
  {
   "cell_type": "code",
   "execution_count": null,
   "id": "e0d0fcc3",
   "metadata": {},
   "outputs": [],
   "source": [
    "Opa['baby_product_buyer'].value_counts()"
   ]
  },
  {
   "cell_type": "code",
   "execution_count": null,
   "id": "22c38aab",
   "metadata": {},
   "outputs": [],
   "source": [
    "plt.figure(figsize=(9, 4))\n",
    "pie_Buyers_of_baby_products = Opa['baby_product_buyer'].value_counts().plot.pie(autopct='%1.0f%%', startangle=0,\n",
    " colors= ['teal', 'orange'])\n",
    "plt.axis('equal')\n",
    "plt.title('Buyers of baby products')\n",
    "plt.show()"
   ]
  },
  {
   "cell_type": "code",
   "execution_count": null,
   "id": "4f44212d",
   "metadata": {},
   "outputs": [],
   "source": [
    "# export pie_'Buyers of baby products'\n",
    "\n",
    "pie_Buyers_of_baby_products.figure.savefig(os.path.join(path, '04 Analysis', 'Visualizations', 'pie_Buyers_of_baby_products.png'))\n"
   ]
  },
  {
   "cell_type": "markdown",
   "id": "99d8c75e",
   "metadata": {},
   "source": [
    "# Age group orders by day"
   ]
  },
  {
   "cell_type": "code",
   "execution_count": 15,
   "id": "c3ba03a3",
   "metadata": {},
   "outputs": [],
   "source": [
    "# profiling age group by orders_day_of-the_week\n",
    "age_order_days =pd.crosstab(Opa['orders_day_of_the_week'], Opa['age_group'], dropna = False)"
   ]
  },
  {
   "cell_type": "code",
   "execution_count": 16,
   "id": "680431c3",
   "metadata": {},
   "outputs": [
    {
     "data": {
      "text/html": [
       "<div>\n",
       "<style scoped>\n",
       "    .dataframe tbody tr th:only-of-type {\n",
       "        vertical-align: middle;\n",
       "    }\n",
       "\n",
       "    .dataframe tbody tr th {\n",
       "        vertical-align: top;\n",
       "    }\n",
       "\n",
       "    .dataframe thead th {\n",
       "        text-align: right;\n",
       "    }\n",
       "</style>\n",
       "<table border=\"1\" class=\"dataframe\">\n",
       "  <thead>\n",
       "    <tr style=\"text-align: right;\">\n",
       "      <th>age_group</th>\n",
       "      <th>Middle age</th>\n",
       "      <th>Older customer</th>\n",
       "      <th>Young adult</th>\n",
       "    </tr>\n",
       "    <tr>\n",
       "      <th>orders_day_of_the_week</th>\n",
       "      <th></th>\n",
       "      <th></th>\n",
       "      <th></th>\n",
       "    </tr>\n",
       "  </thead>\n",
       "  <tbody>\n",
       "    <tr>\n",
       "      <th>0.0</th>\n",
       "      <td>2842470</td>\n",
       "      <td>1608359</td>\n",
       "      <td>1618400</td>\n",
       "    </tr>\n",
       "    <tr>\n",
       "      <th>1.0</th>\n",
       "      <td>2599649</td>\n",
       "      <td>1453259</td>\n",
       "      <td>1492941</td>\n",
       "    </tr>\n",
       "    <tr>\n",
       "      <th>2.0</th>\n",
       "      <td>1942564</td>\n",
       "      <td>1091546</td>\n",
       "      <td>1091494</td>\n",
       "    </tr>\n",
       "    <tr>\n",
       "      <th>3.0</th>\n",
       "      <td>1764399</td>\n",
       "      <td>1002881</td>\n",
       "      <td>997027</td>\n",
       "    </tr>\n",
       "    <tr>\n",
       "      <th>4.0</th>\n",
       "      <td>1739983</td>\n",
       "      <td>979172</td>\n",
       "      <td>992241</td>\n",
       "    </tr>\n",
       "    <tr>\n",
       "      <th>5.0</th>\n",
       "      <td>1937821</td>\n",
       "      <td>1091784</td>\n",
       "      <td>1098639</td>\n",
       "    </tr>\n",
       "    <tr>\n",
       "      <th>6.0</th>\n",
       "      <td>2066038</td>\n",
       "      <td>1175255</td>\n",
       "      <td>1161002</td>\n",
       "    </tr>\n",
       "  </tbody>\n",
       "</table>\n",
       "</div>"
      ],
      "text/plain": [
       "age_group               Middle age  Older customer  Young adult\n",
       "orders_day_of_the_week                                         \n",
       "0.0                        2842470         1608359      1618400\n",
       "1.0                        2599649         1453259      1492941\n",
       "2.0                        1942564         1091546      1091494\n",
       "3.0                        1764399         1002881       997027\n",
       "4.0                        1739983          979172       992241\n",
       "5.0                        1937821         1091784      1098639\n",
       "6.0                        2066038         1175255      1161002"
      ]
     },
     "execution_count": 16,
     "metadata": {},
     "output_type": "execute_result"
    }
   ],
   "source": [
    "age_order_days"
   ]
  },
  {
   "cell_type": "code",
   "execution_count": 17,
   "id": "a95f78ce",
   "metadata": {},
   "outputs": [],
   "source": [
    "# rename days of the week\n"
   ]
  },
  {
   "cell_type": "code",
   "execution_count": 18,
   "id": "c2649011",
   "metadata": {},
   "outputs": [
    {
     "data": {
      "image/png": "[encoded data removed]",
      "text/plain": [
       "<Figure size 640x480 with 1 Axes>"
      ]
     },
     "metadata": {},
     "output_type": "display_data"
    }
   ],
   "source": [
    "# create bar\n",
    "bar_age_order_days = age_order_days.plot.bar()\n",
    "plt.title('Order days by age groups')\n",
    "plt.legend(loc='center left', bbox_to_anchor=(1.0, 0.5))\n",
    "\n",
    "# Define your new x-axis labels\n",
    "new_labels = ['Sat', 'Sun', 'Mon','Tues', 'Wed', 'Thur', 'Fri']  # Replace with your desired labels\n",
    "\n",
    "# Set the new x-axis labels\n",
    "bar_age_order_days.set_xticklabels(new_labels)\n",
    "plt.tight_layout()"
   ]
  },
  {
   "cell_type": "code",
   "execution_count": 19,
   "id": "f7cd6822",
   "metadata": {},
   "outputs": [],
   "source": [
    "# export bar_age_order_days'\n",
    "\n",
    "bar_age_order_days.figure.savefig(os.path.join(path, '04 Analysis', 'Visualizations', 'bar_age_order_days.png'))"
   ]
  },
  {
   "cell_type": "markdown",
   "id": "bbcae533",
   "metadata": {},
   "source": [
    "# Income level orders by day"
   ]
  },
  {
   "cell_type": "code",
   "execution_count": 24,
   "id": "7614f7cc",
   "metadata": {},
   "outputs": [],
   "source": [
    "# profiling income level by orders_day_of-the_week\n",
    "income_order_days =pd.crosstab(Opa['orders_day_of_the_week'], Opa['income_level'], dropna = False)"
   ]
  },
  {
   "cell_type": "code",
   "execution_count": 49,
   "id": "e78a1bba",
   "metadata": {},
   "outputs": [
    {
     "data": {
      "text/html": [
       "<div>\n",
       "<style scoped>\n",
       "    .dataframe tbody tr th:only-of-type {\n",
       "        vertical-align: middle;\n",
       "    }\n",
       "\n",
       "    .dataframe tbody tr th {\n",
       "        vertical-align: top;\n",
       "    }\n",
       "\n",
       "    .dataframe thead th {\n",
       "        text-align: right;\n",
       "    }\n",
       "</style>\n",
       "<table border=\"1\" class=\"dataframe\">\n",
       "  <thead>\n",
       "    <tr style=\"text-align: right;\">\n",
       "      <th>income_level</th>\n",
       "      <th>High income</th>\n",
       "      <th>Lower</th>\n",
       "      <th>Lower-middle</th>\n",
       "      <th>Upper-middle</th>\n",
       "    </tr>\n",
       "    <tr>\n",
       "      <th>orders_day_of_the_week</th>\n",
       "      <th></th>\n",
       "      <th></th>\n",
       "      <th></th>\n",
       "      <th></th>\n",
       "    </tr>\n",
       "  </thead>\n",
       "  <tbody>\n",
       "    <tr>\n",
       "      <th>0.0</th>\n",
       "      <td>1658619</td>\n",
       "      <td>1379714</td>\n",
       "      <td>1570557</td>\n",
       "      <td>1460339</td>\n",
       "    </tr>\n",
       "    <tr>\n",
       "      <th>1.0</th>\n",
       "      <td>1449434</td>\n",
       "      <td>1463307</td>\n",
       "      <td>1353878</td>\n",
       "      <td>1279230</td>\n",
       "    </tr>\n",
       "    <tr>\n",
       "      <th>2.0</th>\n",
       "      <td>1086209</td>\n",
       "      <td>1066499</td>\n",
       "      <td>1014470</td>\n",
       "      <td>958426</td>\n",
       "    </tr>\n",
       "    <tr>\n",
       "      <th>3.0</th>\n",
       "      <td>999423</td>\n",
       "      <td>964713</td>\n",
       "      <td>925092</td>\n",
       "      <td>875079</td>\n",
       "    </tr>\n",
       "    <tr>\n",
       "      <th>4.0</th>\n",
       "      <td>985476</td>\n",
       "      <td>950918</td>\n",
       "      <td>912864</td>\n",
       "      <td>862138</td>\n",
       "    </tr>\n",
       "    <tr>\n",
       "      <th>5.0</th>\n",
       "      <td>1086315</td>\n",
       "      <td>1062442</td>\n",
       "      <td>1006325</td>\n",
       "      <td>973162</td>\n",
       "    </tr>\n",
       "    <tr>\n",
       "      <th>6.0</th>\n",
       "      <td>1205246</td>\n",
       "      <td>1006534</td>\n",
       "      <td>1116463</td>\n",
       "      <td>1074052</td>\n",
       "    </tr>\n",
       "  </tbody>\n",
       "</table>\n",
       "</div>"
      ],
      "text/plain": [
       "income_level            High income    Lower  Lower-middle  Upper-middle\n",
       "orders_day_of_the_week                                                  \n",
       "0.0                         1658619  1379714       1570557       1460339\n",
       "1.0                         1449434  1463307       1353878       1279230\n",
       "2.0                         1086209  1066499       1014470        958426\n",
       "3.0                          999423   964713        925092        875079\n",
       "4.0                          985476   950918        912864        862138\n",
       "5.0                         1086315  1062442       1006325        973162\n",
       "6.0                         1205246  1006534       1116463       1074052"
      ]
     },
     "execution_count": 49,
     "metadata": {},
     "output_type": "execute_result"
    }
   ],
   "source": [
    "income_order_days\n"
   ]
  },
  {
   "cell_type": "code",
   "execution_count": 29,
   "id": "6501429f",
   "metadata": {
    "scrolled": true
   },
   "outputs": [
    {
     "data": {
      "image/png": "[encoded data removed]",
      "text/plain": [
       "<Figure size 640x480 with 1 Axes>"
      ]
     },
     "metadata": {},
     "output_type": "display_data"
    }
   ],
   "source": [
    "# create bar\n",
    "bar_income_order_days = income_order_days.plot.bar(color = ['green', 'red', 'purple', 'orange'])\n",
    "plt.title('Order days by income')\n",
    "plt.legend(loc='center left', bbox_to_anchor=(1.0, 0.5))\n",
    "\n",
    "# Define your new x-axis labels\n",
    "new_labels = ['Sat', 'Sun', 'Mon','Tues', 'Wed', 'Thur', 'Fri']  # Replace with your desired labels\n",
    "\n",
    "# Set the new x-axis labels\n",
    "bar_income_order_days.set_xticklabels(new_labels)\n",
    "plt.tight_layout()"
   ]
  },
  {
   "cell_type": "code",
   "execution_count": 30,
   "id": "daaaf6a7",
   "metadata": {},
   "outputs": [],
   "source": [
    "# export bar_income_order_days'\n",
    "\n",
    "bar_income_order_days.figure.savefig(os.path.join(path, '04 Analysis', 'Visualizations', 'bar_income_order_days.png'))"
   ]
  },
  {
   "cell_type": "markdown",
   "id": "be3bd121",
   "metadata": {},
   "source": [
    "# 04. Exporting data"
   ]
  },
  {
   "cell_type": "code",
   "execution_count": 52,
   "id": "7654699d",
   "metadata": {},
   "outputs": [
    {
     "name": "stdout",
     "output_type": "stream",
     "text": [
      "<class 'pandas.core.frame.DataFrame'>\n",
      "Int64Index: 31746924 entries, 0 to 31746923\n",
      "Data columns (total 40 columns):\n",
      " #   Column                  Dtype   \n",
      "---  ------                  -----   \n",
      " 0   user_id                 int64   \n",
      " 1   first_name              object  \n",
      " 2   last_name               object  \n",
      " 3   gender                  object  \n",
      " 4   state                   object  \n",
      " 5   age                     int64   \n",
      " 6   date_joined             object  \n",
      " 7   number_of_dependents    int64   \n",
      " 8   family_status           object  \n",
      " 9   income                  int64   \n",
      " 10  order_id                float64 \n",
      " 11  order_number            float64 \n",
      " 12  orders_day_of_the_week  float64 \n",
      " 13  order_hour_of_day       float64 \n",
      " 14  days_since_prior_order  float64 \n",
      " 15  product_id              float64 \n",
      " 16  add_to_cart_order       float64 \n",
      " 17  reordered               float64 \n",
      " 18  product_name            object  \n",
      " 19  aisle_id                float64 \n",
      " 20  department_id           float64 \n",
      " 21  prices                  float64 \n",
      " 22  price_range_loc         object  \n",
      " 23  busiest_day             object  \n",
      " 24  busiest_days            object  \n",
      " 25  Most orders             object  \n",
      " 26  max_order               float64 \n",
      " 27  loyalty_flag            object  \n",
      " 28  avg_spent               float64 \n",
      " 29  spender_type            object  \n",
      " 30  median_order_days       float64 \n",
      " 31  customer_type           object  \n",
      " 32  Region                  object  \n",
      " 33  customer_activity       object  \n",
      " 34  department              object  \n",
      " 35  _merge                  category\n",
      " 36  age_group               object  \n",
      " 37  income_level            object  \n",
      " 38  dependents              object  \n",
      " 39  baby_product_buyer      object  \n",
      "dtypes: category(1), float64(14), int64(4), object(21)\n",
      "memory usage: 9.5+ GB\n"
     ]
    }
   ],
   "source": [
    "Opa.info()"
   ]
  },
  {
   "cell_type": "code",
   "execution_count": 53,
   "id": "04f394d4",
   "metadata": {},
   "outputs": [],
   "source": [
    "Opa.to_pickle(os.path.join(path, '02 Data', 'Prepared Data', 'Opa.pkl'))"
   ]
  },
  {
   "cell_type": "markdown",
   "id": "38e5e157",
   "metadata": {},
   "source": [
    "# End of Part 1B"
   ]
  },
  {
   "cell_type": "code",
   "execution_count": null,
   "id": "bac4042e",
   "metadata": {},
   "outputs": [],
   "source": []
  }
 ],
 "metadata": {
  "kernelspec": {
   "display_name": "Python 3 (ipykernel)",
   "language": "python",
   "name": "python3"
  },
  "language_info": {
   "codemirror_mode": {
    "name": "ipython",
    "version": 3
   },
   "file_extension": ".py",
   "mimetype": "text/x-python",
   "name": "python",
   "nbconvert_exporter": "python",
   "pygments_lexer": "ipython3",
   "version": "3.11.3"
  }
 },
 "nbformat": 4,
 "nbformat_minor": 5
}
