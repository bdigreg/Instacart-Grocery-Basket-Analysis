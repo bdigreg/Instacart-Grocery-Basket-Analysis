{
 "cells": [
  {
   "cell_type": "markdown",
   "id": "f98e4058",
   "metadata": {},
   "source": [
    "# 01. Importing Libraries"
   ]
  },
  {
   "cell_type": "markdown",
   "id": "8b80996f",
   "metadata": {},
   "source": [
    "4.9 Task part 1"
   ]
  },
  {
   "cell_type": "code",
   "execution_count": 1,
   "id": "098d3c80",
   "metadata": {},
   "outputs": [],
   "source": [
    "# Task Step 1: download customer data set\n",
    "# Task Step 2: Creating new notebook for task"
   ]
  },
  {
   "cell_type": "code",
   "execution_count": 2,
   "id": "2a97c567",
   "metadata": {},
   "outputs": [],
   "source": [
    "# Task Step 3a: Importing libraries\n",
    "\n",
    "import pandas as pd\n",
    "import numpy as np\n",
    "import os\n",
    "import matplotlib.pyplot as plt\n",
    "import seaborn as sns\n",
    "import scipy"
   ]
  },
  {
   "cell_type": "code",
   "execution_count": 3,
   "id": "8a67a1ff",
   "metadata": {},
   "outputs": [],
   "source": [
    "# Task Step 3b: Importing customer data set"
   ]
  },
  {
   "cell_type": "markdown",
   "id": "8e96cdb9",
   "metadata": {},
   "source": [
    "# 02. Importing data"
   ]
  },
  {
   "cell_type": "code",
   "execution_count": 4,
   "id": "7a7ded86",
   "metadata": {},
   "outputs": [],
   "source": [
    "path = r'/Users/bdigregorio/Desktop/CareerFoundry/' \\\n",
    "r'Data Immersion/Data Immersion 4/DI 4.2/Instacart Basket Analysis'"
   ]
  },
  {
   "cell_type": "code",
   "execution_count": 5,
   "id": "3de17c00",
   "metadata": {},
   "outputs": [
    {
     "data": {
      "text/plain": [
       "'/Users/bdigregorio/Desktop/CareerFoundry/Data Immersion/Data Immersion 4/DI 4.2/Instacart Basket Analysis'"
      ]
     },
     "execution_count": 5,
     "metadata": {},
     "output_type": "execute_result"
    }
   ],
   "source": [
    "path"
   ]
  },
  {
   "cell_type": "code",
   "execution_count": 6,
   "id": "c8556730",
   "metadata": {},
   "outputs": [],
   "source": [
    "# Import customers.csv\n",
    "df_customers = pd.read_csv(os.path.join(path, '02 Data', 'Original Data', 'customers.csv'), index_col = False)\n"
   ]
  },
  {
   "cell_type": "code",
   "execution_count": 7,
   "id": "da4836b7",
   "metadata": {},
   "outputs": [],
   "source": [
    "# Importing newest prods (from 4.8) for task step 6\n",
    "ords_prods_new = pd.read_pickle(os.path.join(path, '02 Data', 'Prepared Data', 'ords_prods_new.pkl'))\n"
   ]
  },
  {
   "cell_type": "markdown",
   "id": "56e3f5d6",
   "metadata": {},
   "source": [
    "# 03. Wrangling "
   ]
  },
  {
   "cell_type": "code",
   "execution_count": 8,
   "id": "2a5c4438",
   "metadata": {},
   "outputs": [],
   "source": [
    "# Task Step 4 "
   ]
  },
  {
   "cell_type": "code",
   "execution_count": 9,
   "id": "5ce2dcb5",
   "metadata": {},
   "outputs": [
    {
     "data": {
      "text/html": [
       "<div>\n",
       "<style scoped>\n",
       "    .dataframe tbody tr th:only-of-type {\n",
       "        vertical-align: middle;\n",
       "    }\n",
       "\n",
       "    .dataframe tbody tr th {\n",
       "        vertical-align: top;\n",
       "    }\n",
       "\n",
       "    .dataframe thead th {\n",
       "        text-align: right;\n",
       "    }\n",
       "</style>\n",
       "<table border=\"1\" class=\"dataframe\">\n",
       "  <thead>\n",
       "    <tr style=\"text-align: right;\">\n",
       "      <th></th>\n",
       "      <th>user_id</th>\n",
       "      <th>First Name</th>\n",
       "      <th>Surnam</th>\n",
       "      <th>Gender</th>\n",
       "      <th>STATE</th>\n",
       "      <th>Age</th>\n",
       "      <th>date_joined</th>\n",
       "      <th>n_dependants</th>\n",
       "      <th>fam_status</th>\n",
       "      <th>income</th>\n",
       "    </tr>\n",
       "  </thead>\n",
       "  <tbody>\n",
       "    <tr>\n",
       "      <th>0</th>\n",
       "      <td>26711</td>\n",
       "      <td>Deborah</td>\n",
       "      <td>Esquivel</td>\n",
       "      <td>Female</td>\n",
       "      <td>Missouri</td>\n",
       "      <td>48</td>\n",
       "      <td>1/1/2017</td>\n",
       "      <td>3</td>\n",
       "      <td>married</td>\n",
       "      <td>165665</td>\n",
       "    </tr>\n",
       "    <tr>\n",
       "      <th>1</th>\n",
       "      <td>33890</td>\n",
       "      <td>Patricia</td>\n",
       "      <td>Hart</td>\n",
       "      <td>Female</td>\n",
       "      <td>New Mexico</td>\n",
       "      <td>36</td>\n",
       "      <td>1/1/2017</td>\n",
       "      <td>0</td>\n",
       "      <td>single</td>\n",
       "      <td>59285</td>\n",
       "    </tr>\n",
       "    <tr>\n",
       "      <th>2</th>\n",
       "      <td>65803</td>\n",
       "      <td>Kenneth</td>\n",
       "      <td>Farley</td>\n",
       "      <td>Male</td>\n",
       "      <td>Idaho</td>\n",
       "      <td>35</td>\n",
       "      <td>1/1/2017</td>\n",
       "      <td>2</td>\n",
       "      <td>married</td>\n",
       "      <td>99568</td>\n",
       "    </tr>\n",
       "    <tr>\n",
       "      <th>3</th>\n",
       "      <td>125935</td>\n",
       "      <td>Michelle</td>\n",
       "      <td>Hicks</td>\n",
       "      <td>Female</td>\n",
       "      <td>Iowa</td>\n",
       "      <td>40</td>\n",
       "      <td>1/1/2017</td>\n",
       "      <td>0</td>\n",
       "      <td>single</td>\n",
       "      <td>42049</td>\n",
       "    </tr>\n",
       "    <tr>\n",
       "      <th>4</th>\n",
       "      <td>130797</td>\n",
       "      <td>Ann</td>\n",
       "      <td>Gilmore</td>\n",
       "      <td>Female</td>\n",
       "      <td>Maryland</td>\n",
       "      <td>26</td>\n",
       "      <td>1/1/2017</td>\n",
       "      <td>1</td>\n",
       "      <td>married</td>\n",
       "      <td>40374</td>\n",
       "    </tr>\n",
       "  </tbody>\n",
       "</table>\n",
       "</div>"
      ],
      "text/plain": [
       "   user_id First Name    Surnam  Gender       STATE  Age date_joined  \\\n",
       "0    26711    Deborah  Esquivel  Female    Missouri   48    1/1/2017   \n",
       "1    33890   Patricia      Hart  Female  New Mexico   36    1/1/2017   \n",
       "2    65803    Kenneth    Farley    Male       Idaho   35    1/1/2017   \n",
       "3   125935   Michelle     Hicks  Female        Iowa   40    1/1/2017   \n",
       "4   130797        Ann   Gilmore  Female    Maryland   26    1/1/2017   \n",
       "\n",
       "   n_dependants fam_status  income  \n",
       "0             3    married  165665  \n",
       "1             0     single   59285  \n",
       "2             2    married   99568  \n",
       "3             0     single   42049  \n",
       "4             1    married   40374  "
      ]
     },
     "execution_count": 9,
     "metadata": {},
     "output_type": "execute_result"
    }
   ],
   "source": [
    "# learning details of customers.csv data set\n",
    "df_customers.head()"
   ]
  },
  {
   "cell_type": "code",
   "execution_count": 10,
   "id": "112a8d8a",
   "metadata": {},
   "outputs": [
    {
     "data": {
      "text/html": [
       "<div>\n",
       "<style scoped>\n",
       "    .dataframe tbody tr th:only-of-type {\n",
       "        vertical-align: middle;\n",
       "    }\n",
       "\n",
       "    .dataframe tbody tr th {\n",
       "        vertical-align: top;\n",
       "    }\n",
       "\n",
       "    .dataframe thead th {\n",
       "        text-align: right;\n",
       "    }\n",
       "</style>\n",
       "<table border=\"1\" class=\"dataframe\">\n",
       "  <thead>\n",
       "    <tr style=\"text-align: right;\">\n",
       "      <th></th>\n",
       "      <th>user_id</th>\n",
       "      <th>First Name</th>\n",
       "      <th>Surnam</th>\n",
       "      <th>Gender</th>\n",
       "      <th>STATE</th>\n",
       "      <th>Age</th>\n",
       "      <th>date_joined</th>\n",
       "      <th>n_dependants</th>\n",
       "      <th>fam_status</th>\n",
       "      <th>income</th>\n",
       "    </tr>\n",
       "  </thead>\n",
       "  <tbody>\n",
       "    <tr>\n",
       "      <th>206204</th>\n",
       "      <td>168073</td>\n",
       "      <td>Lisa</td>\n",
       "      <td>Case</td>\n",
       "      <td>Female</td>\n",
       "      <td>North Carolina</td>\n",
       "      <td>44</td>\n",
       "      <td>4/1/2020</td>\n",
       "      <td>1</td>\n",
       "      <td>married</td>\n",
       "      <td>148828</td>\n",
       "    </tr>\n",
       "    <tr>\n",
       "      <th>206205</th>\n",
       "      <td>49635</td>\n",
       "      <td>Jeremy</td>\n",
       "      <td>Robbins</td>\n",
       "      <td>Male</td>\n",
       "      <td>Hawaii</td>\n",
       "      <td>62</td>\n",
       "      <td>4/1/2020</td>\n",
       "      <td>3</td>\n",
       "      <td>married</td>\n",
       "      <td>168639</td>\n",
       "    </tr>\n",
       "    <tr>\n",
       "      <th>206206</th>\n",
       "      <td>135902</td>\n",
       "      <td>Doris</td>\n",
       "      <td>Richmond</td>\n",
       "      <td>Female</td>\n",
       "      <td>Missouri</td>\n",
       "      <td>66</td>\n",
       "      <td>4/1/2020</td>\n",
       "      <td>2</td>\n",
       "      <td>married</td>\n",
       "      <td>53374</td>\n",
       "    </tr>\n",
       "    <tr>\n",
       "      <th>206207</th>\n",
       "      <td>81095</td>\n",
       "      <td>Rose</td>\n",
       "      <td>Rollins</td>\n",
       "      <td>Female</td>\n",
       "      <td>California</td>\n",
       "      <td>27</td>\n",
       "      <td>4/1/2020</td>\n",
       "      <td>1</td>\n",
       "      <td>married</td>\n",
       "      <td>99799</td>\n",
       "    </tr>\n",
       "    <tr>\n",
       "      <th>206208</th>\n",
       "      <td>80148</td>\n",
       "      <td>Cynthia</td>\n",
       "      <td>Noble</td>\n",
       "      <td>Female</td>\n",
       "      <td>New York</td>\n",
       "      <td>55</td>\n",
       "      <td>4/1/2020</td>\n",
       "      <td>1</td>\n",
       "      <td>married</td>\n",
       "      <td>57095</td>\n",
       "    </tr>\n",
       "  </tbody>\n",
       "</table>\n",
       "</div>"
      ],
      "text/plain": [
       "        user_id First Name    Surnam  Gender           STATE  Age date_joined  \\\n",
       "206204   168073       Lisa      Case  Female  North Carolina   44    4/1/2020   \n",
       "206205    49635     Jeremy   Robbins    Male          Hawaii   62    4/1/2020   \n",
       "206206   135902      Doris  Richmond  Female        Missouri   66    4/1/2020   \n",
       "206207    81095       Rose   Rollins  Female      California   27    4/1/2020   \n",
       "206208    80148    Cynthia     Noble  Female        New York   55    4/1/2020   \n",
       "\n",
       "        n_dependants fam_status  income  \n",
       "206204             1    married  148828  \n",
       "206205             3    married  168639  \n",
       "206206             2    married   53374  \n",
       "206207             1    married   99799  \n",
       "206208             1    married   57095  "
      ]
     },
     "execution_count": 10,
     "metadata": {},
     "output_type": "execute_result"
    }
   ],
   "source": [
    "df_customers.tail()"
   ]
  },
  {
   "cell_type": "code",
   "execution_count": 11,
   "id": "d41dccbb",
   "metadata": {},
   "outputs": [
    {
     "data": {
      "text/plain": [
       "(206209, 10)"
      ]
     },
     "execution_count": 11,
     "metadata": {},
     "output_type": "execute_result"
    }
   ],
   "source": [
    "df_customers.shape"
   ]
  },
  {
   "cell_type": "code",
   "execution_count": 12,
   "id": "5902d703",
   "metadata": {},
   "outputs": [
    {
     "data": {
      "text/html": [
       "<div>\n",
       "<style scoped>\n",
       "    .dataframe tbody tr th:only-of-type {\n",
       "        vertical-align: middle;\n",
       "    }\n",
       "\n",
       "    .dataframe tbody tr th {\n",
       "        vertical-align: top;\n",
       "    }\n",
       "\n",
       "    .dataframe thead th {\n",
       "        text-align: right;\n",
       "    }\n",
       "</style>\n",
       "<table border=\"1\" class=\"dataframe\">\n",
       "  <thead>\n",
       "    <tr style=\"text-align: right;\">\n",
       "      <th></th>\n",
       "      <th>user_id</th>\n",
       "      <th>Age</th>\n",
       "      <th>n_dependants</th>\n",
       "      <th>income</th>\n",
       "    </tr>\n",
       "  </thead>\n",
       "  <tbody>\n",
       "    <tr>\n",
       "      <th>count</th>\n",
       "      <td>206209.000000</td>\n",
       "      <td>206209.000000</td>\n",
       "      <td>206209.000000</td>\n",
       "      <td>206209.000000</td>\n",
       "    </tr>\n",
       "    <tr>\n",
       "      <th>mean</th>\n",
       "      <td>103105.000000</td>\n",
       "      <td>49.501646</td>\n",
       "      <td>1.499823</td>\n",
       "      <td>94632.852548</td>\n",
       "    </tr>\n",
       "    <tr>\n",
       "      <th>std</th>\n",
       "      <td>59527.555167</td>\n",
       "      <td>18.480962</td>\n",
       "      <td>1.118433</td>\n",
       "      <td>42473.786988</td>\n",
       "    </tr>\n",
       "    <tr>\n",
       "      <th>min</th>\n",
       "      <td>1.000000</td>\n",
       "      <td>18.000000</td>\n",
       "      <td>0.000000</td>\n",
       "      <td>25903.000000</td>\n",
       "    </tr>\n",
       "    <tr>\n",
       "      <th>25%</th>\n",
       "      <td>51553.000000</td>\n",
       "      <td>33.000000</td>\n",
       "      <td>0.000000</td>\n",
       "      <td>59874.000000</td>\n",
       "    </tr>\n",
       "    <tr>\n",
       "      <th>50%</th>\n",
       "      <td>103105.000000</td>\n",
       "      <td>49.000000</td>\n",
       "      <td>1.000000</td>\n",
       "      <td>93547.000000</td>\n",
       "    </tr>\n",
       "    <tr>\n",
       "      <th>75%</th>\n",
       "      <td>154657.000000</td>\n",
       "      <td>66.000000</td>\n",
       "      <td>3.000000</td>\n",
       "      <td>124244.000000</td>\n",
       "    </tr>\n",
       "    <tr>\n",
       "      <th>max</th>\n",
       "      <td>206209.000000</td>\n",
       "      <td>81.000000</td>\n",
       "      <td>3.000000</td>\n",
       "      <td>593901.000000</td>\n",
       "    </tr>\n",
       "  </tbody>\n",
       "</table>\n",
       "</div>"
      ],
      "text/plain": [
       "             user_id            Age   n_dependants         income\n",
       "count  206209.000000  206209.000000  206209.000000  206209.000000\n",
       "mean   103105.000000      49.501646       1.499823   94632.852548\n",
       "std     59527.555167      18.480962       1.118433   42473.786988\n",
       "min         1.000000      18.000000       0.000000   25903.000000\n",
       "25%     51553.000000      33.000000       0.000000   59874.000000\n",
       "50%    103105.000000      49.000000       1.000000   93547.000000\n",
       "75%    154657.000000      66.000000       3.000000  124244.000000\n",
       "max    206209.000000      81.000000       3.000000  593901.000000"
      ]
     },
     "execution_count": 12,
     "metadata": {},
     "output_type": "execute_result"
    }
   ],
   "source": [
    "df_customers.describe()"
   ]
  },
  {
   "cell_type": "code",
   "execution_count": 13,
   "id": "3a77ae7d",
   "metadata": {},
   "outputs": [
    {
     "name": "stdout",
     "output_type": "stream",
     "text": [
      "<class 'pandas.core.frame.DataFrame'>\n",
      "RangeIndex: 206209 entries, 0 to 206208\n",
      "Data columns (total 10 columns):\n",
      " #   Column        Non-Null Count   Dtype \n",
      "---  ------        --------------   ----- \n",
      " 0   user_id       206209 non-null  int64 \n",
      " 1   First Name    194950 non-null  object\n",
      " 2   Surnam        206209 non-null  object\n",
      " 3   Gender        206209 non-null  object\n",
      " 4   STATE         206209 non-null  object\n",
      " 5   Age           206209 non-null  int64 \n",
      " 6   date_joined   206209 non-null  object\n",
      " 7   n_dependants  206209 non-null  int64 \n",
      " 8   fam_status    206209 non-null  object\n",
      " 9   income        206209 non-null  int64 \n",
      "dtypes: int64(4), object(6)\n",
      "memory usage: 15.7+ MB\n"
     ]
    }
   ],
   "source": [
    "df_customers.info()"
   ]
  },
  {
   "cell_type": "code",
   "execution_count": 14,
   "id": "592d8387",
   "metadata": {},
   "outputs": [
    {
     "data": {
      "text/plain": [
       "user_id             0\n",
       "First Name      11259\n",
       "Surnam              0\n",
       "Gender              0\n",
       "STATE               0\n",
       "Age                 0\n",
       "date_joined         0\n",
       "n_dependants        0\n",
       "fam_status          0\n",
       "income              0\n",
       "dtype: int64"
      ]
     },
     "execution_count": 14,
     "metadata": {},
     "output_type": "execute_result"
    }
   ],
   "source": [
    "df_customers.isnull().sum()"
   ]
  },
  {
   "cell_type": "markdown",
   "id": "ae4ab6f2",
   "metadata": {},
   "source": [
    "Observations:\n",
    " 1. column names can be cleaned up\n",
    " 2. First_name has 11259 nulls. However, first names cannot be imputed and will not affect analysis. Choose to ignore."
   ]
  },
  {
   "cell_type": "code",
   "execution_count": 15,
   "id": "9dfc2c82",
   "metadata": {},
   "outputs": [],
   "source": [
    "# cleaning column names (for consistency)\n",
    "df_customers.rename(columns = {'First Name' : 'first_name', 'Surnam' : 'last_name', 'Gender' : 'gender', 'STATE' : 'state', 'Age' : 'age', 'n_dependants' : 'number_of_dependents', 'fam_status' : 'family_status'}, inplace = True)\n"
   ]
  },
  {
   "cell_type": "code",
   "execution_count": 16,
   "id": "1115b3b4",
   "metadata": {},
   "outputs": [
    {
     "data": {
      "text/html": [
       "<div>\n",
       "<style scoped>\n",
       "    .dataframe tbody tr th:only-of-type {\n",
       "        vertical-align: middle;\n",
       "    }\n",
       "\n",
       "    .dataframe tbody tr th {\n",
       "        vertical-align: top;\n",
       "    }\n",
       "\n",
       "    .dataframe thead th {\n",
       "        text-align: right;\n",
       "    }\n",
       "</style>\n",
       "<table border=\"1\" class=\"dataframe\">\n",
       "  <thead>\n",
       "    <tr style=\"text-align: right;\">\n",
       "      <th></th>\n",
       "      <th>user_id</th>\n",
       "      <th>first_name</th>\n",
       "      <th>last_name</th>\n",
       "      <th>gender</th>\n",
       "      <th>state</th>\n",
       "      <th>age</th>\n",
       "      <th>date_joined</th>\n",
       "      <th>number_of_dependents</th>\n",
       "      <th>family_status</th>\n",
       "      <th>income</th>\n",
       "    </tr>\n",
       "  </thead>\n",
       "  <tbody>\n",
       "    <tr>\n",
       "      <th>0</th>\n",
       "      <td>26711</td>\n",
       "      <td>Deborah</td>\n",
       "      <td>Esquivel</td>\n",
       "      <td>Female</td>\n",
       "      <td>Missouri</td>\n",
       "      <td>48</td>\n",
       "      <td>1/1/2017</td>\n",
       "      <td>3</td>\n",
       "      <td>married</td>\n",
       "      <td>165665</td>\n",
       "    </tr>\n",
       "    <tr>\n",
       "      <th>1</th>\n",
       "      <td>33890</td>\n",
       "      <td>Patricia</td>\n",
       "      <td>Hart</td>\n",
       "      <td>Female</td>\n",
       "      <td>New Mexico</td>\n",
       "      <td>36</td>\n",
       "      <td>1/1/2017</td>\n",
       "      <td>0</td>\n",
       "      <td>single</td>\n",
       "      <td>59285</td>\n",
       "    </tr>\n",
       "    <tr>\n",
       "      <th>2</th>\n",
       "      <td>65803</td>\n",
       "      <td>Kenneth</td>\n",
       "      <td>Farley</td>\n",
       "      <td>Male</td>\n",
       "      <td>Idaho</td>\n",
       "      <td>35</td>\n",
       "      <td>1/1/2017</td>\n",
       "      <td>2</td>\n",
       "      <td>married</td>\n",
       "      <td>99568</td>\n",
       "    </tr>\n",
       "    <tr>\n",
       "      <th>3</th>\n",
       "      <td>125935</td>\n",
       "      <td>Michelle</td>\n",
       "      <td>Hicks</td>\n",
       "      <td>Female</td>\n",
       "      <td>Iowa</td>\n",
       "      <td>40</td>\n",
       "      <td>1/1/2017</td>\n",
       "      <td>0</td>\n",
       "      <td>single</td>\n",
       "      <td>42049</td>\n",
       "    </tr>\n",
       "    <tr>\n",
       "      <th>4</th>\n",
       "      <td>130797</td>\n",
       "      <td>Ann</td>\n",
       "      <td>Gilmore</td>\n",
       "      <td>Female</td>\n",
       "      <td>Maryland</td>\n",
       "      <td>26</td>\n",
       "      <td>1/1/2017</td>\n",
       "      <td>1</td>\n",
       "      <td>married</td>\n",
       "      <td>40374</td>\n",
       "    </tr>\n",
       "  </tbody>\n",
       "</table>\n",
       "</div>"
      ],
      "text/plain": [
       "   user_id first_name last_name  gender       state  age date_joined  \\\n",
       "0    26711    Deborah  Esquivel  Female    Missouri   48    1/1/2017   \n",
       "1    33890   Patricia      Hart  Female  New Mexico   36    1/1/2017   \n",
       "2    65803    Kenneth    Farley    Male       Idaho   35    1/1/2017   \n",
       "3   125935   Michelle     Hicks  Female        Iowa   40    1/1/2017   \n",
       "4   130797        Ann   Gilmore  Female    Maryland   26    1/1/2017   \n",
       "\n",
       "   number_of_dependents family_status  income  \n",
       "0                     3       married  165665  \n",
       "1                     0        single   59285  \n",
       "2                     2       married   99568  \n",
       "3                     0        single   42049  \n",
       "4                     1       married   40374  "
      ]
     },
     "execution_count": 16,
     "metadata": {},
     "output_type": "execute_result"
    }
   ],
   "source": [
    "# check column name changes\n",
    "df_customers.head()"
   ]
  },
  {
   "cell_type": "code",
   "execution_count": 17,
   "id": "0100c458",
   "metadata": {},
   "outputs": [
    {
     "data": {
      "text/plain": [
       "user_id                  int64\n",
       "first_name              object\n",
       "last_name               object\n",
       "gender                  object\n",
       "state                   object\n",
       "age                      int64\n",
       "date_joined             object\n",
       "number_of_dependents     int64\n",
       "family_status           object\n",
       "income                   int64\n",
       "dtype: object"
      ]
     },
     "execution_count": 17,
     "metadata": {},
     "output_type": "execute_result"
    }
   ],
   "source": [
    "# checking data types\n",
    "df_customers.dtypes"
   ]
  },
  {
   "cell_type": "code",
   "execution_count": 18,
   "id": "af167094",
   "metadata": {},
   "outputs": [],
   "source": [
    "# change data type for user_id to 'str'\n",
    "df_customers['user_id'] = df_customers['user_id'].astype('str')"
   ]
  },
  {
   "cell_type": "code",
   "execution_count": 19,
   "id": "67529ffb",
   "metadata": {},
   "outputs": [
    {
     "data": {
      "text/plain": [
       "dtype('O')"
      ]
     },
     "execution_count": 19,
     "metadata": {},
     "output_type": "execute_result"
    }
   ],
   "source": [
    "# check data type change\n",
    "df_customers['user_id'].dtype"
   ]
  },
  {
   "cell_type": "markdown",
   "id": "e4d2f534",
   "metadata": {},
   "source": [
    "# 04. Consistency checks"
   ]
  },
  {
   "cell_type": "code",
   "execution_count": 20,
   "id": "537b1bba",
   "metadata": {},
   "outputs": [],
   "source": [
    "# Task step 5 quality and consistency checks"
   ]
  },
  {
   "cell_type": "code",
   "execution_count": 21,
   "id": "2353c554",
   "metadata": {},
   "outputs": [],
   "source": [
    "# Data types and nulls adressed above"
   ]
  },
  {
   "cell_type": "code",
   "execution_count": 22,
   "id": "8bf86dd5",
   "metadata": {},
   "outputs": [],
   "source": [
    "# looking for duplicates\n",
    "df_dups = df_customers[df_customers.duplicated()]"
   ]
  },
  {
   "cell_type": "code",
   "execution_count": 23,
   "id": "b324c92b",
   "metadata": {},
   "outputs": [
    {
     "data": {
      "text/html": [
       "<div>\n",
       "<style scoped>\n",
       "    .dataframe tbody tr th:only-of-type {\n",
       "        vertical-align: middle;\n",
       "    }\n",
       "\n",
       "    .dataframe tbody tr th {\n",
       "        vertical-align: top;\n",
       "    }\n",
       "\n",
       "    .dataframe thead th {\n",
       "        text-align: right;\n",
       "    }\n",
       "</style>\n",
       "<table border=\"1\" class=\"dataframe\">\n",
       "  <thead>\n",
       "    <tr style=\"text-align: right;\">\n",
       "      <th></th>\n",
       "      <th>user_id</th>\n",
       "      <th>first_name</th>\n",
       "      <th>last_name</th>\n",
       "      <th>gender</th>\n",
       "      <th>state</th>\n",
       "      <th>age</th>\n",
       "      <th>date_joined</th>\n",
       "      <th>number_of_dependents</th>\n",
       "      <th>family_status</th>\n",
       "      <th>income</th>\n",
       "    </tr>\n",
       "  </thead>\n",
       "  <tbody>\n",
       "  </tbody>\n",
       "</table>\n",
       "</div>"
      ],
      "text/plain": [
       "Empty DataFrame\n",
       "Columns: [user_id, first_name, last_name, gender, state, age, date_joined, number_of_dependents, family_status, income]\n",
       "Index: []"
      ]
     },
     "execution_count": 23,
     "metadata": {},
     "output_type": "execute_result"
    }
   ],
   "source": [
    "df_dups.head()"
   ]
  },
  {
   "cell_type": "code",
   "execution_count": 24,
   "id": "81c2cc36",
   "metadata": {},
   "outputs": [
    {
     "data": {
      "text/plain": [
       "0         False\n",
       "1         False\n",
       "2         False\n",
       "3         False\n",
       "4         False\n",
       "          ...  \n",
       "206204    False\n",
       "206205    False\n",
       "206206    False\n",
       "206207    False\n",
       "206208    False\n",
       "Length: 206209, dtype: bool"
      ]
     },
     "execution_count": 24,
     "metadata": {},
     "output_type": "execute_result"
    }
   ],
   "source": [
    "df_customers.duplicated()"
   ]
  },
  {
   "cell_type": "markdown",
   "id": "2078879d",
   "metadata": {},
   "source": [
    "Observation: There are no duplicates"
   ]
  },
  {
   "cell_type": "code",
   "execution_count": 25,
   "id": "edb2bed3",
   "metadata": {},
   "outputs": [
    {
     "name": "stdout",
     "output_type": "stream",
     "text": [
      "first_name\n"
     ]
    }
   ],
   "source": [
    "# checking for mixed data types\n",
    "for col in df_customers.columns.tolist():\n",
    "  weird = (df_customers[[col]].applymap(type) != df_customers[[col]].iloc[0].apply(type)).any(axis = 1)\n",
    "  if len (df_customers[weird]) > 0:\n",
    "    print (col)"
   ]
  },
  {
   "cell_type": "code",
   "execution_count": 26,
   "id": "d52b1dc7",
   "metadata": {},
   "outputs": [
    {
     "data": {
      "text/plain": [
       "dtype('O')"
      ]
     },
     "execution_count": 26,
     "metadata": {},
     "output_type": "execute_result"
    }
   ],
   "source": [
    "\n",
    "df_customers['first_name'].dtype"
   ]
  },
  {
   "cell_type": "code",
   "execution_count": 27,
   "id": "3741b532",
   "metadata": {},
   "outputs": [
    {
     "name": "stdout",
     "output_type": "stream",
     "text": [
      "<class 'pandas.core.series.Series'>\n",
      "RangeIndex: 206209 entries, 0 to 206208\n",
      "Series name: first_name\n",
      "Non-Null Count   Dtype \n",
      "--------------   ----- \n",
      "194950 non-null  object\n",
      "dtypes: object(1)\n",
      "memory usage: 1.6+ MB\n"
     ]
    }
   ],
   "source": [
    "df_customers['first_name'].info()"
   ]
  },
  {
   "cell_type": "code",
   "execution_count": 28,
   "id": "75bf57db",
   "metadata": {},
   "outputs": [],
   "source": [
    "# 'first_name' must have appeared due to missing values. Confirm 'first-name' is 'str'\n",
    "df_customers['first_name'] = df_customers['first_name'].astype('str')"
   ]
  },
  {
   "cell_type": "code",
   "execution_count": 29,
   "id": "a8154d82",
   "metadata": {},
   "outputs": [
    {
     "data": {
      "text/plain": [
       "dtype('O')"
      ]
     },
     "execution_count": 29,
     "metadata": {},
     "output_type": "execute_result"
    }
   ],
   "source": [
    "df_customers['first_name'].dtype"
   ]
  },
  {
   "cell_type": "markdown",
   "id": "4c6f4ede",
   "metadata": {},
   "source": [
    "Confirming first_name blanks will not affect analysis and continue to ignore"
   ]
  },
  {
   "cell_type": "code",
   "execution_count": 30,
   "id": "479bec2c",
   "metadata": {},
   "outputs": [
    {
     "data": {
      "text/plain": [
       "dtype('float64')"
      ]
     },
     "execution_count": 30,
     "metadata": {},
     "output_type": "execute_result"
    }
   ],
   "source": [
    "ords_prods_new['user_id'].dtype"
   ]
  },
  {
   "cell_type": "code",
   "execution_count": 31,
   "id": "9a80400d",
   "metadata": {},
   "outputs": [
    {
     "data": {
      "text/plain": [
       "11"
      ]
     },
     "execution_count": 31,
     "metadata": {},
     "output_type": "execute_result"
    }
   ],
   "source": [
    "# finding NaNs in ords_prods_new\n",
    "ords_prods_new['user_id'].isnull().sum()"
   ]
  },
  {
   "cell_type": "code",
   "execution_count": 32,
   "id": "f42ad52b",
   "metadata": {},
   "outputs": [
    {
     "data": {
      "text/plain": [
       "(32642461,)"
      ]
     },
     "execution_count": 32,
     "metadata": {},
     "output_type": "execute_result"
    }
   ],
   "source": [
    "ords_prods_new['user_id'].shape"
   ]
  },
  {
   "cell_type": "code",
   "execution_count": 33,
   "id": "f6001021",
   "metadata": {},
   "outputs": [
    {
     "name": "stdout",
     "output_type": "stream",
     "text": [
      "<class 'pandas.core.series.Series'>\n",
      "Int64Index: 32642461 entries, 0 to 32642460\n",
      "Series name: user_id\n",
      "Non-Null Count     Dtype  \n",
      "--------------     -----  \n",
      "32642450 non-null  float64\n",
      "dtypes: float64(1)\n",
      "memory usage: 498.1 MB\n"
     ]
    }
   ],
   "source": [
    "ords_prods_new['user_id'].info()"
   ]
  },
  {
   "cell_type": "code",
   "execution_count": 34,
   "id": "0164d123",
   "metadata": {},
   "outputs": [
    {
     "data": {
      "text/plain": [
       "0    1.0\n",
       "1    1.0\n",
       "2    1.0\n",
       "3    1.0\n",
       "4    1.0\n",
       "Name: user_id, dtype: float64"
      ]
     },
     "execution_count": 34,
     "metadata": {},
     "output_type": "execute_result"
    }
   ],
   "source": [
    "ords_prods_new['user_id'].head()"
   ]
  },
  {
   "cell_type": "code",
   "execution_count": 35,
   "id": "2f8ae024",
   "metadata": {},
   "outputs": [
    {
     "data": {
      "text/plain": [
       "32642449    205420.0\n",
       "32642450         NaN\n",
       "32642451         NaN\n",
       "32642452         NaN\n",
       "32642453         NaN\n",
       "32642454         NaN\n",
       "32642455         NaN\n",
       "32642456         NaN\n",
       "32642457         NaN\n",
       "32642458         NaN\n",
       "32642459         NaN\n",
       "32642460         NaN\n",
       "Name: user_id, dtype: float64"
      ]
     },
     "execution_count": 35,
     "metadata": {},
     "output_type": "execute_result"
    }
   ],
   "source": [
    "ords_prods_new['user_id'].tail(12)"
   ]
  },
  {
   "cell_type": "code",
   "execution_count": 36,
   "id": "8df351bd",
   "metadata": {},
   "outputs": [
    {
     "data": {
      "text/html": [
       "<div>\n",
       "<style scoped>\n",
       "    .dataframe tbody tr th:only-of-type {\n",
       "        vertical-align: middle;\n",
       "    }\n",
       "\n",
       "    .dataframe tbody tr th {\n",
       "        vertical-align: top;\n",
       "    }\n",
       "\n",
       "    .dataframe thead th {\n",
       "        text-align: right;\n",
       "    }\n",
       "</style>\n",
       "<table border=\"1\" class=\"dataframe\">\n",
       "  <thead>\n",
       "    <tr style=\"text-align: right;\">\n",
       "      <th></th>\n",
       "      <th>order_id</th>\n",
       "      <th>user_id</th>\n",
       "      <th>order_number</th>\n",
       "      <th>orders_day_of_the_week</th>\n",
       "      <th>order_hour_of_day</th>\n",
       "      <th>days_since_prior_order</th>\n",
       "      <th>product_id</th>\n",
       "      <th>add_to_cart_order</th>\n",
       "      <th>reordered</th>\n",
       "      <th>_merge</th>\n",
       "      <th>...</th>\n",
       "      <th>price_range_loc</th>\n",
       "      <th>busiest_day</th>\n",
       "      <th>busiest_days</th>\n",
       "      <th>Most orders</th>\n",
       "      <th>max_order</th>\n",
       "      <th>loyalty_flag</th>\n",
       "      <th>avg_spent</th>\n",
       "      <th>spender_type</th>\n",
       "      <th>median_order_days</th>\n",
       "      <th>customer_type</th>\n",
       "    </tr>\n",
       "  </thead>\n",
       "  <tbody>\n",
       "    <tr>\n",
       "      <th>32642449</th>\n",
       "      <td>3093936.0</td>\n",
       "      <td>205420.0</td>\n",
       "      <td>1.0</td>\n",
       "      <td>4.0</td>\n",
       "      <td>14.0</td>\n",
       "      <td>NaN</td>\n",
       "      <td>28818.0</td>\n",
       "      <td>8.0</td>\n",
       "      <td>0.0</td>\n",
       "      <td>both</td>\n",
       "      <td>...</td>\n",
       "      <td>NaN</td>\n",
       "      <td>Least busy</td>\n",
       "      <td>Regularly busy</td>\n",
       "      <td>Most orders</td>\n",
       "      <td>17.0</td>\n",
       "      <td>Regular customer</td>\n",
       "      <td>7.684746</td>\n",
       "      <td>High spender</td>\n",
       "      <td>13.0</td>\n",
       "      <td>Regular customer</td>\n",
       "    </tr>\n",
       "    <tr>\n",
       "      <th>32642450</th>\n",
       "      <td>NaN</td>\n",
       "      <td>NaN</td>\n",
       "      <td>NaN</td>\n",
       "      <td>NaN</td>\n",
       "      <td>NaN</td>\n",
       "      <td>NaN</td>\n",
       "      <td>3630.0</td>\n",
       "      <td>NaN</td>\n",
       "      <td>NaN</td>\n",
       "      <td>NaN</td>\n",
       "      <td>...</td>\n",
       "      <td>Low-range product</td>\n",
       "      <td>Regularly busy</td>\n",
       "      <td>Regularly busy</td>\n",
       "      <td>Average orders</td>\n",
       "      <td>NaN</td>\n",
       "      <td>NaN</td>\n",
       "      <td>NaN</td>\n",
       "      <td>NaN</td>\n",
       "      <td>NaN</td>\n",
       "      <td>NaN</td>\n",
       "    </tr>\n",
       "    <tr>\n",
       "      <th>32642451</th>\n",
       "      <td>NaN</td>\n",
       "      <td>NaN</td>\n",
       "      <td>NaN</td>\n",
       "      <td>NaN</td>\n",
       "      <td>NaN</td>\n",
       "      <td>NaN</td>\n",
       "      <td>3718.0</td>\n",
       "      <td>NaN</td>\n",
       "      <td>NaN</td>\n",
       "      <td>NaN</td>\n",
       "      <td>...</td>\n",
       "      <td>NaN</td>\n",
       "      <td>Regularly busy</td>\n",
       "      <td>Regularly busy</td>\n",
       "      <td>Average orders</td>\n",
       "      <td>NaN</td>\n",
       "      <td>NaN</td>\n",
       "      <td>NaN</td>\n",
       "      <td>High spender</td>\n",
       "      <td>NaN</td>\n",
       "      <td>NaN</td>\n",
       "    </tr>\n",
       "    <tr>\n",
       "      <th>32642452</th>\n",
       "      <td>NaN</td>\n",
       "      <td>NaN</td>\n",
       "      <td>NaN</td>\n",
       "      <td>NaN</td>\n",
       "      <td>NaN</td>\n",
       "      <td>NaN</td>\n",
       "      <td>7045.0</td>\n",
       "      <td>NaN</td>\n",
       "      <td>NaN</td>\n",
       "      <td>NaN</td>\n",
       "      <td>...</td>\n",
       "      <td>NaN</td>\n",
       "      <td>Regularly busy</td>\n",
       "      <td>Regularly busy</td>\n",
       "      <td>Average orders</td>\n",
       "      <td>NaN</td>\n",
       "      <td>NaN</td>\n",
       "      <td>NaN</td>\n",
       "      <td>NaN</td>\n",
       "      <td>NaN</td>\n",
       "      <td>NaN</td>\n",
       "    </tr>\n",
       "    <tr>\n",
       "      <th>32642453</th>\n",
       "      <td>NaN</td>\n",
       "      <td>NaN</td>\n",
       "      <td>NaN</td>\n",
       "      <td>NaN</td>\n",
       "      <td>NaN</td>\n",
       "      <td>NaN</td>\n",
       "      <td>25383.0</td>\n",
       "      <td>NaN</td>\n",
       "      <td>NaN</td>\n",
       "      <td>NaN</td>\n",
       "      <td>...</td>\n",
       "      <td>Low-range product</td>\n",
       "      <td>Regularly busy</td>\n",
       "      <td>Regularly busy</td>\n",
       "      <td>Average orders</td>\n",
       "      <td>NaN</td>\n",
       "      <td>NaN</td>\n",
       "      <td>NaN</td>\n",
       "      <td>NaN</td>\n",
       "      <td>NaN</td>\n",
       "      <td>NaN</td>\n",
       "    </tr>\n",
       "    <tr>\n",
       "      <th>32642454</th>\n",
       "      <td>NaN</td>\n",
       "      <td>NaN</td>\n",
       "      <td>NaN</td>\n",
       "      <td>NaN</td>\n",
       "      <td>NaN</td>\n",
       "      <td>NaN</td>\n",
       "      <td>27499.0</td>\n",
       "      <td>NaN</td>\n",
       "      <td>NaN</td>\n",
       "      <td>NaN</td>\n",
       "      <td>...</td>\n",
       "      <td>NaN</td>\n",
       "      <td>Regularly busy</td>\n",
       "      <td>Regularly busy</td>\n",
       "      <td>Average orders</td>\n",
       "      <td>NaN</td>\n",
       "      <td>NaN</td>\n",
       "      <td>NaN</td>\n",
       "      <td>High spender</td>\n",
       "      <td>NaN</td>\n",
       "      <td>NaN</td>\n",
       "    </tr>\n",
       "    <tr>\n",
       "      <th>32642455</th>\n",
       "      <td>NaN</td>\n",
       "      <td>NaN</td>\n",
       "      <td>NaN</td>\n",
       "      <td>NaN</td>\n",
       "      <td>NaN</td>\n",
       "      <td>NaN</td>\n",
       "      <td>36233.0</td>\n",
       "      <td>NaN</td>\n",
       "      <td>NaN</td>\n",
       "      <td>NaN</td>\n",
       "      <td>...</td>\n",
       "      <td>NaN</td>\n",
       "      <td>Regularly busy</td>\n",
       "      <td>Regularly busy</td>\n",
       "      <td>Average orders</td>\n",
       "      <td>NaN</td>\n",
       "      <td>NaN</td>\n",
       "      <td>NaN</td>\n",
       "      <td>High spender</td>\n",
       "      <td>NaN</td>\n",
       "      <td>NaN</td>\n",
       "    </tr>\n",
       "    <tr>\n",
       "      <th>32642456</th>\n",
       "      <td>NaN</td>\n",
       "      <td>NaN</td>\n",
       "      <td>NaN</td>\n",
       "      <td>NaN</td>\n",
       "      <td>NaN</td>\n",
       "      <td>NaN</td>\n",
       "      <td>37703.0</td>\n",
       "      <td>NaN</td>\n",
       "      <td>NaN</td>\n",
       "      <td>NaN</td>\n",
       "      <td>...</td>\n",
       "      <td>NaN</td>\n",
       "      <td>Regularly busy</td>\n",
       "      <td>Regularly busy</td>\n",
       "      <td>Average orders</td>\n",
       "      <td>NaN</td>\n",
       "      <td>NaN</td>\n",
       "      <td>NaN</td>\n",
       "      <td>High spender</td>\n",
       "      <td>NaN</td>\n",
       "      <td>NaN</td>\n",
       "    </tr>\n",
       "    <tr>\n",
       "      <th>32642457</th>\n",
       "      <td>NaN</td>\n",
       "      <td>NaN</td>\n",
       "      <td>NaN</td>\n",
       "      <td>NaN</td>\n",
       "      <td>NaN</td>\n",
       "      <td>NaN</td>\n",
       "      <td>43725.0</td>\n",
       "      <td>NaN</td>\n",
       "      <td>NaN</td>\n",
       "      <td>NaN</td>\n",
       "      <td>...</td>\n",
       "      <td>NaN</td>\n",
       "      <td>Regularly busy</td>\n",
       "      <td>Regularly busy</td>\n",
       "      <td>Average orders</td>\n",
       "      <td>NaN</td>\n",
       "      <td>NaN</td>\n",
       "      <td>NaN</td>\n",
       "      <td>NaN</td>\n",
       "      <td>NaN</td>\n",
       "      <td>NaN</td>\n",
       "    </tr>\n",
       "    <tr>\n",
       "      <th>32642458</th>\n",
       "      <td>NaN</td>\n",
       "      <td>NaN</td>\n",
       "      <td>NaN</td>\n",
       "      <td>NaN</td>\n",
       "      <td>NaN</td>\n",
       "      <td>NaN</td>\n",
       "      <td>45971.0</td>\n",
       "      <td>NaN</td>\n",
       "      <td>NaN</td>\n",
       "      <td>NaN</td>\n",
       "      <td>...</td>\n",
       "      <td>NaN</td>\n",
       "      <td>Regularly busy</td>\n",
       "      <td>Regularly busy</td>\n",
       "      <td>Average orders</td>\n",
       "      <td>NaN</td>\n",
       "      <td>NaN</td>\n",
       "      <td>NaN</td>\n",
       "      <td>NaN</td>\n",
       "      <td>NaN</td>\n",
       "      <td>NaN</td>\n",
       "    </tr>\n",
       "    <tr>\n",
       "      <th>32642459</th>\n",
       "      <td>NaN</td>\n",
       "      <td>NaN</td>\n",
       "      <td>NaN</td>\n",
       "      <td>NaN</td>\n",
       "      <td>NaN</td>\n",
       "      <td>NaN</td>\n",
       "      <td>46625.0</td>\n",
       "      <td>NaN</td>\n",
       "      <td>NaN</td>\n",
       "      <td>NaN</td>\n",
       "      <td>...</td>\n",
       "      <td>Low-range product</td>\n",
       "      <td>Regularly busy</td>\n",
       "      <td>Regularly busy</td>\n",
       "      <td>Average orders</td>\n",
       "      <td>NaN</td>\n",
       "      <td>NaN</td>\n",
       "      <td>NaN</td>\n",
       "      <td>NaN</td>\n",
       "      <td>NaN</td>\n",
       "      <td>NaN</td>\n",
       "    </tr>\n",
       "    <tr>\n",
       "      <th>32642460</th>\n",
       "      <td>NaN</td>\n",
       "      <td>NaN</td>\n",
       "      <td>NaN</td>\n",
       "      <td>NaN</td>\n",
       "      <td>NaN</td>\n",
       "      <td>NaN</td>\n",
       "      <td>49540.0</td>\n",
       "      <td>NaN</td>\n",
       "      <td>NaN</td>\n",
       "      <td>NaN</td>\n",
       "      <td>...</td>\n",
       "      <td>NaN</td>\n",
       "      <td>Regularly busy</td>\n",
       "      <td>Regularly busy</td>\n",
       "      <td>Average orders</td>\n",
       "      <td>NaN</td>\n",
       "      <td>NaN</td>\n",
       "      <td>NaN</td>\n",
       "      <td>NaN</td>\n",
       "      <td>NaN</td>\n",
       "      <td>NaN</td>\n",
       "    </tr>\n",
       "  </tbody>\n",
       "</table>\n",
       "<p>12 rows × 26 columns</p>\n",
       "</div>"
      ],
      "text/plain": [
       "           order_id   user_id  order_number  orders_day_of_the_week  \\\n",
       "32642449  3093936.0  205420.0           1.0                     4.0   \n",
       "32642450        NaN       NaN           NaN                     NaN   \n",
       "32642451        NaN       NaN           NaN                     NaN   \n",
       "32642452        NaN       NaN           NaN                     NaN   \n",
       "32642453        NaN       NaN           NaN                     NaN   \n",
       "32642454        NaN       NaN           NaN                     NaN   \n",
       "32642455        NaN       NaN           NaN                     NaN   \n",
       "32642456        NaN       NaN           NaN                     NaN   \n",
       "32642457        NaN       NaN           NaN                     NaN   \n",
       "32642458        NaN       NaN           NaN                     NaN   \n",
       "32642459        NaN       NaN           NaN                     NaN   \n",
       "32642460        NaN       NaN           NaN                     NaN   \n",
       "\n",
       "          order_hour_of_day  days_since_prior_order  product_id  \\\n",
       "32642449               14.0                     NaN     28818.0   \n",
       "32642450                NaN                     NaN      3630.0   \n",
       "32642451                NaN                     NaN      3718.0   \n",
       "32642452                NaN                     NaN      7045.0   \n",
       "32642453                NaN                     NaN     25383.0   \n",
       "32642454                NaN                     NaN     27499.0   \n",
       "32642455                NaN                     NaN     36233.0   \n",
       "32642456                NaN                     NaN     37703.0   \n",
       "32642457                NaN                     NaN     43725.0   \n",
       "32642458                NaN                     NaN     45971.0   \n",
       "32642459                NaN                     NaN     46625.0   \n",
       "32642460                NaN                     NaN     49540.0   \n",
       "\n",
       "          add_to_cart_order  reordered _merge  ...    price_range_loc  \\\n",
       "32642449                8.0        0.0   both  ...                NaN   \n",
       "32642450                NaN        NaN    NaN  ...  Low-range product   \n",
       "32642451                NaN        NaN    NaN  ...                NaN   \n",
       "32642452                NaN        NaN    NaN  ...                NaN   \n",
       "32642453                NaN        NaN    NaN  ...  Low-range product   \n",
       "32642454                NaN        NaN    NaN  ...                NaN   \n",
       "32642455                NaN        NaN    NaN  ...                NaN   \n",
       "32642456                NaN        NaN    NaN  ...                NaN   \n",
       "32642457                NaN        NaN    NaN  ...                NaN   \n",
       "32642458                NaN        NaN    NaN  ...                NaN   \n",
       "32642459                NaN        NaN    NaN  ...  Low-range product   \n",
       "32642460                NaN        NaN    NaN  ...                NaN   \n",
       "\n",
       "             busiest_day    busiest_days     Most orders  max_order  \\\n",
       "32642449      Least busy  Regularly busy     Most orders       17.0   \n",
       "32642450  Regularly busy  Regularly busy  Average orders        NaN   \n",
       "32642451  Regularly busy  Regularly busy  Average orders        NaN   \n",
       "32642452  Regularly busy  Regularly busy  Average orders        NaN   \n",
       "32642453  Regularly busy  Regularly busy  Average orders        NaN   \n",
       "32642454  Regularly busy  Regularly busy  Average orders        NaN   \n",
       "32642455  Regularly busy  Regularly busy  Average orders        NaN   \n",
       "32642456  Regularly busy  Regularly busy  Average orders        NaN   \n",
       "32642457  Regularly busy  Regularly busy  Average orders        NaN   \n",
       "32642458  Regularly busy  Regularly busy  Average orders        NaN   \n",
       "32642459  Regularly busy  Regularly busy  Average orders        NaN   \n",
       "32642460  Regularly busy  Regularly busy  Average orders        NaN   \n",
       "\n",
       "              loyalty_flag avg_spent  spender_type median_order_days  \\\n",
       "32642449  Regular customer  7.684746  High spender              13.0   \n",
       "32642450               NaN       NaN           NaN               NaN   \n",
       "32642451               NaN       NaN  High spender               NaN   \n",
       "32642452               NaN       NaN           NaN               NaN   \n",
       "32642453               NaN       NaN           NaN               NaN   \n",
       "32642454               NaN       NaN  High spender               NaN   \n",
       "32642455               NaN       NaN  High spender               NaN   \n",
       "32642456               NaN       NaN  High spender               NaN   \n",
       "32642457               NaN       NaN           NaN               NaN   \n",
       "32642458               NaN       NaN           NaN               NaN   \n",
       "32642459               NaN       NaN           NaN               NaN   \n",
       "32642460               NaN       NaN           NaN               NaN   \n",
       "\n",
       "             customer_type  \n",
       "32642449  Regular customer  \n",
       "32642450               NaN  \n",
       "32642451               NaN  \n",
       "32642452               NaN  \n",
       "32642453               NaN  \n",
       "32642454               NaN  \n",
       "32642455               NaN  \n",
       "32642456               NaN  \n",
       "32642457               NaN  \n",
       "32642458               NaN  \n",
       "32642459               NaN  \n",
       "32642460               NaN  \n",
       "\n",
       "[12 rows x 26 columns]"
      ]
     },
     "execution_count": 36,
     "metadata": {},
     "output_type": "execute_result"
    }
   ],
   "source": [
    "ords_prods_new.tail(12)"
   ]
  },
  {
   "cell_type": "code",
   "execution_count": 37,
   "id": "b9b4997b",
   "metadata": {},
   "outputs": [
    {
     "data": {
      "text/plain": [
       "dtype('float64')"
      ]
     },
     "execution_count": 37,
     "metadata": {},
     "output_type": "execute_result"
    }
   ],
   "source": [
    "ords_prods_new['user_id'].dtype"
   ]
  },
  {
   "cell_type": "code",
   "execution_count": 38,
   "id": "ec29109e",
   "metadata": {},
   "outputs": [
    {
     "data": {
      "text/plain": [
       "dtype('O')"
      ]
     },
     "execution_count": 38,
     "metadata": {},
     "output_type": "execute_result"
    }
   ],
   "source": [
    "df_customers['user_id'].dtype"
   ]
  },
  {
   "cell_type": "code",
   "execution_count": 39,
   "id": "ae4fbcb2",
   "metadata": {},
   "outputs": [],
   "source": [
    "# changing df_customers 'user_id' back to 'int64' to facilitate merge\n",
    "df_customers['user_id'] = df_customers['user_id'].astype('int64')"
   ]
  },
  {
   "cell_type": "code",
   "execution_count": 40,
   "id": "d781cc9d",
   "metadata": {},
   "outputs": [
    {
     "data": {
      "text/plain": [
       "dtype('int64')"
      ]
     },
     "execution_count": 40,
     "metadata": {},
     "output_type": "execute_result"
    }
   ],
   "source": [
    "df_customers['user_id'].dtype"
   ]
  },
  {
   "cell_type": "code",
   "execution_count": 41,
   "id": "c4b7da95",
   "metadata": {},
   "outputs": [
    {
     "data": {
      "text/plain": [
       "(206209, 10)"
      ]
     },
     "execution_count": 41,
     "metadata": {},
     "output_type": "execute_result"
    }
   ],
   "source": [
    "df_customers.shape"
   ]
  },
  {
   "cell_type": "markdown",
   "id": "07cc74dd",
   "metadata": {},
   "source": [
    "# 05. Merging data"
   ]
  },
  {
   "cell_type": "code",
   "execution_count": 42,
   "id": "74707a99",
   "metadata": {},
   "outputs": [],
   "source": [
    "# Task Step 6: Combine your customer data with the rest of your prepared Instacart data\n"
   ]
  },
  {
   "cell_type": "code",
   "execution_count": 43,
   "id": "07f5d5b2",
   "metadata": {},
   "outputs": [],
   "source": [
    "# joining df_customers and ords_prods_new will be on user_id."
   ]
  },
  {
   "cell_type": "code",
   "execution_count": 44,
   "id": "cdf750a9",
   "metadata": {},
   "outputs": [
    {
     "name": "stdout",
     "output_type": "stream",
     "text": [
      "<class 'pandas.core.frame.DataFrame'>\n",
      "Int64Index: 32642461 entries, 0 to 32642460\n",
      "Data columns (total 26 columns):\n",
      " #   Column                  Dtype   \n",
      "---  ------                  -----   \n",
      " 0   order_id                float64 \n",
      " 1   user_id                 float64 \n",
      " 2   order_number            float64 \n",
      " 3   orders_day_of_the_week  float64 \n",
      " 4   order_hour_of_day       float64 \n",
      " 5   days_since_prior_order  float64 \n",
      " 6   product_id              float64 \n",
      " 7   add_to_cart_order       float64 \n",
      " 8   reordered               float64 \n",
      " 9   _merge                  category\n",
      " 10  Unnamed: 0              float64 \n",
      " 11  product_name            object  \n",
      " 12  aisle_id                float64 \n",
      " 13  department_id           float64 \n",
      " 14  prices                  float64 \n",
      " 15  merge_flag              category\n",
      " 16  price_range_loc         object  \n",
      " 17  busiest_day             object  \n",
      " 18  busiest_days            object  \n",
      " 19  Most orders             object  \n",
      " 20  max_order               float64 \n",
      " 21  loyalty_flag            object  \n",
      " 22  avg_spent               float64 \n",
      " 23  spender_type            object  \n",
      " 24  median_order_days       float64 \n",
      " 25  customer_type           object  \n",
      "dtypes: category(2), float64(16), object(8)\n",
      "memory usage: 6.1+ GB\n"
     ]
    }
   ],
   "source": [
    "ords_prods_new.info()"
   ]
  },
  {
   "cell_type": "code",
   "execution_count": 45,
   "id": "97160ac7",
   "metadata": {},
   "outputs": [],
   "source": [
    "ords_prods_new.rename(columns = {'_merge' : 'ords_priors_combined', 'merge_flag' : 'prods_clened_combined'}, inplace = True)\n"
   ]
  },
  {
   "cell_type": "code",
   "execution_count": 46,
   "id": "072cbc8a",
   "metadata": {},
   "outputs": [
    {
     "name": "stdout",
     "output_type": "stream",
     "text": [
      "<class 'pandas.core.frame.DataFrame'>\n",
      "Int64Index: 32642461 entries, 0 to 32642460\n",
      "Data columns (total 26 columns):\n",
      " #   Column                  Dtype   \n",
      "---  ------                  -----   \n",
      " 0   order_id                float64 \n",
      " 1   user_id                 float64 \n",
      " 2   order_number            float64 \n",
      " 3   orders_day_of_the_week  float64 \n",
      " 4   order_hour_of_day       float64 \n",
      " 5   days_since_prior_order  float64 \n",
      " 6   product_id              float64 \n",
      " 7   add_to_cart_order       float64 \n",
      " 8   reordered               float64 \n",
      " 9   ords_priors_combined    category\n",
      " 10  Unnamed: 0              float64 \n",
      " 11  product_name            object  \n",
      " 12  aisle_id                float64 \n",
      " 13  department_id           float64 \n",
      " 14  prices                  float64 \n",
      " 15  prods_clened_combined   category\n",
      " 16  price_range_loc         object  \n",
      " 17  busiest_day             object  \n",
      " 18  busiest_days            object  \n",
      " 19  Most orders             object  \n",
      " 20  max_order               float64 \n",
      " 21  loyalty_flag            object  \n",
      " 22  avg_spent               float64 \n",
      " 23  spender_type            object  \n",
      " 24  median_order_days       float64 \n",
      " 25  customer_type           object  \n",
      "dtypes: category(2), float64(16), object(8)\n",
      "memory usage: 6.1+ GB\n"
     ]
    }
   ],
   "source": [
    "ords_prods_new.info()"
   ]
  },
  {
   "cell_type": "code",
   "execution_count": 47,
   "id": "c444633d",
   "metadata": {},
   "outputs": [],
   "source": [
    "# merging df_customers and ords_prods_new\n",
    "df_merged = df_customers.merge(ords_prods_new, on = ['user_id'], indicator = True)"
   ]
  },
  {
   "cell_type": "code",
   "execution_count": 48,
   "id": "92002298",
   "metadata": {},
   "outputs": [
    {
     "data": {
      "text/html": [
       "<div>\n",
       "<style scoped>\n",
       "    .dataframe tbody tr th:only-of-type {\n",
       "        vertical-align: middle;\n",
       "    }\n",
       "\n",
       "    .dataframe tbody tr th {\n",
       "        vertical-align: top;\n",
       "    }\n",
       "\n",
       "    .dataframe thead th {\n",
       "        text-align: right;\n",
       "    }\n",
       "</style>\n",
       "<table border=\"1\" class=\"dataframe\">\n",
       "  <thead>\n",
       "    <tr style=\"text-align: right;\">\n",
       "      <th></th>\n",
       "      <th>user_id</th>\n",
       "      <th>first_name</th>\n",
       "      <th>last_name</th>\n",
       "      <th>gender</th>\n",
       "      <th>state</th>\n",
       "      <th>age</th>\n",
       "      <th>date_joined</th>\n",
       "      <th>number_of_dependents</th>\n",
       "      <th>family_status</th>\n",
       "      <th>income</th>\n",
       "      <th>...</th>\n",
       "      <th>busiest_day</th>\n",
       "      <th>busiest_days</th>\n",
       "      <th>Most orders</th>\n",
       "      <th>max_order</th>\n",
       "      <th>loyalty_flag</th>\n",
       "      <th>avg_spent</th>\n",
       "      <th>spender_type</th>\n",
       "      <th>median_order_days</th>\n",
       "      <th>customer_type</th>\n",
       "      <th>_merge</th>\n",
       "    </tr>\n",
       "  </thead>\n",
       "  <tbody>\n",
       "    <tr>\n",
       "      <th>0</th>\n",
       "      <td>26711</td>\n",
       "      <td>Deborah</td>\n",
       "      <td>Esquivel</td>\n",
       "      <td>Female</td>\n",
       "      <td>Missouri</td>\n",
       "      <td>48</td>\n",
       "      <td>1/1/2017</td>\n",
       "      <td>3</td>\n",
       "      <td>married</td>\n",
       "      <td>165665</td>\n",
       "      <td>...</td>\n",
       "      <td>Regularly busy</td>\n",
       "      <td>Regularly busy</td>\n",
       "      <td>Fewest orders</td>\n",
       "      <td>9.0</td>\n",
       "      <td>New customer</td>\n",
       "      <td>7.988889</td>\n",
       "      <td>Low spender</td>\n",
       "      <td>20.0</td>\n",
       "      <td>Regular customer</td>\n",
       "      <td>both</td>\n",
       "    </tr>\n",
       "    <tr>\n",
       "      <th>1</th>\n",
       "      <td>26711</td>\n",
       "      <td>Deborah</td>\n",
       "      <td>Esquivel</td>\n",
       "      <td>Female</td>\n",
       "      <td>Missouri</td>\n",
       "      <td>48</td>\n",
       "      <td>1/1/2017</td>\n",
       "      <td>3</td>\n",
       "      <td>married</td>\n",
       "      <td>165665</td>\n",
       "      <td>...</td>\n",
       "      <td>Regularly busy</td>\n",
       "      <td>Regularly busy</td>\n",
       "      <td>Most orders</td>\n",
       "      <td>9.0</td>\n",
       "      <td>New customer</td>\n",
       "      <td>7.988889</td>\n",
       "      <td>Low spender</td>\n",
       "      <td>20.0</td>\n",
       "      <td>Regular customer</td>\n",
       "      <td>both</td>\n",
       "    </tr>\n",
       "    <tr>\n",
       "      <th>2</th>\n",
       "      <td>26711</td>\n",
       "      <td>Deborah</td>\n",
       "      <td>Esquivel</td>\n",
       "      <td>Female</td>\n",
       "      <td>Missouri</td>\n",
       "      <td>48</td>\n",
       "      <td>1/1/2017</td>\n",
       "      <td>3</td>\n",
       "      <td>married</td>\n",
       "      <td>165665</td>\n",
       "      <td>...</td>\n",
       "      <td>Regularly busy</td>\n",
       "      <td>Regularly busy</td>\n",
       "      <td>Most orders</td>\n",
       "      <td>9.0</td>\n",
       "      <td>New customer</td>\n",
       "      <td>7.988889</td>\n",
       "      <td>Low spender</td>\n",
       "      <td>20.0</td>\n",
       "      <td>Regular customer</td>\n",
       "      <td>both</td>\n",
       "    </tr>\n",
       "    <tr>\n",
       "      <th>3</th>\n",
       "      <td>26711</td>\n",
       "      <td>Deborah</td>\n",
       "      <td>Esquivel</td>\n",
       "      <td>Female</td>\n",
       "      <td>Missouri</td>\n",
       "      <td>48</td>\n",
       "      <td>1/1/2017</td>\n",
       "      <td>3</td>\n",
       "      <td>married</td>\n",
       "      <td>165665</td>\n",
       "      <td>...</td>\n",
       "      <td>Regularly busy</td>\n",
       "      <td>Regularly busy</td>\n",
       "      <td>Fewest orders</td>\n",
       "      <td>9.0</td>\n",
       "      <td>New customer</td>\n",
       "      <td>7.988889</td>\n",
       "      <td>High spender</td>\n",
       "      <td>20.0</td>\n",
       "      <td>Regular customer</td>\n",
       "      <td>both</td>\n",
       "    </tr>\n",
       "    <tr>\n",
       "      <th>4</th>\n",
       "      <td>26711</td>\n",
       "      <td>Deborah</td>\n",
       "      <td>Esquivel</td>\n",
       "      <td>Female</td>\n",
       "      <td>Missouri</td>\n",
       "      <td>48</td>\n",
       "      <td>1/1/2017</td>\n",
       "      <td>3</td>\n",
       "      <td>married</td>\n",
       "      <td>165665</td>\n",
       "      <td>...</td>\n",
       "      <td>Regularly busy</td>\n",
       "      <td>Regularly busy</td>\n",
       "      <td>Most orders</td>\n",
       "      <td>9.0</td>\n",
       "      <td>New customer</td>\n",
       "      <td>7.988889</td>\n",
       "      <td>High spender</td>\n",
       "      <td>20.0</td>\n",
       "      <td>Regular customer</td>\n",
       "      <td>both</td>\n",
       "    </tr>\n",
       "  </tbody>\n",
       "</table>\n",
       "<p>5 rows × 36 columns</p>\n",
       "</div>"
      ],
      "text/plain": [
       "   user_id first_name last_name  gender     state  age date_joined  \\\n",
       "0    26711    Deborah  Esquivel  Female  Missouri   48    1/1/2017   \n",
       "1    26711    Deborah  Esquivel  Female  Missouri   48    1/1/2017   \n",
       "2    26711    Deborah  Esquivel  Female  Missouri   48    1/1/2017   \n",
       "3    26711    Deborah  Esquivel  Female  Missouri   48    1/1/2017   \n",
       "4    26711    Deborah  Esquivel  Female  Missouri   48    1/1/2017   \n",
       "\n",
       "   number_of_dependents family_status  income  ...     busiest_day  \\\n",
       "0                     3       married  165665  ...  Regularly busy   \n",
       "1                     3       married  165665  ...  Regularly busy   \n",
       "2                     3       married  165665  ...  Regularly busy   \n",
       "3                     3       married  165665  ...  Regularly busy   \n",
       "4                     3       married  165665  ...  Regularly busy   \n",
       "\n",
       "     busiest_days    Most orders  max_order  loyalty_flag  avg_spent  \\\n",
       "0  Regularly busy  Fewest orders        9.0  New customer   7.988889   \n",
       "1  Regularly busy    Most orders        9.0  New customer   7.988889   \n",
       "2  Regularly busy    Most orders        9.0  New customer   7.988889   \n",
       "3  Regularly busy  Fewest orders        9.0  New customer   7.988889   \n",
       "4  Regularly busy    Most orders        9.0  New customer   7.988889   \n",
       "\n",
       "   spender_type  median_order_days     customer_type  _merge  \n",
       "0   Low spender               20.0  Regular customer    both  \n",
       "1   Low spender               20.0  Regular customer    both  \n",
       "2   Low spender               20.0  Regular customer    both  \n",
       "3  High spender               20.0  Regular customer    both  \n",
       "4  High spender               20.0  Regular customer    both  \n",
       "\n",
       "[5 rows x 36 columns]"
      ]
     },
     "execution_count": 48,
     "metadata": {},
     "output_type": "execute_result"
    }
   ],
   "source": [
    "# merging checks\n",
    "df_merged.head()"
   ]
  },
  {
   "cell_type": "code",
   "execution_count": 49,
   "id": "fdbb492b",
   "metadata": {},
   "outputs": [
    {
     "name": "stdout",
     "output_type": "stream",
     "text": [
      "<class 'pandas.core.frame.DataFrame'>\n",
      "Int64Index: 32642450 entries, 0 to 32642449\n",
      "Data columns (total 36 columns):\n",
      " #   Column                  Dtype   \n",
      "---  ------                  -----   \n",
      " 0   user_id                 int64   \n",
      " 1   first_name              object  \n",
      " 2   last_name               object  \n",
      " 3   gender                  object  \n",
      " 4   state                   object  \n",
      " 5   age                     int64   \n",
      " 6   date_joined             object  \n",
      " 7   number_of_dependents    int64   \n",
      " 8   family_status           object  \n",
      " 9   income                  int64   \n",
      " 10  order_id                float64 \n",
      " 11  order_number            float64 \n",
      " 12  orders_day_of_the_week  float64 \n",
      " 13  order_hour_of_day       float64 \n",
      " 14  days_since_prior_order  float64 \n",
      " 15  product_id              float64 \n",
      " 16  add_to_cart_order       float64 \n",
      " 17  reordered               float64 \n",
      " 18  ords_priors_combined    category\n",
      " 19  Unnamed: 0              float64 \n",
      " 20  product_name            object  \n",
      " 21  aisle_id                float64 \n",
      " 22  department_id           float64 \n",
      " 23  prices                  float64 \n",
      " 24  prods_clened_combined   category\n",
      " 25  price_range_loc         object  \n",
      " 26  busiest_day             object  \n",
      " 27  busiest_days            object  \n",
      " 28  Most orders             object  \n",
      " 29  max_order               float64 \n",
      " 30  loyalty_flag            object  \n",
      " 31  avg_spent               float64 \n",
      " 32  spender_type            object  \n",
      " 33  median_order_days       float64 \n",
      " 34  customer_type           object  \n",
      " 35  _merge                  category\n",
      "dtypes: category(3), float64(15), int64(4), object(14)\n",
      "memory usage: 8.4+ GB\n"
     ]
    }
   ],
   "source": [
    "df_merged.info()"
   ]
  },
  {
   "cell_type": "code",
   "execution_count": 50,
   "id": "8676101f",
   "metadata": {},
   "outputs": [
    {
     "data": {
      "text/plain": [
       "(32642450, 36)"
      ]
     },
     "execution_count": 50,
     "metadata": {},
     "output_type": "execute_result"
    }
   ],
   "source": [
    "df_merged.shape"
   ]
  },
  {
   "cell_type": "code",
   "execution_count": 51,
   "id": "c7b3ca30",
   "metadata": {},
   "outputs": [
    {
     "data": {
      "text/html": [
       "<div>\n",
       "<style scoped>\n",
       "    .dataframe tbody tr th:only-of-type {\n",
       "        vertical-align: middle;\n",
       "    }\n",
       "\n",
       "    .dataframe tbody tr th {\n",
       "        vertical-align: top;\n",
       "    }\n",
       "\n",
       "    .dataframe thead th {\n",
       "        text-align: right;\n",
       "    }\n",
       "</style>\n",
       "<table border=\"1\" class=\"dataframe\">\n",
       "  <thead>\n",
       "    <tr style=\"text-align: right;\">\n",
       "      <th></th>\n",
       "      <th>user_id</th>\n",
       "      <th>first_name</th>\n",
       "      <th>last_name</th>\n",
       "      <th>gender</th>\n",
       "      <th>state</th>\n",
       "      <th>age</th>\n",
       "      <th>date_joined</th>\n",
       "      <th>number_of_dependents</th>\n",
       "      <th>family_status</th>\n",
       "      <th>income</th>\n",
       "      <th>...</th>\n",
       "      <th>price_range_loc</th>\n",
       "      <th>busiest_day</th>\n",
       "      <th>busiest_days</th>\n",
       "      <th>Most orders</th>\n",
       "      <th>max_order</th>\n",
       "      <th>loyalty_flag</th>\n",
       "      <th>avg_spent</th>\n",
       "      <th>spender_type</th>\n",
       "      <th>median_order_days</th>\n",
       "      <th>customer_type</th>\n",
       "    </tr>\n",
       "  </thead>\n",
       "  <tbody>\n",
       "    <tr>\n",
       "      <th>0</th>\n",
       "      <td>26711</td>\n",
       "      <td>Deborah</td>\n",
       "      <td>Esquivel</td>\n",
       "      <td>Female</td>\n",
       "      <td>Missouri</td>\n",
       "      <td>48</td>\n",
       "      <td>1/1/2017</td>\n",
       "      <td>3</td>\n",
       "      <td>married</td>\n",
       "      <td>165665</td>\n",
       "      <td>...</td>\n",
       "      <td>Mid-range product</td>\n",
       "      <td>Regularly busy</td>\n",
       "      <td>Regularly busy</td>\n",
       "      <td>Fewest orders</td>\n",
       "      <td>9.0</td>\n",
       "      <td>New customer</td>\n",
       "      <td>7.988889</td>\n",
       "      <td>Low spender</td>\n",
       "      <td>20.0</td>\n",
       "      <td>Regular customer</td>\n",
       "    </tr>\n",
       "    <tr>\n",
       "      <th>1</th>\n",
       "      <td>26711</td>\n",
       "      <td>Deborah</td>\n",
       "      <td>Esquivel</td>\n",
       "      <td>Female</td>\n",
       "      <td>Missouri</td>\n",
       "      <td>48</td>\n",
       "      <td>1/1/2017</td>\n",
       "      <td>3</td>\n",
       "      <td>married</td>\n",
       "      <td>165665</td>\n",
       "      <td>...</td>\n",
       "      <td>Mid-range product</td>\n",
       "      <td>Regularly busy</td>\n",
       "      <td>Regularly busy</td>\n",
       "      <td>Most orders</td>\n",
       "      <td>9.0</td>\n",
       "      <td>New customer</td>\n",
       "      <td>7.988889</td>\n",
       "      <td>Low spender</td>\n",
       "      <td>20.0</td>\n",
       "      <td>Regular customer</td>\n",
       "    </tr>\n",
       "    <tr>\n",
       "      <th>2</th>\n",
       "      <td>26711</td>\n",
       "      <td>Deborah</td>\n",
       "      <td>Esquivel</td>\n",
       "      <td>Female</td>\n",
       "      <td>Missouri</td>\n",
       "      <td>48</td>\n",
       "      <td>1/1/2017</td>\n",
       "      <td>3</td>\n",
       "      <td>married</td>\n",
       "      <td>165665</td>\n",
       "      <td>...</td>\n",
       "      <td>Mid-range product</td>\n",
       "      <td>Regularly busy</td>\n",
       "      <td>Regularly busy</td>\n",
       "      <td>Most orders</td>\n",
       "      <td>9.0</td>\n",
       "      <td>New customer</td>\n",
       "      <td>7.988889</td>\n",
       "      <td>Low spender</td>\n",
       "      <td>20.0</td>\n",
       "      <td>Regular customer</td>\n",
       "    </tr>\n",
       "    <tr>\n",
       "      <th>3</th>\n",
       "      <td>26711</td>\n",
       "      <td>Deborah</td>\n",
       "      <td>Esquivel</td>\n",
       "      <td>Female</td>\n",
       "      <td>Missouri</td>\n",
       "      <td>48</td>\n",
       "      <td>1/1/2017</td>\n",
       "      <td>3</td>\n",
       "      <td>married</td>\n",
       "      <td>165665</td>\n",
       "      <td>...</td>\n",
       "      <td>Mid-range product</td>\n",
       "      <td>Regularly busy</td>\n",
       "      <td>Regularly busy</td>\n",
       "      <td>Fewest orders</td>\n",
       "      <td>9.0</td>\n",
       "      <td>New customer</td>\n",
       "      <td>7.988889</td>\n",
       "      <td>High spender</td>\n",
       "      <td>20.0</td>\n",
       "      <td>Regular customer</td>\n",
       "    </tr>\n",
       "    <tr>\n",
       "      <th>4</th>\n",
       "      <td>26711</td>\n",
       "      <td>Deborah</td>\n",
       "      <td>Esquivel</td>\n",
       "      <td>Female</td>\n",
       "      <td>Missouri</td>\n",
       "      <td>48</td>\n",
       "      <td>1/1/2017</td>\n",
       "      <td>3</td>\n",
       "      <td>married</td>\n",
       "      <td>165665</td>\n",
       "      <td>...</td>\n",
       "      <td>Mid-range product</td>\n",
       "      <td>Regularly busy</td>\n",
       "      <td>Regularly busy</td>\n",
       "      <td>Most orders</td>\n",
       "      <td>9.0</td>\n",
       "      <td>New customer</td>\n",
       "      <td>7.988889</td>\n",
       "      <td>High spender</td>\n",
       "      <td>20.0</td>\n",
       "      <td>Regular customer</td>\n",
       "    </tr>\n",
       "    <tr>\n",
       "      <th>...</th>\n",
       "      <td>...</td>\n",
       "      <td>...</td>\n",
       "      <td>...</td>\n",
       "      <td>...</td>\n",
       "      <td>...</td>\n",
       "      <td>...</td>\n",
       "      <td>...</td>\n",
       "      <td>...</td>\n",
       "      <td>...</td>\n",
       "      <td>...</td>\n",
       "      <td>...</td>\n",
       "      <td>...</td>\n",
       "      <td>...</td>\n",
       "      <td>...</td>\n",
       "      <td>...</td>\n",
       "      <td>...</td>\n",
       "      <td>...</td>\n",
       "      <td>...</td>\n",
       "      <td>...</td>\n",
       "      <td>...</td>\n",
       "      <td>...</td>\n",
       "    </tr>\n",
       "    <tr>\n",
       "      <th>32642445</th>\n",
       "      <td>80148</td>\n",
       "      <td>Cynthia</td>\n",
       "      <td>Noble</td>\n",
       "      <td>Female</td>\n",
       "      <td>New York</td>\n",
       "      <td>55</td>\n",
       "      <td>4/1/2020</td>\n",
       "      <td>1</td>\n",
       "      <td>married</td>\n",
       "      <td>57095</td>\n",
       "      <td>...</td>\n",
       "      <td>Low-range product</td>\n",
       "      <td>Regularly busy</td>\n",
       "      <td>Least busy days</td>\n",
       "      <td>Most orders</td>\n",
       "      <td>5.0</td>\n",
       "      <td>New customer</td>\n",
       "      <td>3.886667</td>\n",
       "      <td>Low spender</td>\n",
       "      <td>12.0</td>\n",
       "      <td>Regular customer</td>\n",
       "    </tr>\n",
       "    <tr>\n",
       "      <th>32642446</th>\n",
       "      <td>80148</td>\n",
       "      <td>Cynthia</td>\n",
       "      <td>Noble</td>\n",
       "      <td>Female</td>\n",
       "      <td>New York</td>\n",
       "      <td>55</td>\n",
       "      <td>4/1/2020</td>\n",
       "      <td>1</td>\n",
       "      <td>married</td>\n",
       "      <td>57095</td>\n",
       "      <td>...</td>\n",
       "      <td>Low-range product</td>\n",
       "      <td>Regularly busy</td>\n",
       "      <td>Least busy days</td>\n",
       "      <td>Most orders</td>\n",
       "      <td>5.0</td>\n",
       "      <td>New customer</td>\n",
       "      <td>3.886667</td>\n",
       "      <td>Low spender</td>\n",
       "      <td>12.0</td>\n",
       "      <td>Regular customer</td>\n",
       "    </tr>\n",
       "    <tr>\n",
       "      <th>32642447</th>\n",
       "      <td>80148</td>\n",
       "      <td>Cynthia</td>\n",
       "      <td>Noble</td>\n",
       "      <td>Female</td>\n",
       "      <td>New York</td>\n",
       "      <td>55</td>\n",
       "      <td>4/1/2020</td>\n",
       "      <td>1</td>\n",
       "      <td>married</td>\n",
       "      <td>57095</td>\n",
       "      <td>...</td>\n",
       "      <td>Low-range product</td>\n",
       "      <td>Regularly busy</td>\n",
       "      <td>Least busy days</td>\n",
       "      <td>Fewest orders</td>\n",
       "      <td>5.0</td>\n",
       "      <td>New customer</td>\n",
       "      <td>3.886667</td>\n",
       "      <td>Low spender</td>\n",
       "      <td>12.0</td>\n",
       "      <td>Regular customer</td>\n",
       "    </tr>\n",
       "    <tr>\n",
       "      <th>32642448</th>\n",
       "      <td>80148</td>\n",
       "      <td>Cynthia</td>\n",
       "      <td>Noble</td>\n",
       "      <td>Female</td>\n",
       "      <td>New York</td>\n",
       "      <td>55</td>\n",
       "      <td>4/1/2020</td>\n",
       "      <td>1</td>\n",
       "      <td>married</td>\n",
       "      <td>57095</td>\n",
       "      <td>...</td>\n",
       "      <td>Low-range product</td>\n",
       "      <td>Regularly busy</td>\n",
       "      <td>Least busy days</td>\n",
       "      <td>Most orders</td>\n",
       "      <td>5.0</td>\n",
       "      <td>New customer</td>\n",
       "      <td>3.886667</td>\n",
       "      <td>Low spender</td>\n",
       "      <td>12.0</td>\n",
       "      <td>Regular customer</td>\n",
       "    </tr>\n",
       "    <tr>\n",
       "      <th>32642449</th>\n",
       "      <td>80148</td>\n",
       "      <td>Cynthia</td>\n",
       "      <td>Noble</td>\n",
       "      <td>Female</td>\n",
       "      <td>New York</td>\n",
       "      <td>55</td>\n",
       "      <td>4/1/2020</td>\n",
       "      <td>1</td>\n",
       "      <td>married</td>\n",
       "      <td>57095</td>\n",
       "      <td>...</td>\n",
       "      <td>NaN</td>\n",
       "      <td>Regularly busy</td>\n",
       "      <td>Least busy days</td>\n",
       "      <td>Most orders</td>\n",
       "      <td>5.0</td>\n",
       "      <td>New customer</td>\n",
       "      <td>3.886667</td>\n",
       "      <td>Low spender</td>\n",
       "      <td>12.0</td>\n",
       "      <td>Regular customer</td>\n",
       "    </tr>\n",
       "  </tbody>\n",
       "</table>\n",
       "<p>32642450 rows × 35 columns</p>\n",
       "</div>"
      ],
      "text/plain": [
       "          user_id first_name last_name  gender     state  age date_joined  \\\n",
       "0           26711    Deborah  Esquivel  Female  Missouri   48    1/1/2017   \n",
       "1           26711    Deborah  Esquivel  Female  Missouri   48    1/1/2017   \n",
       "2           26711    Deborah  Esquivel  Female  Missouri   48    1/1/2017   \n",
       "3           26711    Deborah  Esquivel  Female  Missouri   48    1/1/2017   \n",
       "4           26711    Deborah  Esquivel  Female  Missouri   48    1/1/2017   \n",
       "...           ...        ...       ...     ...       ...  ...         ...   \n",
       "32642445    80148    Cynthia     Noble  Female  New York   55    4/1/2020   \n",
       "32642446    80148    Cynthia     Noble  Female  New York   55    4/1/2020   \n",
       "32642447    80148    Cynthia     Noble  Female  New York   55    4/1/2020   \n",
       "32642448    80148    Cynthia     Noble  Female  New York   55    4/1/2020   \n",
       "32642449    80148    Cynthia     Noble  Female  New York   55    4/1/2020   \n",
       "\n",
       "          number_of_dependents family_status  income  ...    price_range_loc  \\\n",
       "0                            3       married  165665  ...  Mid-range product   \n",
       "1                            3       married  165665  ...  Mid-range product   \n",
       "2                            3       married  165665  ...  Mid-range product   \n",
       "3                            3       married  165665  ...  Mid-range product   \n",
       "4                            3       married  165665  ...  Mid-range product   \n",
       "...                        ...           ...     ...  ...                ...   \n",
       "32642445                     1       married   57095  ...  Low-range product   \n",
       "32642446                     1       married   57095  ...  Low-range product   \n",
       "32642447                     1       married   57095  ...  Low-range product   \n",
       "32642448                     1       married   57095  ...  Low-range product   \n",
       "32642449                     1       married   57095  ...                NaN   \n",
       "\n",
       "             busiest_day     busiest_days    Most orders  max_order  \\\n",
       "0         Regularly busy   Regularly busy  Fewest orders        9.0   \n",
       "1         Regularly busy   Regularly busy    Most orders        9.0   \n",
       "2         Regularly busy   Regularly busy    Most orders        9.0   \n",
       "3         Regularly busy   Regularly busy  Fewest orders        9.0   \n",
       "4         Regularly busy   Regularly busy    Most orders        9.0   \n",
       "...                  ...              ...            ...        ...   \n",
       "32642445  Regularly busy  Least busy days    Most orders        5.0   \n",
       "32642446  Regularly busy  Least busy days    Most orders        5.0   \n",
       "32642447  Regularly busy  Least busy days  Fewest orders        5.0   \n",
       "32642448  Regularly busy  Least busy days    Most orders        5.0   \n",
       "32642449  Regularly busy  Least busy days    Most orders        5.0   \n",
       "\n",
       "          loyalty_flag  avg_spent  spender_type median_order_days  \\\n",
       "0         New customer   7.988889   Low spender              20.0   \n",
       "1         New customer   7.988889   Low spender              20.0   \n",
       "2         New customer   7.988889   Low spender              20.0   \n",
       "3         New customer   7.988889  High spender              20.0   \n",
       "4         New customer   7.988889  High spender              20.0   \n",
       "...                ...        ...           ...               ...   \n",
       "32642445  New customer   3.886667   Low spender              12.0   \n",
       "32642446  New customer   3.886667   Low spender              12.0   \n",
       "32642447  New customer   3.886667   Low spender              12.0   \n",
       "32642448  New customer   3.886667   Low spender              12.0   \n",
       "32642449  New customer   3.886667   Low spender              12.0   \n",
       "\n",
       "             customer_type  \n",
       "0         Regular customer  \n",
       "1         Regular customer  \n",
       "2         Regular customer  \n",
       "3         Regular customer  \n",
       "4         Regular customer  \n",
       "...                    ...  \n",
       "32642445  Regular customer  \n",
       "32642446  Regular customer  \n",
       "32642447  Regular customer  \n",
       "32642448  Regular customer  \n",
       "32642449  Regular customer  \n",
       "\n",
       "[32642450 rows x 35 columns]"
      ]
     },
     "execution_count": 51,
     "metadata": {},
     "output_type": "execute_result"
    }
   ],
   "source": [
    "# dropping unneeded column _merge\n",
    "df_merged.drop(columns = ['_merge'])"
   ]
  },
  {
   "cell_type": "markdown",
   "id": "5c271d2d",
   "metadata": {},
   "source": [
    "# 05. Exporting\n",
    "df-merged as \"Orders_products_all\""
   ]
  },
  {
   "cell_type": "code",
   "execution_count": 52,
   "id": "59db69a0",
   "metadata": {},
   "outputs": [],
   "source": [
    "# Task Step 7,8 and 9"
   ]
  },
  {
   "cell_type": "code",
   "execution_count": 53,
   "id": "c2846546",
   "metadata": {},
   "outputs": [],
   "source": [
    "df_merged.to_pickle(os.path.join(path, '02 Data', 'Prepared Data', 'Orders_products_all.pkl'))\n"
   ]
  },
  {
   "cell_type": "code",
   "execution_count": null,
   "id": "fec62847",
   "metadata": {},
   "outputs": [],
   "source": []
  }
 ],
 "metadata": {
  "kernelspec": {
   "display_name": "Python 3 (ipykernel)",
   "language": "python",
   "name": "python3"
  },
  "language_info": {
   "codemirror_mode": {
    "name": "ipython",
    "version": 3
   },
   "file_extension": ".py",
   "mimetype": "text/x-python",
   "name": "python",
   "nbconvert_exporter": "python",
   "pygments_lexer": "ipython3",
   "version": "3.11.3"
  }
 },
 "nbformat": 4,
 "nbformat_minor": 5
}
