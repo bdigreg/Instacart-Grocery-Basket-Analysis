{
 "cells": [
  {
   "cell_type": "markdown",
   "id": "e1a8f0b9",
   "metadata": {},
   "source": [
    "# 01. Import data and libraries"
   ]
  },
  {
   "cell_type": "code",
   "execution_count": 1,
   "id": "e8d18160",
   "metadata": {},
   "outputs": [],
   "source": [
    "# Import libraries\n",
    "\n",
    "import pandas as pd\n",
    "import numpy as np\n",
    "import os\n",
    "import matplotlib.pyplot as plt\n",
    "import seaborn as sns\n",
    "import scipy"
   ]
  },
  {
   "cell_type": "code",
   "execution_count": 2,
   "id": "be3dc626",
   "metadata": {},
   "outputs": [],
   "source": [
    "# Import data ords_prods_new.pkl from 4.8 \n",
    "path = r'/Users/bdigregorio/Desktop/CareerFoundry/' \\\n",
    "r'Data Immersion/Data Immersion 4/DI 4.2/Instacart Basket Analysis'"
   ]
  },
  {
   "cell_type": "code",
   "execution_count": 3,
   "id": "8b540b45",
   "metadata": {},
   "outputs": [
    {
     "data": {
      "text/plain": [
       "'/Users/bdigregorio/Desktop/CareerFoundry/Data Immersion/Data Immersion 4/DI 4.2/Instacart Basket Analysis'"
      ]
     },
     "execution_count": 3,
     "metadata": {},
     "output_type": "execute_result"
    }
   ],
   "source": [
    "path"
   ]
  },
  {
   "cell_type": "code",
   "execution_count": 4,
   "id": "5d0258b8",
   "metadata": {},
   "outputs": [],
   "source": [
    "ords_prods_new = pd.read_pickle(os.path.join(path, '02 Data', 'Prepared Data', 'ords_prods_new.pkl'))\n"
   ]
  },
  {
   "cell_type": "code",
   "execution_count": 5,
   "id": "97503bd9",
   "metadata": {},
   "outputs": [
    {
     "data": {
      "text/plain": [
       "(32642461, 26)"
      ]
     },
     "execution_count": 5,
     "metadata": {},
     "output_type": "execute_result"
    }
   ],
   "source": [
    "ords_prods_new.shape"
   ]
  },
  {
   "cell_type": "code",
   "execution_count": 6,
   "id": "996b9b8d",
   "metadata": {},
   "outputs": [
    {
     "data": {
      "text/html": [
       "<div>\n",
       "<style scoped>\n",
       "    .dataframe tbody tr th:only-of-type {\n",
       "        vertical-align: middle;\n",
       "    }\n",
       "\n",
       "    .dataframe tbody tr th {\n",
       "        vertical-align: top;\n",
       "    }\n",
       "\n",
       "    .dataframe thead th {\n",
       "        text-align: right;\n",
       "    }\n",
       "</style>\n",
       "<table border=\"1\" class=\"dataframe\">\n",
       "  <thead>\n",
       "    <tr style=\"text-align: right;\">\n",
       "      <th></th>\n",
       "      <th>order_id</th>\n",
       "      <th>user_id</th>\n",
       "      <th>order_number</th>\n",
       "      <th>orders_day_of_the_week</th>\n",
       "      <th>order_hour_of_day</th>\n",
       "      <th>days_since_prior_order</th>\n",
       "      <th>product_id</th>\n",
       "      <th>add_to_cart_order</th>\n",
       "      <th>reordered</th>\n",
       "      <th>_merge</th>\n",
       "      <th>...</th>\n",
       "      <th>price_range_loc</th>\n",
       "      <th>busiest_day</th>\n",
       "      <th>busiest_days</th>\n",
       "      <th>Most orders</th>\n",
       "      <th>max_order</th>\n",
       "      <th>loyalty_flag</th>\n",
       "      <th>avg_spent</th>\n",
       "      <th>spender_type</th>\n",
       "      <th>median_order_days</th>\n",
       "      <th>customer_type</th>\n",
       "    </tr>\n",
       "  </thead>\n",
       "  <tbody>\n",
       "    <tr>\n",
       "      <th>0</th>\n",
       "      <td>2539329.0</td>\n",
       "      <td>1.0</td>\n",
       "      <td>1.0</td>\n",
       "      <td>2.0</td>\n",
       "      <td>8.0</td>\n",
       "      <td>NaN</td>\n",
       "      <td>196.0</td>\n",
       "      <td>1.0</td>\n",
       "      <td>0.0</td>\n",
       "      <td>both</td>\n",
       "      <td>...</td>\n",
       "      <td>Mid-range product</td>\n",
       "      <td>Regularly busy</td>\n",
       "      <td>Regularly busy</td>\n",
       "      <td>Fewest orders</td>\n",
       "      <td>11.0</td>\n",
       "      <td>Regular customer</td>\n",
       "      <td>6.367797</td>\n",
       "      <td>Low spender</td>\n",
       "      <td>20.0</td>\n",
       "      <td>Regular customer</td>\n",
       "    </tr>\n",
       "    <tr>\n",
       "      <th>1</th>\n",
       "      <td>2398795.0</td>\n",
       "      <td>1.0</td>\n",
       "      <td>2.0</td>\n",
       "      <td>3.0</td>\n",
       "      <td>7.0</td>\n",
       "      <td>15.0</td>\n",
       "      <td>196.0</td>\n",
       "      <td>1.0</td>\n",
       "      <td>1.0</td>\n",
       "      <td>both</td>\n",
       "      <td>...</td>\n",
       "      <td>Mid-range product</td>\n",
       "      <td>Regularly busy</td>\n",
       "      <td>Regularly busy</td>\n",
       "      <td>Fewest orders</td>\n",
       "      <td>11.0</td>\n",
       "      <td>Regular customer</td>\n",
       "      <td>6.367797</td>\n",
       "      <td>Low spender</td>\n",
       "      <td>20.0</td>\n",
       "      <td>Regular customer</td>\n",
       "    </tr>\n",
       "    <tr>\n",
       "      <th>2</th>\n",
       "      <td>473747.0</td>\n",
       "      <td>1.0</td>\n",
       "      <td>3.0</td>\n",
       "      <td>3.0</td>\n",
       "      <td>12.0</td>\n",
       "      <td>21.0</td>\n",
       "      <td>196.0</td>\n",
       "      <td>1.0</td>\n",
       "      <td>1.0</td>\n",
       "      <td>both</td>\n",
       "      <td>...</td>\n",
       "      <td>Mid-range product</td>\n",
       "      <td>Regularly busy</td>\n",
       "      <td>Regularly busy</td>\n",
       "      <td>Most orders</td>\n",
       "      <td>11.0</td>\n",
       "      <td>Regular customer</td>\n",
       "      <td>6.367797</td>\n",
       "      <td>Low spender</td>\n",
       "      <td>20.0</td>\n",
       "      <td>Regular customer</td>\n",
       "    </tr>\n",
       "    <tr>\n",
       "      <th>3</th>\n",
       "      <td>2254736.0</td>\n",
       "      <td>1.0</td>\n",
       "      <td>4.0</td>\n",
       "      <td>4.0</td>\n",
       "      <td>7.0</td>\n",
       "      <td>29.0</td>\n",
       "      <td>196.0</td>\n",
       "      <td>1.0</td>\n",
       "      <td>1.0</td>\n",
       "      <td>both</td>\n",
       "      <td>...</td>\n",
       "      <td>Mid-range product</td>\n",
       "      <td>Least busy</td>\n",
       "      <td>Regularly busy</td>\n",
       "      <td>Fewest orders</td>\n",
       "      <td>11.0</td>\n",
       "      <td>Regular customer</td>\n",
       "      <td>6.367797</td>\n",
       "      <td>Low spender</td>\n",
       "      <td>20.0</td>\n",
       "      <td>Regular customer</td>\n",
       "    </tr>\n",
       "    <tr>\n",
       "      <th>4</th>\n",
       "      <td>431534.0</td>\n",
       "      <td>1.0</td>\n",
       "      <td>5.0</td>\n",
       "      <td>4.0</td>\n",
       "      <td>15.0</td>\n",
       "      <td>28.0</td>\n",
       "      <td>196.0</td>\n",
       "      <td>1.0</td>\n",
       "      <td>1.0</td>\n",
       "      <td>both</td>\n",
       "      <td>...</td>\n",
       "      <td>Mid-range product</td>\n",
       "      <td>Least busy</td>\n",
       "      <td>Regularly busy</td>\n",
       "      <td>Most orders</td>\n",
       "      <td>11.0</td>\n",
       "      <td>Regular customer</td>\n",
       "      <td>6.367797</td>\n",
       "      <td>Low spender</td>\n",
       "      <td>20.0</td>\n",
       "      <td>Regular customer</td>\n",
       "    </tr>\n",
       "  </tbody>\n",
       "</table>\n",
       "<p>5 rows × 26 columns</p>\n",
       "</div>"
      ],
      "text/plain": [
       "    order_id  user_id  order_number  orders_day_of_the_week  \\\n",
       "0  2539329.0      1.0           1.0                     2.0   \n",
       "1  2398795.0      1.0           2.0                     3.0   \n",
       "2   473747.0      1.0           3.0                     3.0   \n",
       "3  2254736.0      1.0           4.0                     4.0   \n",
       "4   431534.0      1.0           5.0                     4.0   \n",
       "\n",
       "   order_hour_of_day  days_since_prior_order  product_id  add_to_cart_order  \\\n",
       "0                8.0                     NaN       196.0                1.0   \n",
       "1                7.0                    15.0       196.0                1.0   \n",
       "2               12.0                    21.0       196.0                1.0   \n",
       "3                7.0                    29.0       196.0                1.0   \n",
       "4               15.0                    28.0       196.0                1.0   \n",
       "\n",
       "   reordered _merge  ...    price_range_loc     busiest_day    busiest_days  \\\n",
       "0        0.0   both  ...  Mid-range product  Regularly busy  Regularly busy   \n",
       "1        1.0   both  ...  Mid-range product  Regularly busy  Regularly busy   \n",
       "2        1.0   both  ...  Mid-range product  Regularly busy  Regularly busy   \n",
       "3        1.0   both  ...  Mid-range product      Least busy  Regularly busy   \n",
       "4        1.0   both  ...  Mid-range product      Least busy  Regularly busy   \n",
       "\n",
       "     Most orders  max_order      loyalty_flag avg_spent spender_type  \\\n",
       "0  Fewest orders       11.0  Regular customer  6.367797  Low spender   \n",
       "1  Fewest orders       11.0  Regular customer  6.367797  Low spender   \n",
       "2    Most orders       11.0  Regular customer  6.367797  Low spender   \n",
       "3  Fewest orders       11.0  Regular customer  6.367797  Low spender   \n",
       "4    Most orders       11.0  Regular customer  6.367797  Low spender   \n",
       "\n",
       "  median_order_days     customer_type  \n",
       "0              20.0  Regular customer  \n",
       "1              20.0  Regular customer  \n",
       "2              20.0  Regular customer  \n",
       "3              20.0  Regular customer  \n",
       "4              20.0  Regular customer  \n",
       "\n",
       "[5 rows x 26 columns]"
      ]
     },
     "execution_count": 6,
     "metadata": {},
     "output_type": "execute_result"
    }
   ],
   "source": [
    "ords_prods_new.head()"
   ]
  },
  {
   "cell_type": "code",
   "execution_count": 7,
   "id": "5647ef3c",
   "metadata": {},
   "outputs": [
    {
     "data": {
      "text/plain": [
       "count    3.243422e+07\n",
       "mean     1.198114e+01\n",
       "std      4.954310e+02\n",
       "min      1.000000e+00\n",
       "25%      4.200000e+00\n",
       "50%      7.400000e+00\n",
       "75%      1.130000e+01\n",
       "max      9.999900e+04\n",
       "Name: prices, dtype: float64"
      ]
     },
     "execution_count": 7,
     "metadata": {},
     "output_type": "execute_result"
    }
   ],
   "source": [
    "ords_prods_new['prices'].describe()"
   ]
  },
  {
   "cell_type": "code",
   "execution_count": 8,
   "id": "d4b2d12d",
   "metadata": {},
   "outputs": [
    {
     "name": "stdout",
     "output_type": "stream",
     "text": [
      "<class 'pandas.core.series.Series'>\n",
      "Int64Index: 32642461 entries, 0 to 32642460\n",
      "Series name: prices\n",
      "Non-Null Count     Dtype  \n",
      "--------------     -----  \n",
      "32434223 non-null  float64\n",
      "dtypes: float64(1)\n",
      "memory usage: 498.1 MB\n"
     ]
    }
   ],
   "source": [
    "ords_prods_new['prices'].info()"
   ]
  },
  {
   "cell_type": "markdown",
   "id": "301259e5",
   "metadata": {},
   "source": [
    "# 2. Bar charts"
   ]
  },
  {
   "cell_type": "code",
   "execution_count": 9,
   "id": "2134ed03",
   "metadata": {
    "scrolled": true
   },
   "outputs": [
    {
     "data": {
      "text/plain": [
       "<Axes: >"
      ]
     },
     "execution_count": 9,
     "metadata": {},
     "output_type": "execute_result"
    },
    {
     "data": {
      "image/png": "[encoded data removed]",
      "text/plain": [
       "<Figure size 640x480 with 1 Axes>"
      ]
     },
     "metadata": {},
     "output_type": "display_data"
    }
   ],
   "source": [
    "# creating bar chart\n",
    "ords_prods_new['orders_day_of_the_week'].value_counts().plot.bar()\n"
   ]
  },
  {
   "cell_type": "code",
   "execution_count": 10,
   "id": "e81464ac",
   "metadata": {},
   "outputs": [
    {
     "data": {
      "text/plain": [
       "<Axes: >"
      ]
     },
     "execution_count": 10,
     "metadata": {},
     "output_type": "execute_result"
    },
    {
     "data": {
      "image/png": "[encoded data removed]",
      "text/plain": [
       "<Figure size 640x480 with 1 Axes>"
      ]
     },
     "metadata": {},
     "output_type": "display_data"
    }
   ],
   "source": [
    "# sorting by index order\n",
    "ords_prods_new['orders_day_of_the_week'].value_counts().sort_index().plot.bar()"
   ]
  },
  {
   "cell_type": "code",
   "execution_count": 11,
   "id": "276929fc",
   "metadata": {},
   "outputs": [
    {
     "data": {
      "text/plain": [
       "0.0    6253163\n",
       "1.0    5696950\n",
       "6.0    4530449\n",
       "2.0    4243329\n",
       "5.0    4237104\n",
       "3.0    3868914\n",
       "4.0    3812541\n",
       "Name: orders_day_of_the_week, dtype: int64"
      ]
     },
     "execution_count": 11,
     "metadata": {},
     "output_type": "execute_result"
    }
   ],
   "source": [
    "# printing frequencies\n",
    "ords_prods_new['orders_day_of_the_week'].value_counts()"
   ]
  },
  {
   "cell_type": "code",
   "execution_count": 12,
   "id": "badcd9fe",
   "metadata": {},
   "outputs": [
    {
     "data": {
      "text/plain": [
       "0.0    6253163\n",
       "1.0    5696950\n",
       "2.0    4243329\n",
       "3.0    3868914\n",
       "4.0    3812541\n",
       "5.0    4237104\n",
       "6.0    4530449\n",
       "Name: orders_day_of_the_week, dtype: int64"
      ]
     },
     "execution_count": 12,
     "metadata": {},
     "output_type": "execute_result"
    }
   ],
   "source": [
    "# printing frequency by index order\n",
    "ords_prods_new['orders_day_of_the_week'].value_counts().sort_index()"
   ]
  },
  {
   "cell_type": "code",
   "execution_count": 13,
   "id": "f84e0f97",
   "metadata": {},
   "outputs": [
    {
     "data": {
      "text/plain": [
       "Text(0.5, 1.0, 'Orders per Day of the Week')"
      ]
     },
     "execution_count": 13,
     "metadata": {},
     "output_type": "execute_result"
    },
    {
     "data": {
      "image/png": "[encoded data removed]",
      "text/plain": [
       "<Figure size 640x480 with 1 Axes>"
      ]
     },
     "metadata": {},
     "output_type": "display_data"
    }
   ],
   "source": [
    "# adding color\n",
    "ords_prods_new['orders_day_of_the_week'].value_counts().sort_index().plot.bar(color = ['purple','green','blue','red','yellow','brown','orange'])\n",
    "plt.title(\"Orders per Day of the Week\")"
   ]
  },
  {
   "cell_type": "code",
   "execution_count": 14,
   "id": "31d1b9f4",
   "metadata": {},
   "outputs": [
    {
     "data": {
      "text/plain": [
       "Text(0.5, 1.0, 'Orders per Day of the Week')"
      ]
     },
     "execution_count": 14,
     "metadata": {},
     "output_type": "execute_result"
    },
    {
     "data": {
      "image/png": "[encoded data removed]",
      "text/plain": [
       "<Figure size 640x480 with 1 Axes>"
      ]
     },
     "metadata": {},
     "output_type": "display_data"
    }
   ],
   "source": [
    "# saving bar chart to Jupyter memory\n",
    "bar = ords_prods_new['orders_day_of_the_week'].value_counts().sort_index().plot.bar(color =['purple', 'red', 'pink', 'orange', 'yellow', 'green', 'blue'])\n",
    "plt.title(\"Orders per Day of the Week\")"
   ]
  },
  {
   "cell_type": "code",
   "execution_count": 15,
   "id": "7e6be910",
   "metadata": {},
   "outputs": [],
   "source": [
    "# exportiing bar chart to Instacart analysis visuals\n",
    "bar.figure.savefig(os.path.join(path, '04 Analysis','Visualizations','from reading exercise', 'bar_orders_dow_reading_exercise.png'))\n"
   ]
  },
  {
   "cell_type": "markdown",
   "id": "dcfc87c5",
   "metadata": {},
   "source": [
    "# 3. Histograms and Scatterplots"
   ]
  },
  {
   "cell_type": "code",
   "execution_count": 16,
   "id": "a1647e21",
   "metadata": {},
   "outputs": [
    {
     "data": {
      "text/plain": [
       "<Axes: ylabel='Frequency'>"
      ]
     },
     "execution_count": 16,
     "metadata": {},
     "output_type": "execute_result"
    },
    {
     "data": {
      "image/png": "[encoded data removed]",
      "text/plain": [
       "<Figure size 640x480 with 1 Axes>"
      ]
     },
     "metadata": {},
     "output_type": "display_data"
    }
   ],
   "source": [
    "# creating histogram\n",
    "ords_prods_new['prices'].plot.hist(bins = 25)"
   ]
  },
  {
   "cell_type": "code",
   "execution_count": 17,
   "id": "0d40a3f2",
   "metadata": {},
   "outputs": [
    {
     "data": {
      "text/plain": [
       "count    3.243422e+07\n",
       "mean     1.198114e+01\n",
       "std      4.954310e+02\n",
       "min      1.000000e+00\n",
       "25%      4.200000e+00\n",
       "50%      7.400000e+00\n",
       "75%      1.130000e+01\n",
       "max      9.999900e+04\n",
       "Name: prices, dtype: float64"
      ]
     },
     "execution_count": 17,
     "metadata": {},
     "output_type": "execute_result"
    }
   ],
   "source": [
    "# statistics checks\n",
    "ords_prods_new['prices'].describe()"
   ]
  },
  {
   "cell_type": "code",
   "execution_count": 18,
   "id": "ff6abe56",
   "metadata": {},
   "outputs": [
    {
     "data": {
      "text/plain": [
       "11.98114268376334"
      ]
     },
     "execution_count": 18,
     "metadata": {},
     "output_type": "execute_result"
    }
   ],
   "source": [
    "ords_prods_new['prices'].mean()"
   ]
  },
  {
   "cell_type": "code",
   "execution_count": 19,
   "id": "9874db94",
   "metadata": {},
   "outputs": [
    {
     "data": {
      "text/plain": [
       "7.4"
      ]
     },
     "execution_count": 19,
     "metadata": {},
     "output_type": "execute_result"
    }
   ],
   "source": [
    "ords_prods_new['prices'].median()"
   ]
  },
  {
   "cell_type": "code",
   "execution_count": 20,
   "id": "71563cd1",
   "metadata": {},
   "outputs": [
    {
     "data": {
      "text/plain": [
       "99999.0"
      ]
     },
     "execution_count": 20,
     "metadata": {},
     "output_type": "execute_result"
    }
   ],
   "source": [
    "ords_prods_new['prices'].max()"
   ]
  },
  {
   "cell_type": "code",
   "execution_count": 21,
   "id": "33678941",
   "metadata": {},
   "outputs": [
    {
     "data": {
      "text/plain": [
       "0            9.0\n",
       "1            9.0\n",
       "2            9.0\n",
       "3            9.0\n",
       "4            9.0\n",
       "            ... \n",
       "32642456    14.3\n",
       "32642457     8.1\n",
       "32642458     9.8\n",
       "32642459     1.7\n",
       "32642460     9.1\n",
       "Name: prices, Length: 32642461, dtype: float64"
      ]
     },
     "execution_count": 21,
     "metadata": {},
     "output_type": "execute_result"
    }
   ],
   "source": [
    "ords_prods_new['prices']"
   ]
  },
  {
   "cell_type": "code",
   "execution_count": 22,
   "id": "6bdeb8b0",
   "metadata": {},
   "outputs": [
    {
     "data": {
      "text/plain": [
       "<Axes: xlabel='prices', ylabel='prices'>"
      ]
     },
     "execution_count": 22,
     "metadata": {},
     "output_type": "execute_result"
    },
    {
     "data": {
      "image/png": "[encoded data removed]",
      "text/plain": [
       "<Figure size 640x480 with 1 Axes>"
      ]
     },
     "metadata": {},
     "output_type": "display_data"
    }
   ],
   "source": [
    "sns.scatterplot( x = 'prices', y = 'prices', data = ords_prods_new)"
   ]
  },
  {
   "cell_type": "code",
   "execution_count": 23,
   "id": "f0b1bbb8",
   "metadata": {},
   "outputs": [
    {
     "data": {
      "image/png": "[encoded data removed]",
      "text/plain": [
       "<Figure size 640x480 with 1 Axes>"
      ]
     },
     "metadata": {},
     "output_type": "display_data"
    }
   ],
   "source": [
    "# creating 'scatter_outliers' for Jupyter \n",
    "scatter_outliers_reading = sns.scatterplot( x = 'prices', y = 'prices', data = ords_prods_new)"
   ]
  },
  {
   "cell_type": "code",
   "execution_count": 24,
   "id": "9ebbd56d",
   "metadata": {},
   "outputs": [],
   "source": [
    "# exporting scatter_outliers_reading\n",
    "scatter_outliers_reading.figure.savefig(os.path.join(path, '04 Analysis','Visualizations', 'from reading exercise','scatter_outliers_reading_exercise.png'))\n"
   ]
  },
  {
   "cell_type": "code",
   "execution_count": 25,
   "id": "46e5e224",
   "metadata": {},
   "outputs": [
    {
     "data": {
      "text/html": [
       "<div>\n",
       "<style scoped>\n",
       "    .dataframe tbody tr th:only-of-type {\n",
       "        vertical-align: middle;\n",
       "    }\n",
       "\n",
       "    .dataframe tbody tr th {\n",
       "        vertical-align: top;\n",
       "    }\n",
       "\n",
       "    .dataframe thead th {\n",
       "        text-align: right;\n",
       "    }\n",
       "</style>\n",
       "<table border=\"1\" class=\"dataframe\">\n",
       "  <thead>\n",
       "    <tr style=\"text-align: right;\">\n",
       "      <th></th>\n",
       "      <th>order_id</th>\n",
       "      <th>user_id</th>\n",
       "      <th>order_number</th>\n",
       "      <th>orders_day_of_the_week</th>\n",
       "      <th>order_hour_of_day</th>\n",
       "      <th>days_since_prior_order</th>\n",
       "      <th>product_id</th>\n",
       "      <th>add_to_cart_order</th>\n",
       "      <th>reordered</th>\n",
       "      <th>_merge</th>\n",
       "      <th>...</th>\n",
       "      <th>price_range_loc</th>\n",
       "      <th>busiest_day</th>\n",
       "      <th>busiest_days</th>\n",
       "      <th>Most orders</th>\n",
       "      <th>max_order</th>\n",
       "      <th>loyalty_flag</th>\n",
       "      <th>avg_spent</th>\n",
       "      <th>spender_type</th>\n",
       "      <th>median_order_days</th>\n",
       "      <th>customer_type</th>\n",
       "    </tr>\n",
       "  </thead>\n",
       "  <tbody>\n",
       "    <tr>\n",
       "      <th>10236554</th>\n",
       "      <td>912404.0</td>\n",
       "      <td>17.0</td>\n",
       "      <td>12.0</td>\n",
       "      <td>2.0</td>\n",
       "      <td>14.0</td>\n",
       "      <td>5.0</td>\n",
       "      <td>21553.0</td>\n",
       "      <td>5.0</td>\n",
       "      <td>0.0</td>\n",
       "      <td>both</td>\n",
       "      <td>...</td>\n",
       "      <td>High-range product</td>\n",
       "      <td>Regularly busy</td>\n",
       "      <td>Regularly busy</td>\n",
       "      <td>Most orders</td>\n",
       "      <td>41.0</td>\n",
       "      <td>Loyal customer</td>\n",
       "      <td>108.648299</td>\n",
       "      <td>High spender</td>\n",
       "      <td>5.0</td>\n",
       "      <td>Frequent customer</td>\n",
       "    </tr>\n",
       "    <tr>\n",
       "      <th>10236555</th>\n",
       "      <td>603376.0</td>\n",
       "      <td>17.0</td>\n",
       "      <td>22.0</td>\n",
       "      <td>6.0</td>\n",
       "      <td>16.0</td>\n",
       "      <td>4.0</td>\n",
       "      <td>21553.0</td>\n",
       "      <td>3.0</td>\n",
       "      <td>1.0</td>\n",
       "      <td>both</td>\n",
       "      <td>...</td>\n",
       "      <td>High-range product</td>\n",
       "      <td>Regularly busy</td>\n",
       "      <td>Least busy days</td>\n",
       "      <td>Fewest orders</td>\n",
       "      <td>41.0</td>\n",
       "      <td>Loyal customer</td>\n",
       "      <td>108.648299</td>\n",
       "      <td>High spender</td>\n",
       "      <td>5.0</td>\n",
       "      <td>Frequent customer</td>\n",
       "    </tr>\n",
       "    <tr>\n",
       "      <th>10236556</th>\n",
       "      <td>3264360.0</td>\n",
       "      <td>135.0</td>\n",
       "      <td>2.0</td>\n",
       "      <td>2.0</td>\n",
       "      <td>21.0</td>\n",
       "      <td>13.0</td>\n",
       "      <td>21553.0</td>\n",
       "      <td>6.0</td>\n",
       "      <td>0.0</td>\n",
       "      <td>both</td>\n",
       "      <td>...</td>\n",
       "      <td>High-range product</td>\n",
       "      <td>Regularly busy</td>\n",
       "      <td>Regularly busy</td>\n",
       "      <td>Fewest orders</td>\n",
       "      <td>5.0</td>\n",
       "      <td>New customer</td>\n",
       "      <td>1154.792308</td>\n",
       "      <td>High spender</td>\n",
       "      <td>12.0</td>\n",
       "      <td>Regular customer</td>\n",
       "    </tr>\n",
       "    <tr>\n",
       "      <th>10236557</th>\n",
       "      <td>892534.0</td>\n",
       "      <td>135.0</td>\n",
       "      <td>3.0</td>\n",
       "      <td>0.0</td>\n",
       "      <td>8.0</td>\n",
       "      <td>12.0</td>\n",
       "      <td>21553.0</td>\n",
       "      <td>3.0</td>\n",
       "      <td>1.0</td>\n",
       "      <td>both</td>\n",
       "      <td>...</td>\n",
       "      <td>High-range product</td>\n",
       "      <td>Busiest day</td>\n",
       "      <td>Busiest days</td>\n",
       "      <td>Fewest orders</td>\n",
       "      <td>5.0</td>\n",
       "      <td>New customer</td>\n",
       "      <td>1154.792308</td>\n",
       "      <td>High spender</td>\n",
       "      <td>12.0</td>\n",
       "      <td>Regular customer</td>\n",
       "    </tr>\n",
       "    <tr>\n",
       "      <th>10236558</th>\n",
       "      <td>229704.0</td>\n",
       "      <td>342.0</td>\n",
       "      <td>8.0</td>\n",
       "      <td>1.0</td>\n",
       "      <td>19.0</td>\n",
       "      <td>30.0</td>\n",
       "      <td>21553.0</td>\n",
       "      <td>9.0</td>\n",
       "      <td>0.0</td>\n",
       "      <td>both</td>\n",
       "      <td>...</td>\n",
       "      <td>High-range product</td>\n",
       "      <td>Regularly busy</td>\n",
       "      <td>Regularly busy</td>\n",
       "      <td>Fewest orders</td>\n",
       "      <td>17.0</td>\n",
       "      <td>Regular customer</td>\n",
       "      <td>114.426619</td>\n",
       "      <td>High spender</td>\n",
       "      <td>23.0</td>\n",
       "      <td>Non-frequent customer</td>\n",
       "    </tr>\n",
       "    <tr>\n",
       "      <th>...</th>\n",
       "      <td>...</td>\n",
       "      <td>...</td>\n",
       "      <td>...</td>\n",
       "      <td>...</td>\n",
       "      <td>...</td>\n",
       "      <td>...</td>\n",
       "      <td>...</td>\n",
       "      <td>...</td>\n",
       "      <td>...</td>\n",
       "      <td>...</td>\n",
       "      <td>...</td>\n",
       "      <td>...</td>\n",
       "      <td>...</td>\n",
       "      <td>...</td>\n",
       "      <td>...</td>\n",
       "      <td>...</td>\n",
       "      <td>...</td>\n",
       "      <td>...</td>\n",
       "      <td>...</td>\n",
       "      <td>...</td>\n",
       "      <td>...</td>\n",
       "    </tr>\n",
       "    <tr>\n",
       "      <th>29401455</th>\n",
       "      <td>2249946.0</td>\n",
       "      <td>204099.0</td>\n",
       "      <td>29.0</td>\n",
       "      <td>0.0</td>\n",
       "      <td>8.0</td>\n",
       "      <td>4.0</td>\n",
       "      <td>33664.0</td>\n",
       "      <td>1.0</td>\n",
       "      <td>0.0</td>\n",
       "      <td>both</td>\n",
       "      <td>...</td>\n",
       "      <td>High-range product</td>\n",
       "      <td>Busiest day</td>\n",
       "      <td>Busiest days</td>\n",
       "      <td>Fewest orders</td>\n",
       "      <td>40.0</td>\n",
       "      <td>Regular customer</td>\n",
       "      <td>1106.743956</td>\n",
       "      <td>High spender</td>\n",
       "      <td>4.0</td>\n",
       "      <td>Frequent customer</td>\n",
       "    </tr>\n",
       "    <tr>\n",
       "      <th>29401456</th>\n",
       "      <td>2363282.0</td>\n",
       "      <td>204099.0</td>\n",
       "      <td>31.0</td>\n",
       "      <td>0.0</td>\n",
       "      <td>9.0</td>\n",
       "      <td>2.0</td>\n",
       "      <td>33664.0</td>\n",
       "      <td>1.0</td>\n",
       "      <td>1.0</td>\n",
       "      <td>both</td>\n",
       "      <td>...</td>\n",
       "      <td>High-range product</td>\n",
       "      <td>Busiest day</td>\n",
       "      <td>Busiest days</td>\n",
       "      <td>Fewest orders</td>\n",
       "      <td>40.0</td>\n",
       "      <td>Regular customer</td>\n",
       "      <td>1106.743956</td>\n",
       "      <td>High spender</td>\n",
       "      <td>4.0</td>\n",
       "      <td>Frequent customer</td>\n",
       "    </tr>\n",
       "    <tr>\n",
       "      <th>29401457</th>\n",
       "      <td>3181945.0</td>\n",
       "      <td>204395.0</td>\n",
       "      <td>13.0</td>\n",
       "      <td>3.0</td>\n",
       "      <td>15.0</td>\n",
       "      <td>8.0</td>\n",
       "      <td>33664.0</td>\n",
       "      <td>25.0</td>\n",
       "      <td>0.0</td>\n",
       "      <td>both</td>\n",
       "      <td>...</td>\n",
       "      <td>High-range product</td>\n",
       "      <td>Regularly busy</td>\n",
       "      <td>Regularly busy</td>\n",
       "      <td>Most orders</td>\n",
       "      <td>16.0</td>\n",
       "      <td>Regular customer</td>\n",
       "      <td>451.153540</td>\n",
       "      <td>High spender</td>\n",
       "      <td>5.0</td>\n",
       "      <td>Frequent customer</td>\n",
       "    </tr>\n",
       "    <tr>\n",
       "      <th>29401458</th>\n",
       "      <td>2486215.0</td>\n",
       "      <td>205227.0</td>\n",
       "      <td>7.0</td>\n",
       "      <td>3.0</td>\n",
       "      <td>20.0</td>\n",
       "      <td>4.0</td>\n",
       "      <td>33664.0</td>\n",
       "      <td>8.0</td>\n",
       "      <td>0.0</td>\n",
       "      <td>both</td>\n",
       "      <td>...</td>\n",
       "      <td>High-range product</td>\n",
       "      <td>Regularly busy</td>\n",
       "      <td>Regularly busy</td>\n",
       "      <td>Fewest orders</td>\n",
       "      <td>13.0</td>\n",
       "      <td>Regular customer</td>\n",
       "      <td>1178.381871</td>\n",
       "      <td>High spender</td>\n",
       "      <td>12.0</td>\n",
       "      <td>Regular customer</td>\n",
       "    </tr>\n",
       "    <tr>\n",
       "      <th>29401459</th>\n",
       "      <td>2232716.0</td>\n",
       "      <td>205227.0</td>\n",
       "      <td>10.0</td>\n",
       "      <td>0.0</td>\n",
       "      <td>11.0</td>\n",
       "      <td>4.0</td>\n",
       "      <td>33664.0</td>\n",
       "      <td>23.0</td>\n",
       "      <td>1.0</td>\n",
       "      <td>both</td>\n",
       "      <td>...</td>\n",
       "      <td>High-range product</td>\n",
       "      <td>Busiest day</td>\n",
       "      <td>Busiest days</td>\n",
       "      <td>Most orders</td>\n",
       "      <td>13.0</td>\n",
       "      <td>Regular customer</td>\n",
       "      <td>1178.381871</td>\n",
       "      <td>High spender</td>\n",
       "      <td>12.0</td>\n",
       "      <td>Regular customer</td>\n",
       "    </tr>\n",
       "  </tbody>\n",
       "</table>\n",
       "<p>5127 rows × 26 columns</p>\n",
       "</div>"
      ],
      "text/plain": [
       "           order_id   user_id  order_number  orders_day_of_the_week  \\\n",
       "10236554   912404.0      17.0          12.0                     2.0   \n",
       "10236555   603376.0      17.0          22.0                     6.0   \n",
       "10236556  3264360.0     135.0           2.0                     2.0   \n",
       "10236557   892534.0     135.0           3.0                     0.0   \n",
       "10236558   229704.0     342.0           8.0                     1.0   \n",
       "...             ...       ...           ...                     ...   \n",
       "29401455  2249946.0  204099.0          29.0                     0.0   \n",
       "29401456  2363282.0  204099.0          31.0                     0.0   \n",
       "29401457  3181945.0  204395.0          13.0                     3.0   \n",
       "29401458  2486215.0  205227.0           7.0                     3.0   \n",
       "29401459  2232716.0  205227.0          10.0                     0.0   \n",
       "\n",
       "          order_hour_of_day  days_since_prior_order  product_id  \\\n",
       "10236554               14.0                     5.0     21553.0   \n",
       "10236555               16.0                     4.0     21553.0   \n",
       "10236556               21.0                    13.0     21553.0   \n",
       "10236557                8.0                    12.0     21553.0   \n",
       "10236558               19.0                    30.0     21553.0   \n",
       "...                     ...                     ...         ...   \n",
       "29401455                8.0                     4.0     33664.0   \n",
       "29401456                9.0                     2.0     33664.0   \n",
       "29401457               15.0                     8.0     33664.0   \n",
       "29401458               20.0                     4.0     33664.0   \n",
       "29401459               11.0                     4.0     33664.0   \n",
       "\n",
       "          add_to_cart_order  reordered _merge  ...     price_range_loc  \\\n",
       "10236554                5.0        0.0   both  ...  High-range product   \n",
       "10236555                3.0        1.0   both  ...  High-range product   \n",
       "10236556                6.0        0.0   both  ...  High-range product   \n",
       "10236557                3.0        1.0   both  ...  High-range product   \n",
       "10236558                9.0        0.0   both  ...  High-range product   \n",
       "...                     ...        ...    ...  ...                 ...   \n",
       "29401455                1.0        0.0   both  ...  High-range product   \n",
       "29401456                1.0        1.0   both  ...  High-range product   \n",
       "29401457               25.0        0.0   both  ...  High-range product   \n",
       "29401458                8.0        0.0   both  ...  High-range product   \n",
       "29401459               23.0        1.0   both  ...  High-range product   \n",
       "\n",
       "             busiest_day     busiest_days    Most orders  max_order  \\\n",
       "10236554  Regularly busy   Regularly busy    Most orders       41.0   \n",
       "10236555  Regularly busy  Least busy days  Fewest orders       41.0   \n",
       "10236556  Regularly busy   Regularly busy  Fewest orders        5.0   \n",
       "10236557     Busiest day     Busiest days  Fewest orders        5.0   \n",
       "10236558  Regularly busy   Regularly busy  Fewest orders       17.0   \n",
       "...                  ...              ...            ...        ...   \n",
       "29401455     Busiest day     Busiest days  Fewest orders       40.0   \n",
       "29401456     Busiest day     Busiest days  Fewest orders       40.0   \n",
       "29401457  Regularly busy   Regularly busy    Most orders       16.0   \n",
       "29401458  Regularly busy   Regularly busy  Fewest orders       13.0   \n",
       "29401459     Busiest day     Busiest days    Most orders       13.0   \n",
       "\n",
       "              loyalty_flag    avg_spent  spender_type median_order_days  \\\n",
       "10236554    Loyal customer   108.648299  High spender               5.0   \n",
       "10236555    Loyal customer   108.648299  High spender               5.0   \n",
       "10236556      New customer  1154.792308  High spender              12.0   \n",
       "10236557      New customer  1154.792308  High spender              12.0   \n",
       "10236558  Regular customer   114.426619  High spender              23.0   \n",
       "...                    ...          ...           ...               ...   \n",
       "29401455  Regular customer  1106.743956  High spender               4.0   \n",
       "29401456  Regular customer  1106.743956  High spender               4.0   \n",
       "29401457  Regular customer   451.153540  High spender               5.0   \n",
       "29401458  Regular customer  1178.381871  High spender              12.0   \n",
       "29401459  Regular customer  1178.381871  High spender              12.0   \n",
       "\n",
       "                  customer_type  \n",
       "10236554      Frequent customer  \n",
       "10236555      Frequent customer  \n",
       "10236556       Regular customer  \n",
       "10236557       Regular customer  \n",
       "10236558  Non-frequent customer  \n",
       "...                         ...  \n",
       "29401455      Frequent customer  \n",
       "29401456      Frequent customer  \n",
       "29401457      Frequent customer  \n",
       "29401458       Regular customer  \n",
       "29401459       Regular customer  \n",
       "\n",
       "[5127 rows x 26 columns]"
      ]
     },
     "execution_count": 25,
     "metadata": {},
     "output_type": "execute_result"
    }
   ],
   "source": [
    "ords_prods_new.loc[ords_prods_new['prices']> 100]"
   ]
  },
  {
   "cell_type": "code",
   "execution_count": 26,
   "id": "81bc86f0",
   "metadata": {},
   "outputs": [],
   "source": [
    "ords_prods_new.loc[ords_prods_new['prices'] >100, 'prices'] = np.nan"
   ]
  },
  {
   "cell_type": "code",
   "execution_count": 27,
   "id": "ffaa69a6",
   "metadata": {},
   "outputs": [
    {
     "data": {
      "text/plain": [
       "25.0"
      ]
     },
     "execution_count": 27,
     "metadata": {},
     "output_type": "execute_result"
    }
   ],
   "source": [
    "ords_prods_new['prices'].max()"
   ]
  },
  {
   "cell_type": "code",
   "execution_count": 28,
   "id": "6d2e5d83",
   "metadata": {},
   "outputs": [
    {
     "data": {
      "image/png": "[encoded data removed]",
      "text/plain": [
       "<Figure size 640x480 with 1 Axes>"
      ]
     },
     "metadata": {},
     "output_type": "display_data"
    }
   ],
   "source": [
    "hist = ords_prods_new['prices'].plot.hist(bins = 25)"
   ]
  },
  {
   "cell_type": "code",
   "execution_count": 29,
   "id": "2024aad4",
   "metadata": {},
   "outputs": [
    {
     "data": {
      "text/plain": [
       "Text(0.5, 1.0, 'Frequency of Prices in Orders')"
      ]
     },
     "execution_count": 29,
     "metadata": {},
     "output_type": "execute_result"
    },
    {
     "data": {
      "image/png": "[encoded data removed]",
      "text/plain": [
       "<Figure size 640x480 with 1 Axes>"
      ]
     },
     "metadata": {},
     "output_type": "display_data"
    }
   ],
   "source": [
    "hist_prices_reading = ords_prods_new['prices'].plot.hist(bins = 70)\n",
    "plt.title(\"Frequency of Prices in Orders\")"
   ]
  },
  {
   "cell_type": "code",
   "execution_count": 30,
   "id": "1f2ae4f5",
   "metadata": {},
   "outputs": [],
   "source": [
    "# exporting histogram to Instacart Analysis Visuals\n",
    "hist_prices_reading.figure.savefig(os.path.join(path, '04 Analysis','Visualizations','from reading exercise', 'hist_prices_frequency_reading_exercise.png'))\n"
   ]
  },
  {
   "cell_type": "code",
   "execution_count": 31,
   "id": "515d427b",
   "metadata": {},
   "outputs": [
    {
     "data": {
      "text/plain": [
       "<Axes: xlabel='prices', ylabel='prices'>"
      ]
     },
     "execution_count": 31,
     "metadata": {},
     "output_type": "execute_result"
    },
    {
     "data": {
      "image/png": "[encoded data removed]",
      "text/plain": [
       "<Figure size 640x480 with 1 Axes>"
      ]
     },
     "metadata": {},
     "output_type": "display_data"
    }
   ],
   "source": [
    "# new scatterplot to Jupyter\n",
    "sns.scatterplot( x = 'prices', y = 'prices', data = ords_prods_new)\n"
   ]
  },
  {
   "cell_type": "code",
   "execution_count": 32,
   "id": "83489c76",
   "metadata": {},
   "outputs": [
    {
     "data": {
      "image/png": "[encoded data removed]",
      "text/plain": [
       "<Figure size 640x480 with 1 Axes>"
      ]
     },
     "metadata": {},
     "output_type": "display_data"
    }
   ],
   "source": [
    "# saving new scatter to Jupyter\n",
    "scatter_reading = sns.scatterplot( x = 'prices', y = 'prices', data = ords_prods_new)\n"
   ]
  },
  {
   "cell_type": "code",
   "execution_count": 33,
   "id": "1517d95b",
   "metadata": {},
   "outputs": [],
   "source": [
    "# exporting scatterplot to Instacart Analysis visuals\n",
    "scatter_reading.figure.savefig(os.path.join(path, '04 Analysis','Visualizations','from reading exercise', 'scatter_prices_reading_exercise.png'))\n"
   ]
  },
  {
   "cell_type": "code",
   "execution_count": 34,
   "id": "a2d521c6",
   "metadata": {},
   "outputs": [],
   "source": [
    "np.random.seed(4)\n",
    "dev = np.random.rand(len(ords_prods_new)) <= 0.7"
   ]
  },
  {
   "cell_type": "code",
   "execution_count": 35,
   "id": "0d584c25",
   "metadata": {},
   "outputs": [
    {
     "data": {
      "text/plain": [
       "array([False,  True, False, ..., False,  True,  True])"
      ]
     },
     "execution_count": 35,
     "metadata": {},
     "output_type": "execute_result"
    }
   ],
   "source": [
    "dev"
   ]
  },
  {
   "cell_type": "code",
   "execution_count": 36,
   "id": "43c7e520",
   "metadata": {},
   "outputs": [
    {
     "data": {
      "text/plain": [
       "array([0.28928073, 0.15593137, 0.73636922, 0.43473489, 0.24921401,\n",
       "       0.04250419, 0.44543182, 0.31580325, 0.37058641, 0.72772152])"
      ]
     },
     "execution_count": 36,
     "metadata": {},
     "output_type": "execute_result"
    }
   ],
   "source": [
    "np.random.rand(10)"
   ]
  },
  {
   "cell_type": "code",
   "execution_count": 37,
   "id": "7951639d",
   "metadata": {},
   "outputs": [],
   "source": [
    "# create a list of True/False values to the test np.random.rand()<= 0.7\n",
    "\n",
    "dev = np.random.rand(len(ords_prods_new)) <= 0.7"
   ]
  },
  {
   "cell_type": "code",
   "execution_count": 38,
   "id": "6e19a494",
   "metadata": {},
   "outputs": [],
   "source": [
    "# Store 70% of sample in df 'big'\n",
    "\n",
    "big = ords_prods_new[dev]"
   ]
  },
  {
   "cell_type": "code",
   "execution_count": 39,
   "id": "a02898a0",
   "metadata": {},
   "outputs": [],
   "source": [
    "# Store 30% of sample in df 'small'\n",
    "\n",
    "small = ords_prods_new[~dev]"
   ]
  },
  {
   "cell_type": "code",
   "execution_count": 40,
   "id": "ef9d05f3",
   "metadata": {},
   "outputs": [
    {
     "data": {
      "text/plain": [
       "32642461"
      ]
     },
     "execution_count": 40,
     "metadata": {},
     "output_type": "execute_result"
    }
   ],
   "source": [
    "# checking sampling results\n",
    "len(ords_prods_new)"
   ]
  },
  {
   "cell_type": "code",
   "execution_count": 41,
   "id": "60537ae2",
   "metadata": {},
   "outputs": [
    {
     "data": {
      "text/plain": [
       "32642461"
      ]
     },
     "execution_count": 41,
     "metadata": {},
     "output_type": "execute_result"
    }
   ],
   "source": [
    "len(big) + len(small)"
   ]
  },
  {
   "cell_type": "code",
   "execution_count": 42,
   "id": "7471c8bd",
   "metadata": {},
   "outputs": [],
   "source": [
    "# creating the 30% sample\n",
    "df_2 = small[['orders_day_of_the_week', 'prices' ]]"
   ]
  },
  {
   "cell_type": "code",
   "execution_count": 43,
   "id": "3be211ab",
   "metadata": {},
   "outputs": [
    {
     "data": {
      "text/plain": [
       "Text(0.5, 1.0, 'Total Order Value per Day of the Week')"
      ]
     },
     "execution_count": 43,
     "metadata": {},
     "output_type": "execute_result"
    },
    {
     "data": {
      "image/png": "[encoded data removed]",
      "text/plain": [
       "<Figure size 640x480 with 1 Axes>"
      ]
     },
     "metadata": {},
     "output_type": "display_data"
    }
   ],
   "source": [
    "# creating line chart\n",
    "\n",
    "line_reading = sns.lineplot(data = df_2, x = 'orders_day_of_the_week', y = 'prices')\n",
    "plt.title(\"Total Order Value per Day of the Week\")"
   ]
  },
  {
   "cell_type": "code",
   "execution_count": 56,
   "id": "e3a1ebcc",
   "metadata": {},
   "outputs": [],
   "source": [
    "# creating the 70% sample\n",
    "df_3 = big[['orders_day_of_the_week', 'prices' ]]"
   ]
  },
  {
   "cell_type": "code",
   "execution_count": 57,
   "id": "8e366f2c",
   "metadata": {
    "scrolled": true
   },
   "outputs": [
    {
     "ename": "KeyboardInterrupt",
     "evalue": "",
     "output_type": "error",
     "traceback": [
      "\u001b[0;31m---------------------------------------------------------------------------\u001b[0m",
      "\u001b[0;31mKeyboardInterrupt\u001b[0m                         Traceback (most recent call last)",
      "Cell \u001b[0;32mIn[57], line 3\u001b[0m\n\u001b[1;32m      1\u001b[0m \u001b[38;5;66;03m# creating line chart for 'big' sample\u001b[39;00m\n\u001b[0;32m----> 3\u001b[0m line_2 \u001b[38;5;241m=\u001b[39m sns\u001b[38;5;241m.\u001b[39mlineplot(data \u001b[38;5;241m=\u001b[39m df_3, x \u001b[38;5;241m=\u001b[39m \u001b[38;5;124m'\u001b[39m\u001b[38;5;124morders_day_of_the_week\u001b[39m\u001b[38;5;124m'\u001b[39m, y \u001b[38;5;241m=\u001b[39m \u001b[38;5;124m'\u001b[39m\u001b[38;5;124mprices\u001b[39m\u001b[38;5;124m'\u001b[39m)\n",
      "File \u001b[0;32m~/anaconda3/lib/python3.11/site-packages/seaborn/relational.py:645\u001b[0m, in \u001b[0;36mlineplot\u001b[0;34m(data, x, y, hue, size, style, units, palette, hue_order, hue_norm, sizes, size_order, size_norm, dashes, markers, style_order, estimator, errorbar, n_boot, seed, orient, sort, err_style, err_kws, legend, ci, ax, **kwargs)\u001b[0m\n\u001b[1;32m    642\u001b[0m color \u001b[38;5;241m=\u001b[39m kwargs\u001b[38;5;241m.\u001b[39mpop(\u001b[38;5;124m\"\u001b[39m\u001b[38;5;124mcolor\u001b[39m\u001b[38;5;124m\"\u001b[39m, kwargs\u001b[38;5;241m.\u001b[39mpop(\u001b[38;5;124m\"\u001b[39m\u001b[38;5;124mc\u001b[39m\u001b[38;5;124m\"\u001b[39m, \u001b[38;5;28;01mNone\u001b[39;00m))\n\u001b[1;32m    643\u001b[0m kwargs[\u001b[38;5;124m\"\u001b[39m\u001b[38;5;124mcolor\u001b[39m\u001b[38;5;124m\"\u001b[39m] \u001b[38;5;241m=\u001b[39m _default_color(ax\u001b[38;5;241m.\u001b[39mplot, hue, color, kwargs)\n\u001b[0;32m--> 645\u001b[0m p\u001b[38;5;241m.\u001b[39mplot(ax, kwargs)\n\u001b[1;32m    646\u001b[0m \u001b[38;5;28;01mreturn\u001b[39;00m ax\n",
      "File \u001b[0;32m~/anaconda3/lib/python3.11/site-packages/seaborn/relational.py:423\u001b[0m, in \u001b[0;36m_LinePlotter.plot\u001b[0;34m(self, ax, kws)\u001b[0m\n\u001b[1;32m    415\u001b[0m \u001b[38;5;66;03m# TODO How to handle NA? We don't want NA to propagate through to the\u001b[39;00m\n\u001b[1;32m    416\u001b[0m \u001b[38;5;66;03m# estimate/CI when some values are present, but we would also like\u001b[39;00m\n\u001b[1;32m    417\u001b[0m \u001b[38;5;66;03m# matplotlib to show \"gaps\" in the line when all values are missing.\u001b[39;00m\n\u001b[0;32m   (...)\u001b[0m\n\u001b[1;32m    420\u001b[0m \n\u001b[1;32m    421\u001b[0m \u001b[38;5;66;03m# Loop over the semantic subsets and add to the plot\u001b[39;00m\n\u001b[1;32m    422\u001b[0m grouping_vars \u001b[38;5;241m=\u001b[39m \u001b[38;5;124m\"\u001b[39m\u001b[38;5;124mhue\u001b[39m\u001b[38;5;124m\"\u001b[39m, \u001b[38;5;124m\"\u001b[39m\u001b[38;5;124msize\u001b[39m\u001b[38;5;124m\"\u001b[39m, \u001b[38;5;124m\"\u001b[39m\u001b[38;5;124mstyle\u001b[39m\u001b[38;5;124m\"\u001b[39m\n\u001b[0;32m--> 423\u001b[0m \u001b[38;5;28;01mfor\u001b[39;00m sub_vars, sub_data \u001b[38;5;129;01min\u001b[39;00m \u001b[38;5;28mself\u001b[39m\u001b[38;5;241m.\u001b[39miter_data(grouping_vars, from_comp_data\u001b[38;5;241m=\u001b[39m\u001b[38;5;28;01mTrue\u001b[39;00m):\n\u001b[1;32m    425\u001b[0m     \u001b[38;5;28;01mif\u001b[39;00m \u001b[38;5;28mself\u001b[39m\u001b[38;5;241m.\u001b[39msort:\n\u001b[1;32m    426\u001b[0m         sort_vars \u001b[38;5;241m=\u001b[39m [\u001b[38;5;124m\"\u001b[39m\u001b[38;5;124munits\u001b[39m\u001b[38;5;124m\"\u001b[39m, orient, other]\n",
      "File \u001b[0;32m~/anaconda3/lib/python3.11/site-packages/seaborn/_oldcore.py:1028\u001b[0m, in \u001b[0;36mVectorPlotter.iter_data\u001b[0;34m(self, grouping_vars, reverse, from_comp_data, by_facet, allow_empty, dropna)\u001b[0m\n\u001b[1;32m   1023\u001b[0m grouping_vars \u001b[38;5;241m=\u001b[39m [\n\u001b[1;32m   1024\u001b[0m     var \u001b[38;5;28;01mfor\u001b[39;00m var \u001b[38;5;129;01min\u001b[39;00m grouping_vars \u001b[38;5;28;01mif\u001b[39;00m var \u001b[38;5;129;01min\u001b[39;00m \u001b[38;5;28mself\u001b[39m\u001b[38;5;241m.\u001b[39mvariables\n\u001b[1;32m   1025\u001b[0m ]\n\u001b[1;32m   1027\u001b[0m \u001b[38;5;28;01mif\u001b[39;00m from_comp_data:\n\u001b[0;32m-> 1028\u001b[0m     data \u001b[38;5;241m=\u001b[39m \u001b[38;5;28mself\u001b[39m\u001b[38;5;241m.\u001b[39mcomp_data\n\u001b[1;32m   1029\u001b[0m \u001b[38;5;28;01melse\u001b[39;00m:\n\u001b[1;32m   1030\u001b[0m     data \u001b[38;5;241m=\u001b[39m \u001b[38;5;28mself\u001b[39m\u001b[38;5;241m.\u001b[39mplot_data\n",
      "File \u001b[0;32m~/anaconda3/lib/python3.11/site-packages/seaborn/_oldcore.py:1118\u001b[0m, in \u001b[0;36mVectorPlotter.comp_data\u001b[0;34m(self)\u001b[0m\n\u001b[1;32m   1116\u001b[0m parts \u001b[38;5;241m=\u001b[39m []\n\u001b[1;32m   1117\u001b[0m grouped \u001b[38;5;241m=\u001b[39m \u001b[38;5;28mself\u001b[39m\u001b[38;5;241m.\u001b[39mplot_data[var]\u001b[38;5;241m.\u001b[39mgroupby(\u001b[38;5;28mself\u001b[39m\u001b[38;5;241m.\u001b[39mconverters[var], sort\u001b[38;5;241m=\u001b[39m\u001b[38;5;28;01mFalse\u001b[39;00m)\n\u001b[0;32m-> 1118\u001b[0m \u001b[38;5;28;01mfor\u001b[39;00m converter, orig \u001b[38;5;129;01min\u001b[39;00m grouped:\n\u001b[1;32m   1119\u001b[0m     \u001b[38;5;28;01mwith\u001b[39;00m pd\u001b[38;5;241m.\u001b[39moption_context(\u001b[38;5;124m'\u001b[39m\u001b[38;5;124mmode.use_inf_as_na\u001b[39m\u001b[38;5;124m'\u001b[39m, \u001b[38;5;28;01mTrue\u001b[39;00m):\n\u001b[1;32m   1120\u001b[0m         orig \u001b[38;5;241m=\u001b[39m orig\u001b[38;5;241m.\u001b[39mdropna()\n",
      "File \u001b[0;32m~/anaconda3/lib/python3.11/site-packages/pandas/core/groupby/ops.py:788\u001b[0m, in \u001b[0;36mBaseGrouper.get_iterator\u001b[0;34m(self, data, axis)\u001b[0m\n\u001b[1;32m    777\u001b[0m \u001b[38;5;28;01mdef\u001b[39;00m \u001b[38;5;21mget_iterator\u001b[39m(\n\u001b[1;32m    778\u001b[0m     \u001b[38;5;28mself\u001b[39m, data: NDFrameT, axis: \u001b[38;5;28mint\u001b[39m \u001b[38;5;241m=\u001b[39m \u001b[38;5;241m0\u001b[39m\n\u001b[1;32m    779\u001b[0m ) \u001b[38;5;241m-\u001b[39m\u001b[38;5;241m>\u001b[39m Iterator[\u001b[38;5;28mtuple\u001b[39m[Hashable, NDFrameT]]:\n\u001b[1;32m    780\u001b[0m \u001b[38;5;250m    \u001b[39m\u001b[38;5;124;03m\"\"\"\u001b[39;00m\n\u001b[1;32m    781\u001b[0m \u001b[38;5;124;03m    Groupby iterator\u001b[39;00m\n\u001b[1;32m    782\u001b[0m \n\u001b[0;32m   (...)\u001b[0m\n\u001b[1;32m    786\u001b[0m \u001b[38;5;124;03m    for each group\u001b[39;00m\n\u001b[1;32m    787\u001b[0m \u001b[38;5;124;03m    \"\"\"\u001b[39;00m\n\u001b[0;32m--> 788\u001b[0m     splitter \u001b[38;5;241m=\u001b[39m \u001b[38;5;28mself\u001b[39m\u001b[38;5;241m.\u001b[39m_get_splitter(data, axis\u001b[38;5;241m=\u001b[39maxis)\n\u001b[1;32m    789\u001b[0m     keys \u001b[38;5;241m=\u001b[39m \u001b[38;5;28mself\u001b[39m\u001b[38;5;241m.\u001b[39mgroup_keys_seq\n\u001b[1;32m    790\u001b[0m     \u001b[38;5;28;01myield from\u001b[39;00m \u001b[38;5;28mzip\u001b[39m(keys, splitter)\n",
      "File \u001b[0;32m~/anaconda3/lib/python3.11/site-packages/pandas/core/groupby/ops.py:799\u001b[0m, in \u001b[0;36mBaseGrouper._get_splitter\u001b[0;34m(self, data, axis)\u001b[0m\n\u001b[1;32m    792\u001b[0m \u001b[38;5;129m@final\u001b[39m\n\u001b[1;32m    793\u001b[0m \u001b[38;5;28;01mdef\u001b[39;00m \u001b[38;5;21m_get_splitter\u001b[39m(\u001b[38;5;28mself\u001b[39m, data: NDFrame, axis: \u001b[38;5;28mint\u001b[39m \u001b[38;5;241m=\u001b[39m \u001b[38;5;241m0\u001b[39m) \u001b[38;5;241m-\u001b[39m\u001b[38;5;241m>\u001b[39m DataSplitter:\n\u001b[1;32m    794\u001b[0m \u001b[38;5;250m    \u001b[39m\u001b[38;5;124;03m\"\"\"\u001b[39;00m\n\u001b[1;32m    795\u001b[0m \u001b[38;5;124;03m    Returns\u001b[39;00m\n\u001b[1;32m    796\u001b[0m \u001b[38;5;124;03m    -------\u001b[39;00m\n\u001b[1;32m    797\u001b[0m \u001b[38;5;124;03m    Generator yielding subsetted objects\u001b[39;00m\n\u001b[1;32m    798\u001b[0m \u001b[38;5;124;03m    \"\"\"\u001b[39;00m\n\u001b[0;32m--> 799\u001b[0m     ids, _, ngroups \u001b[38;5;241m=\u001b[39m \u001b[38;5;28mself\u001b[39m\u001b[38;5;241m.\u001b[39mgroup_info\n\u001b[1;32m    800\u001b[0m     \u001b[38;5;28;01mreturn\u001b[39;00m get_splitter(data, ids, ngroups, axis\u001b[38;5;241m=\u001b[39maxis)\n",
      "File \u001b[0;32m~/anaconda3/lib/python3.11/site-packages/pandas/_libs/properties.pyx:36\u001b[0m, in \u001b[0;36mpandas._libs.properties.CachedProperty.__get__\u001b[0;34m()\u001b[0m\n",
      "File \u001b[0;32m~/anaconda3/lib/python3.11/site-packages/pandas/core/groupby/ops.py:946\u001b[0m, in \u001b[0;36mBaseGrouper.group_info\u001b[0;34m(self)\u001b[0m\n\u001b[1;32m    944\u001b[0m \u001b[38;5;129m@cache_readonly\u001b[39m\n\u001b[1;32m    945\u001b[0m \u001b[38;5;28;01mdef\u001b[39;00m \u001b[38;5;21mgroup_info\u001b[39m(\u001b[38;5;28mself\u001b[39m) \u001b[38;5;241m-\u001b[39m\u001b[38;5;241m>\u001b[39m \u001b[38;5;28mtuple\u001b[39m[npt\u001b[38;5;241m.\u001b[39mNDArray[np\u001b[38;5;241m.\u001b[39mintp], npt\u001b[38;5;241m.\u001b[39mNDArray[np\u001b[38;5;241m.\u001b[39mintp], \u001b[38;5;28mint\u001b[39m]:\n\u001b[0;32m--> 946\u001b[0m     comp_ids, obs_group_ids \u001b[38;5;241m=\u001b[39m \u001b[38;5;28mself\u001b[39m\u001b[38;5;241m.\u001b[39m_get_compressed_codes()\n\u001b[1;32m    948\u001b[0m     ngroups \u001b[38;5;241m=\u001b[39m \u001b[38;5;28mlen\u001b[39m(obs_group_ids)\n\u001b[1;32m    949\u001b[0m     comp_ids \u001b[38;5;241m=\u001b[39m ensure_platform_int(comp_ids)\n",
      "File \u001b[0;32m~/anaconda3/lib/python3.11/site-packages/pandas/core/groupby/ops.py:977\u001b[0m, in \u001b[0;36mBaseGrouper._get_compressed_codes\u001b[0;34m(self)\u001b[0m\n\u001b[1;32m    974\u001b[0m     \u001b[38;5;66;03m# FIXME: compress_group_index's second return value is int64, not intp\u001b[39;00m\n\u001b[1;32m    976\u001b[0m ping \u001b[38;5;241m=\u001b[39m \u001b[38;5;28mself\u001b[39m\u001b[38;5;241m.\u001b[39mgroupings[\u001b[38;5;241m0\u001b[39m]\n\u001b[0;32m--> 977\u001b[0m \u001b[38;5;28;01mreturn\u001b[39;00m ping\u001b[38;5;241m.\u001b[39mcodes, np\u001b[38;5;241m.\u001b[39marange(\u001b[38;5;28mlen\u001b[39m(ping\u001b[38;5;241m.\u001b[39mgroup_index), dtype\u001b[38;5;241m=\u001b[39mnp\u001b[38;5;241m.\u001b[39mintp)\n",
      "File \u001b[0;32m~/anaconda3/lib/python3.11/site-packages/pandas/core/groupby/grouper.py:621\u001b[0m, in \u001b[0;36mGrouping.codes\u001b[0;34m(self)\u001b[0m\n\u001b[1;32m    617\u001b[0m \u001b[38;5;28;01mif\u001b[39;00m \u001b[38;5;28mself\u001b[39m\u001b[38;5;241m.\u001b[39m_codes \u001b[38;5;129;01mis\u001b[39;00m \u001b[38;5;129;01mnot\u001b[39;00m \u001b[38;5;28;01mNone\u001b[39;00m:\n\u001b[1;32m    618\u001b[0m     \u001b[38;5;66;03m# _codes is set in __init__ for MultiIndex cases\u001b[39;00m\n\u001b[1;32m    619\u001b[0m     \u001b[38;5;28;01mreturn\u001b[39;00m \u001b[38;5;28mself\u001b[39m\u001b[38;5;241m.\u001b[39m_codes\n\u001b[0;32m--> 621\u001b[0m \u001b[38;5;28;01mreturn\u001b[39;00m \u001b[38;5;28mself\u001b[39m\u001b[38;5;241m.\u001b[39m_codes_and_uniques[\u001b[38;5;241m0\u001b[39m]\n",
      "File \u001b[0;32m~/anaconda3/lib/python3.11/site-packages/pandas/_libs/properties.pyx:36\u001b[0m, in \u001b[0;36mpandas._libs.properties.CachedProperty.__get__\u001b[0;34m()\u001b[0m\n",
      "File \u001b[0;32m~/anaconda3/lib/python3.11/site-packages/pandas/core/groupby/grouper.py:692\u001b[0m, in \u001b[0;36mGrouping._codes_and_uniques\u001b[0;34m(self)\u001b[0m\n\u001b[1;32m    685\u001b[0m     uniques \u001b[38;5;241m=\u001b[39m (\n\u001b[1;32m    686\u001b[0m         \u001b[38;5;28mself\u001b[39m\u001b[38;5;241m.\u001b[39mgrouping_vector\u001b[38;5;241m.\u001b[39mresult_index\u001b[38;5;241m.\u001b[39m_values  \u001b[38;5;66;03m# type: ignore[assignment]\u001b[39;00m\n\u001b[1;32m    687\u001b[0m     )\n\u001b[1;32m    688\u001b[0m \u001b[38;5;28;01melse\u001b[39;00m:\n\u001b[1;32m    689\u001b[0m     \u001b[38;5;66;03m# GH35667, replace dropna=False with use_na_sentinel=False\u001b[39;00m\n\u001b[1;32m    690\u001b[0m     \u001b[38;5;66;03m# error: Incompatible types in assignment (expression has type \"Union[\u001b[39;00m\n\u001b[1;32m    691\u001b[0m     \u001b[38;5;66;03m# ndarray[Any, Any], Index]\", variable has type \"Categorical\")\u001b[39;00m\n\u001b[0;32m--> 692\u001b[0m     codes, uniques \u001b[38;5;241m=\u001b[39m algorithms\u001b[38;5;241m.\u001b[39mfactorize(  \u001b[38;5;66;03m# type: ignore[assignment]\u001b[39;00m\n\u001b[1;32m    693\u001b[0m         \u001b[38;5;28mself\u001b[39m\u001b[38;5;241m.\u001b[39mgrouping_vector, sort\u001b[38;5;241m=\u001b[39m\u001b[38;5;28mself\u001b[39m\u001b[38;5;241m.\u001b[39m_sort, use_na_sentinel\u001b[38;5;241m=\u001b[39m\u001b[38;5;28mself\u001b[39m\u001b[38;5;241m.\u001b[39m_dropna\n\u001b[1;32m    694\u001b[0m     )\n\u001b[1;32m    695\u001b[0m \u001b[38;5;28;01mreturn\u001b[39;00m codes, uniques\n",
      "File \u001b[0;32m~/anaconda3/lib/python3.11/site-packages/pandas/core/algorithms.py:822\u001b[0m, in \u001b[0;36mfactorize\u001b[0;34m(values, sort, na_sentinel, use_na_sentinel, size_hint)\u001b[0m\n\u001b[1;32m    819\u001b[0m             \u001b[38;5;66;03m# Don't modify (potentially user-provided) array\u001b[39;00m\n\u001b[1;32m    820\u001b[0m             values \u001b[38;5;241m=\u001b[39m np\u001b[38;5;241m.\u001b[39mwhere(null_mask, na_value, values)\n\u001b[0;32m--> 822\u001b[0m     codes, uniques \u001b[38;5;241m=\u001b[39m factorize_array(\n\u001b[1;32m    823\u001b[0m         values,\n\u001b[1;32m    824\u001b[0m         na_sentinel\u001b[38;5;241m=\u001b[39mna_sentinel_arg,\n\u001b[1;32m    825\u001b[0m         size_hint\u001b[38;5;241m=\u001b[39msize_hint,\n\u001b[1;32m    826\u001b[0m     )\n\u001b[1;32m    828\u001b[0m \u001b[38;5;28;01mif\u001b[39;00m sort \u001b[38;5;129;01mand\u001b[39;00m \u001b[38;5;28mlen\u001b[39m(uniques) \u001b[38;5;241m>\u001b[39m \u001b[38;5;241m0\u001b[39m:\n\u001b[1;32m    829\u001b[0m     \u001b[38;5;28;01mif\u001b[39;00m na_sentinel \u001b[38;5;129;01mis\u001b[39;00m \u001b[38;5;28;01mNone\u001b[39;00m:\n\u001b[1;32m    830\u001b[0m         \u001b[38;5;66;03m# TODO: Can remove when na_sentinel=na_sentinel as in TODO above\u001b[39;00m\n",
      "File \u001b[0;32m~/anaconda3/lib/python3.11/site-packages/pandas/core/algorithms.py:578\u001b[0m, in \u001b[0;36mfactorize_array\u001b[0;34m(values, na_sentinel, size_hint, na_value, mask)\u001b[0m\n\u001b[1;32m    575\u001b[0m hash_klass, values \u001b[38;5;241m=\u001b[39m _get_hashtable_algo(values)\n\u001b[1;32m    577\u001b[0m table \u001b[38;5;241m=\u001b[39m hash_klass(size_hint \u001b[38;5;129;01mor\u001b[39;00m \u001b[38;5;28mlen\u001b[39m(values))\n\u001b[0;32m--> 578\u001b[0m uniques, codes \u001b[38;5;241m=\u001b[39m table\u001b[38;5;241m.\u001b[39mfactorize(\n\u001b[1;32m    579\u001b[0m     values,\n\u001b[1;32m    580\u001b[0m     na_sentinel\u001b[38;5;241m=\u001b[39mna_sentinel,\n\u001b[1;32m    581\u001b[0m     na_value\u001b[38;5;241m=\u001b[39mna_value,\n\u001b[1;32m    582\u001b[0m     mask\u001b[38;5;241m=\u001b[39mmask,\n\u001b[1;32m    583\u001b[0m     ignore_na\u001b[38;5;241m=\u001b[39mignore_na,\n\u001b[1;32m    584\u001b[0m )\n\u001b[1;32m    586\u001b[0m \u001b[38;5;66;03m# re-cast e.g. i8->dt64/td64, uint8->bool\u001b[39;00m\n\u001b[1;32m    587\u001b[0m uniques \u001b[38;5;241m=\u001b[39m _reconstruct_data(uniques, original\u001b[38;5;241m.\u001b[39mdtype, original)\n",
      "\u001b[0;31mKeyboardInterrupt\u001b[0m: "
     ]
    },
    {
     "data": {
      "image/png": "[encoded data removed]",
      "text/plain": [
       "<Figure size 640x480 with 1 Axes>"
      ]
     },
     "metadata": {},
     "output_type": "display_data"
    }
   ],
   "source": [
    "# creating line chart for 'big' sample\n",
    "\n",
    "line_2 = sns.lineplot(data = df_3, x = 'orders_day_of_the_week', y = 'prices')"
   ]
  },
  {
   "cell_type": "code",
   "execution_count": 44,
   "id": "e88626d1",
   "metadata": {},
   "outputs": [],
   "source": [
    "# export line sample\n",
    "line_reading.figure.savefig(os.path.join(path, '04 Analysis','Visualizations','from reading exercise', 'line_order_value_reading_exercise.png'))\n"
   ]
  },
  {
   "cell_type": "code",
   "execution_count": null,
   "id": "35a1f2cc",
   "metadata": {},
   "outputs": [],
   "source": [
    "# exporting ords_pros_new\n",
    "ords_prods_new.to_pickle(os.path.join(path, '02 Data', 'Prepared Data', 'ords_prods_new.pkl'))\n",
    "\n"
   ]
  },
  {
   "cell_type": "code",
   "execution_count": null,
   "id": "09de745a",
   "metadata": {},
   "outputs": [],
   "source": []
  }
 ],
 "metadata": {
  "kernelspec": {
   "display_name": "Python 3 (ipykernel)",
   "language": "python",
   "name": "python3"
  },
  "language_info": {
   "codemirror_mode": {
    "name": "ipython",
    "version": 3
   },
   "file_extension": ".py",
   "mimetype": "text/x-python",
   "name": "python",
   "nbconvert_exporter": "python",
   "pygments_lexer": "ipython3",
   "version": "3.11.3"
  }
 },
 "nbformat": 4,
 "nbformat_minor": 5
}
