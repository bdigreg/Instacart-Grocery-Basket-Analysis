{
 "cells": [
  {
   "cell_type": "markdown",
   "id": "64108c17",
   "metadata": {},
   "source": [
    "# 01. Importing libraries"
   ]
  },
  {
   "cell_type": "code",
   "execution_count": 1,
   "id": "96519ea0",
   "metadata": {},
   "outputs": [],
   "source": [
    "#Import libraries\n",
    "import pandas as pd\n",
    "import numpy as np\n",
    "import os"
   ]
  },
  {
   "cell_type": "markdown",
   "id": "6a39eaaf",
   "metadata": {},
   "source": [
    "# 02.  Data types"
   ]
  },
  {
   "cell_type": "code",
   "execution_count": null,
   "id": "0ef5c325",
   "metadata": {},
   "outputs": [],
   "source": [
    "# adding and subtracting numeric variables"
   ]
  },
  {
   "cell_type": "code",
   "execution_count": 3,
   "id": "c66c514c",
   "metadata": {},
   "outputs": [],
   "source": [
    "x = 75"
   ]
  },
  {
   "cell_type": "code",
   "execution_count": 4,
   "id": "af5d0e6c",
   "metadata": {},
   "outputs": [],
   "source": [
    "y = 25"
   ]
  },
  {
   "cell_type": "code",
   "execution_count": 5,
   "id": "0b1f3ea0",
   "metadata": {},
   "outputs": [
    {
     "data": {
      "text/plain": [
       "100"
      ]
     },
     "execution_count": 5,
     "metadata": {},
     "output_type": "execute_result"
    }
   ],
   "source": [
    "x+y"
   ]
  },
  {
   "cell_type": "code",
   "execution_count": 6,
   "id": "d19d873c",
   "metadata": {},
   "outputs": [],
   "source": [
    "x = x+50"
   ]
  },
  {
   "cell_type": "code",
   "execution_count": 8,
   "id": "38debf4e",
   "metadata": {},
   "outputs": [
    {
     "name": "stdout",
     "output_type": "stream",
     "text": [
      "125\n"
     ]
    }
   ],
   "source": [
    "print(x)"
   ]
  },
  {
   "cell_type": "code",
   "execution_count": 7,
   "id": "b63df26b",
   "metadata": {},
   "outputs": [
    {
     "data": {
      "text/plain": [
       "100"
      ]
     },
     "execution_count": 7,
     "metadata": {},
     "output_type": "execute_result"
    }
   ],
   "source": [
    "x - y"
   ]
  },
  {
   "cell_type": "code",
   "execution_count": 9,
   "id": "59153dfe",
   "metadata": {},
   "outputs": [],
   "source": [
    "y=y+200"
   ]
  },
  {
   "cell_type": "code",
   "execution_count": 10,
   "id": "cd800d8e",
   "metadata": {},
   "outputs": [
    {
     "name": "stdout",
     "output_type": "stream",
     "text": [
      "225\n"
     ]
    }
   ],
   "source": [
    "print(y)"
   ]
  },
  {
   "cell_type": "code",
   "execution_count": 11,
   "id": "9d594925",
   "metadata": {},
   "outputs": [
    {
     "data": {
      "text/plain": [
       "100"
      ]
     },
     "execution_count": 11,
     "metadata": {},
     "output_type": "execute_result"
    }
   ],
   "source": [
    "y - x"
   ]
  },
  {
   "cell_type": "code",
   "execution_count": 12,
   "id": "73c07229",
   "metadata": {},
   "outputs": [],
   "source": [
    "# floating-point variables"
   ]
  },
  {
   "cell_type": "code",
   "execution_count": 13,
   "id": "da867ba5",
   "metadata": {},
   "outputs": [],
   "source": [
    "a = 3.25"
   ]
  },
  {
   "cell_type": "code",
   "execution_count": 14,
   "id": "061090de",
   "metadata": {},
   "outputs": [],
   "source": [
    "b = 1.5"
   ]
  },
  {
   "cell_type": "code",
   "execution_count": 15,
   "id": "59175ad3",
   "metadata": {},
   "outputs": [
    {
     "data": {
      "text/plain": [
       "2.1666666666666665"
      ]
     },
     "execution_count": 15,
     "metadata": {},
     "output_type": "execute_result"
    }
   ],
   "source": [
    "a / b"
   ]
  },
  {
   "cell_type": "code",
   "execution_count": 16,
   "id": "226730a1",
   "metadata": {},
   "outputs": [],
   "source": [
    "a = a + 1"
   ]
  },
  {
   "cell_type": "code",
   "execution_count": 17,
   "id": "a89b991c",
   "metadata": {},
   "outputs": [
    {
     "name": "stdout",
     "output_type": "stream",
     "text": [
      "4.25\n"
     ]
    }
   ],
   "source": [
    "print(a)"
   ]
  },
  {
   "cell_type": "code",
   "execution_count": 18,
   "id": "b80c773c",
   "metadata": {},
   "outputs": [],
   "source": [
    "b = b -2"
   ]
  },
  {
   "cell_type": "code",
   "execution_count": 19,
   "id": "59ce2bc4",
   "metadata": {},
   "outputs": [
    {
     "name": "stdout",
     "output_type": "stream",
     "text": [
      "-0.5\n"
     ]
    }
   ],
   "source": [
    "print(b)"
   ]
  },
  {
   "cell_type": "code",
   "execution_count": 20,
   "id": "868bdb9c",
   "metadata": {},
   "outputs": [
    {
     "data": {
      "text/plain": [
       "-8.5"
      ]
     },
     "execution_count": 20,
     "metadata": {},
     "output_type": "execute_result"
    }
   ],
   "source": [
    "a / b"
   ]
  },
  {
   "cell_type": "code",
   "execution_count": 21,
   "id": "40cc319a",
   "metadata": {},
   "outputs": [],
   "source": [
    "e = 's'"
   ]
  },
  {
   "cell_type": "code",
   "execution_count": 22,
   "id": "c573124b",
   "metadata": {},
   "outputs": [],
   "source": [
    "f = 'k'"
   ]
  },
  {
   "cell_type": "code",
   "execution_count": 23,
   "id": "39382229",
   "metadata": {},
   "outputs": [],
   "source": [
    "g = 'y'"
   ]
  },
  {
   "cell_type": "code",
   "execution_count": 24,
   "id": "735e3de7",
   "metadata": {},
   "outputs": [
    {
     "data": {
      "text/plain": [
       "'sky'"
      ]
     },
     "execution_count": 24,
     "metadata": {},
     "output_type": "execute_result"
    }
   ],
   "source": [
    "e + f + g"
   ]
  },
  {
   "cell_type": "code",
   "execution_count": 25,
   "id": "b481c311",
   "metadata": {},
   "outputs": [],
   "source": [
    "h = 'Have a'"
   ]
  },
  {
   "cell_type": "code",
   "execution_count": 28,
   "id": "78ca62b5",
   "metadata": {},
   "outputs": [],
   "source": [
    "i = ' good day!'"
   ]
  },
  {
   "cell_type": "code",
   "execution_count": 29,
   "id": "dbac7a7b",
   "metadata": {},
   "outputs": [
    {
     "data": {
      "text/plain": [
       "'Have a good day!'"
      ]
     },
     "execution_count": 29,
     "metadata": {},
     "output_type": "execute_result"
    }
   ],
   "source": [
    "h + i"
   ]
  },
  {
   "cell_type": "code",
   "execution_count": 39,
   "id": "d6fc1b6c",
   "metadata": {},
   "outputs": [],
   "source": [
    "j = 'It '"
   ]
  },
  {
   "cell_type": "code",
   "execution_count": 40,
   "id": "ac3d7602",
   "metadata": {},
   "outputs": [],
   "source": [
    "k = 'will '"
   ]
  },
  {
   "cell_type": "code",
   "execution_count": 44,
   "id": "3011d943",
   "metadata": {},
   "outputs": [],
   "source": [
    "l = 'not '"
   ]
  },
  {
   "cell_type": "code",
   "execution_count": 45,
   "id": "54d3399d",
   "metadata": {},
   "outputs": [],
   "source": [
    "m = 'rain'"
   ]
  },
  {
   "cell_type": "code",
   "execution_count": 46,
   "id": "3b52e59b",
   "metadata": {},
   "outputs": [
    {
     "data": {
      "text/plain": [
       "'It will not rain'"
      ]
     },
     "execution_count": 46,
     "metadata": {},
     "output_type": "execute_result"
    }
   ],
   "source": [
    "j + k + l + m"
   ]
  },
  {
   "cell_type": "markdown",
   "id": "2e614339",
   "metadata": {},
   "source": [
    "# Bonus task"
   ]
  },
  {
   "cell_type": "code",
   "execution_count": 47,
   "id": "47346713",
   "metadata": {},
   "outputs": [
    {
     "data": {
      "text/plain": [
       "'It will not rainIt will not rainIt will not rainIt will not rainIt will not rainIt will not rainIt will not rainIt will not rainIt will not rainIt will not rainIt will not rainIt will not rainIt will not rainIt will not rainIt will not rainIt will not rainIt will not rainIt will not rainIt will not rainIt will not rainIt will not rainIt will not rainIt will not rainIt will not rainIt will not rainIt will not rainIt will not rainIt will not rainIt will not rainIt will not rainIt will not rainIt will not rainIt will not rainIt will not rainIt will not rainIt will not rainIt will not rainIt will not rainIt will not rainIt will not rainIt will not rainIt will not rainIt will not rainIt will not rainIt will not rainIt will not rainIt will not rainIt will not rainIt will not rainIt will not rainIt will not rainIt will not rainIt will not rainIt will not rainIt will not rainIt will not rainIt will not rainIt will not rainIt will not rainIt will not rainIt will not rainIt will not rainIt will not rainIt will not rainIt will not rainIt will not rainIt will not rainIt will not rainIt will not rainIt will not rainIt will not rainIt will not rainIt will not rainIt will not rainIt will not rainIt will not rainIt will not rainIt will not rainIt will not rainIt will not rainIt will not rainIt will not rainIt will not rainIt will not rainIt will not rainIt will not rainIt will not rainIt will not rainIt will not rainIt will not rainIt will not rainIt will not rainIt will not rainIt will not rainIt will not rainIt will not rainIt will not rainIt will not rainIt will not rainIt will not rain'"
      ]
     },
     "execution_count": 47,
     "metadata": {},
     "output_type": "execute_result"
    }
   ],
   "source": [
    "(j + k + l + m) * 100"
   ]
  },
  {
   "cell_type": "code",
   "execution_count": null,
   "id": "93042776",
   "metadata": {},
   "outputs": [],
   "source": []
  }
 ],
 "metadata": {
  "kernelspec": {
   "display_name": "Python 3 (ipykernel)",
   "language": "python",
   "name": "python3"
  },
  "language_info": {
   "codemirror_mode": {
    "name": "ipython",
    "version": 3
   },
   "file_extension": ".py",
   "mimetype": "text/x-python",
   "name": "python",
   "nbconvert_exporter": "python",
   "pygments_lexer": "ipython3",
   "version": "3.11.3"
  }
 },
 "nbformat": 4,
 "nbformat_minor": 5
}
